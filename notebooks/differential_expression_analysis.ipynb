{
 "cells": [
  {
   "cell_type": "markdown",
   "id": "5c2588ea-08ce-46d9-a4fc-a2ad2967fcfe",
   "metadata": {},
   "source": [
    "# Differential expression analysis\n",
    "In this notebook we'll use `PyDESeq2` to perform differential expression analysis on the RNAseq data. We're going to follow [this tutorial](https://pydeseq2.readthedocs.io/en/stable/auto_examples/plot_minimal_pydeseq2_pipeline.html)."
   ]
  },
  {
   "cell_type": "code",
   "execution_count": 13,
   "id": "e1cad104-5867-43ec-8458-725b07380175",
   "metadata": {},
   "outputs": [],
   "source": [
    "from os import listdir\n",
    "import pandas as pd\n",
    "import numpy as np\n",
    "from functools import reduce\n",
    "from pytximport import tximport\n",
    "from pydeseq2.dds import DeseqDataSet\n",
    "from pydeseq2.default_inference import DefaultInference\n",
    "from pydeseq2.ds import DeseqStats\n",
    "from pydeseq2.utils import load_example_data\n",
    "from sklearn.decomposition import PCA\n",
    "import matplotlib.pyplot as plt\n",
    "from collections import defaultdict"
   ]
  },
  {
   "cell_type": "markdown",
   "id": "79a9e254-f153-424c-b703-4542de7b9021",
   "metadata": {},
   "source": [
    "## Data pre-processing\n",
    "Read in counts matrices:"
   ]
  },
  {
   "cell_type": "code",
   "execution_count": 14,
   "id": "2394061a-36e6-4854-9cf5-b2cefa55c1dc",
   "metadata": {},
   "outputs": [],
   "source": [
    "kallisto_output_dir = '../data/kallisto_quant_bs'\n",
    "sample_names = [\"1h_2o2_e\",\"1h_2o2_b\",\"1h_2o2_c\",\"1h_2o2_d\",\n",
    "\"1h_21o2_a\",\"1h_21o2_b\",\"1h_21o2_c\",\"1h_21o2_d\",\n",
    "\"1h_40o2_a\",\"1h_40o2_b\",\"1h_40o2_c\",\"1h_40o2_d\",\n",
    "\"7h_2o2_a\",\"7h_2o2_b\",\"7h_2o2_c\",\"7h_2o2_d\",\n",
    "\"7h_21o2_a\",\"7h_21o2_b\",\"7h_21o2_c\",\"7h_21o2_d\",\n",
    "\"7h_40o2_a\",\"7h_40o2_b\",\"7h_40o2_c\",\"7h_40o2_d\"]\n",
    "abundance_files = [f'{kallisto_output_dir}/{samp}/abundance.tsv' for samp in sample_names]"
   ]
  },
  {
   "cell_type": "code",
   "execution_count": 33,
   "id": "d6769602-7301-4332-8dc1-8ca66ad1c911",
   "metadata": {},
   "outputs": [
    {
     "data": {
      "text/html": [
       "<div>\n",
       "<style scoped>\n",
       "    .dataframe tbody tr th:only-of-type {\n",
       "        vertical-align: middle;\n",
       "    }\n",
       "\n",
       "    .dataframe tbody tr th {\n",
       "        vertical-align: top;\n",
       "    }\n",
       "\n",
       "    .dataframe thead th {\n",
       "        text-align: right;\n",
       "    }\n",
       "</style>\n",
       "<table border=\"1\" class=\"dataframe\">\n",
       "  <thead>\n",
       "    <tr style=\"text-align: right;\">\n",
       "      <th></th>\n",
       "      <th>transcript_id</th>\n",
       "      <th>gene_id</th>\n",
       "    </tr>\n",
       "  </thead>\n",
       "  <tbody>\n",
       "    <tr>\n",
       "      <th>0</th>\n",
       "      <td>AT1G01010.1</td>\n",
       "      <td>AT1G01010</td>\n",
       "    </tr>\n",
       "    <tr>\n",
       "      <th>1</th>\n",
       "      <td>AT1G01010.2</td>\n",
       "      <td>AT1G01010</td>\n",
       "    </tr>\n",
       "    <tr>\n",
       "      <th>2</th>\n",
       "      <td>AT1G01010.3</td>\n",
       "      <td>AT1G01010</td>\n",
       "    </tr>\n",
       "    <tr>\n",
       "      <th>3</th>\n",
       "      <td>AT1G01020.11</td>\n",
       "      <td>AT1G01020</td>\n",
       "    </tr>\n",
       "    <tr>\n",
       "      <th>4</th>\n",
       "      <td>AT1G01020.13</td>\n",
       "      <td>AT1G01020</td>\n",
       "    </tr>\n",
       "  </tbody>\n",
       "</table>\n",
       "</div>"
      ],
      "text/plain": [
       "  transcript_id    gene_id\n",
       "0   AT1G01010.1  AT1G01010\n",
       "1   AT1G01010.2  AT1G01010\n",
       "2   AT1G01010.3  AT1G01010\n",
       "3  AT1G01020.11  AT1G01020\n",
       "4  AT1G01020.13  AT1G01020"
      ]
     },
     "execution_count": 33,
     "metadata": {},
     "output_type": "execute_result"
    }
   ],
   "source": [
    "tx2gene = pd.read_csv('../data/AtRTD3_gene_transcript.csv').rename(columns={'TXNAME': 'transcript_id', 'GENEID':'gene_id'})\n",
    "tx2gene.head()"
   ]
  },
  {
   "cell_type": "code",
   "execution_count": 19,
   "id": "f5cfbc60-705f-4928-b995-9cb0b50f1848",
   "metadata": {},
   "outputs": [
    {
     "name": "stderr",
     "output_type": "stream",
     "text": [
      "WARNING:root:The transcript to gene mapping contains duplicates. Removing duplicates.\n",
      "Reading quantification files: 24it [00:01, 12.61it/s]\n",
      "/mnt/home/lotrecks/.conda/envs/omics/lib/python3.10/site-packages/pytximport/utils/_remove_transcript_version.py:30: SettingWithCopyWarning: \n",
      "A value is trying to be set on a copy of a slice from a DataFrame.\n",
      "Try using .loc[row_indexer,col_indexer] = value instead\n",
      "\n",
      "See the caveats in the documentation: https://pandas.pydata.org/pandas-docs/stable/user_guide/indexing.html#returning-a-view-versus-a-copy\n",
      "  transcript_target_map[id_column] = transcript_target_map[id_column].str.split(\".\").str[0]\n"
     ]
    }
   ],
   "source": [
    "abundance_res = tximport(\n",
    "    abundance_files,\n",
    "    data_type=\"kallisto\",\n",
    "    transcript_gene_map=tx2gene,\n",
    "    id_column='target_id',\n",
    "    counts_column='est_counts',\n",
    "    length_column='eff_length',\n",
    "    abundance_column='tpm'\n",
    ")"
   ]
  },
  {
   "cell_type": "markdown",
   "id": "2c620ba5-53ea-4faf-8c51-2e52fcf9ece9",
   "metadata": {},
   "source": [
    "#### NOTE:\n",
    "Currently, pytximport and PyDESeq2 are not compatible the way the R implementations are, so I can't directly pipeline this tximport output into DESeq2 here. There [has been discussion](https://github.com/owkin/PyDESeq2/issues/359) about implementing this pipelining ability, but as of yet there hasn't been any work done on it. For now, in order to run the PCA and DE code in this notebook, a simpler method of reading in the abundances and adding the transcript together at the per gene level can be used (and is inplemented below); however, this produces drastically different results than using the normalization factors computed by tximport, and therefore the results can't be trusted. However, I've left the code below for the sake of being able to at least run the notebook until the pipelining between the packages is implemented."
   ]
  },
  {
   "cell_type": "code",
   "execution_count": 26,
   "id": "f3ce80f0-5967-4e48-bcd5-aa794157e97b",
   "metadata": {},
   "outputs": [],
   "source": [
    "abundance_dfs = {}\n",
    "for d in listdir(kallisto_output_dir):\n",
    "    abundance_dfs[d] = pd.read_csv(f'{kallisto_output_dir}/{d}/abundance.tsv', sep='\\t')"
   ]
  },
  {
   "cell_type": "markdown",
   "id": "ddc9a1c8-3cef-47a1-925d-5eea35cb15c5",
   "metadata": {},
   "source": [
    "Merge counts matrices into the format expected by DESeq2:"
   ]
  },
  {
   "cell_type": "code",
   "execution_count": 27,
   "id": "59486355-b288-4431-a3ce-eee334c09339",
   "metadata": {},
   "outputs": [
    {
     "data": {
      "text/html": [
       "<div>\n",
       "<style scoped>\n",
       "    .dataframe tbody tr th:only-of-type {\n",
       "        vertical-align: middle;\n",
       "    }\n",
       "\n",
       "    .dataframe tbody tr th {\n",
       "        vertical-align: top;\n",
       "    }\n",
       "\n",
       "    .dataframe thead th {\n",
       "        text-align: right;\n",
       "    }\n",
       "</style>\n",
       "<table border=\"1\" class=\"dataframe\">\n",
       "  <thead>\n",
       "    <tr style=\"text-align: right;\">\n",
       "      <th>target_id</th>\n",
       "      <th>AT1G01010.1</th>\n",
       "      <th>AT1G01010.2</th>\n",
       "      <th>AT1G01010.3</th>\n",
       "      <th>AT1G01020.11</th>\n",
       "      <th>AT1G01020.13</th>\n",
       "      <th>AT1G01020.14</th>\n",
       "      <th>AT1G01020.15</th>\n",
       "      <th>AT1G01020.16</th>\n",
       "      <th>AT1G01020.17</th>\n",
       "      <th>AT1G01020.18</th>\n",
       "      <th>...</th>\n",
       "      <th>ATMG09960.1</th>\n",
       "      <th>ATMG01360.1</th>\n",
       "      <th>ATMG09980.1</th>\n",
       "      <th>ATMG01370.1</th>\n",
       "      <th>ATMG01380.1</th>\n",
       "      <th>ATMG01390.1</th>\n",
       "      <th>G38195.1</th>\n",
       "      <th>ATMG01400.1</th>\n",
       "      <th>G38197.1</th>\n",
       "      <th>ATMG01410.1</th>\n",
       "    </tr>\n",
       "  </thead>\n",
       "  <tbody>\n",
       "    <tr>\n",
       "      <th>7h_21o2_c</th>\n",
       "      <td>2</td>\n",
       "      <td>14</td>\n",
       "      <td>10</td>\n",
       "      <td>51</td>\n",
       "      <td>64</td>\n",
       "      <td>0</td>\n",
       "      <td>0</td>\n",
       "      <td>21</td>\n",
       "      <td>0</td>\n",
       "      <td>0</td>\n",
       "      <td>...</td>\n",
       "      <td>6</td>\n",
       "      <td>9217</td>\n",
       "      <td>30</td>\n",
       "      <td>1459</td>\n",
       "      <td>0</td>\n",
       "      <td>970</td>\n",
       "      <td>0</td>\n",
       "      <td>4</td>\n",
       "      <td>0</td>\n",
       "      <td>17</td>\n",
       "    </tr>\n",
       "    <tr>\n",
       "      <th>1h_40o2_b</th>\n",
       "      <td>0</td>\n",
       "      <td>0</td>\n",
       "      <td>14</td>\n",
       "      <td>72</td>\n",
       "      <td>13</td>\n",
       "      <td>23</td>\n",
       "      <td>9</td>\n",
       "      <td>16</td>\n",
       "      <td>0</td>\n",
       "      <td>0</td>\n",
       "      <td>...</td>\n",
       "      <td>1</td>\n",
       "      <td>6944</td>\n",
       "      <td>5</td>\n",
       "      <td>1162</td>\n",
       "      <td>0</td>\n",
       "      <td>765</td>\n",
       "      <td>0</td>\n",
       "      <td>10</td>\n",
       "      <td>0</td>\n",
       "      <td>10</td>\n",
       "    </tr>\n",
       "    <tr>\n",
       "      <th>1h_40o2_d</th>\n",
       "      <td>6</td>\n",
       "      <td>0</td>\n",
       "      <td>9</td>\n",
       "      <td>0</td>\n",
       "      <td>64</td>\n",
       "      <td>4</td>\n",
       "      <td>10</td>\n",
       "      <td>12</td>\n",
       "      <td>13</td>\n",
       "      <td>0</td>\n",
       "      <td>...</td>\n",
       "      <td>6</td>\n",
       "      <td>5660</td>\n",
       "      <td>12</td>\n",
       "      <td>967</td>\n",
       "      <td>1</td>\n",
       "      <td>733</td>\n",
       "      <td>0</td>\n",
       "      <td>11</td>\n",
       "      <td>0</td>\n",
       "      <td>5</td>\n",
       "    </tr>\n",
       "    <tr>\n",
       "      <th>7h_2o2_b</th>\n",
       "      <td>0</td>\n",
       "      <td>0</td>\n",
       "      <td>17</td>\n",
       "      <td>51</td>\n",
       "      <td>69</td>\n",
       "      <td>6</td>\n",
       "      <td>6</td>\n",
       "      <td>0</td>\n",
       "      <td>0</td>\n",
       "      <td>0</td>\n",
       "      <td>...</td>\n",
       "      <td>3</td>\n",
       "      <td>7925</td>\n",
       "      <td>11</td>\n",
       "      <td>1430</td>\n",
       "      <td>0</td>\n",
       "      <td>805</td>\n",
       "      <td>0</td>\n",
       "      <td>18</td>\n",
       "      <td>0</td>\n",
       "      <td>31</td>\n",
       "    </tr>\n",
       "    <tr>\n",
       "      <th>7h_2o2_a</th>\n",
       "      <td>0</td>\n",
       "      <td>33</td>\n",
       "      <td>0</td>\n",
       "      <td>31</td>\n",
       "      <td>101</td>\n",
       "      <td>23</td>\n",
       "      <td>4</td>\n",
       "      <td>0</td>\n",
       "      <td>27</td>\n",
       "      <td>13</td>\n",
       "      <td>...</td>\n",
       "      <td>0</td>\n",
       "      <td>8622</td>\n",
       "      <td>12</td>\n",
       "      <td>1792</td>\n",
       "      <td>1</td>\n",
       "      <td>871</td>\n",
       "      <td>0</td>\n",
       "      <td>14</td>\n",
       "      <td>0</td>\n",
       "      <td>27</td>\n",
       "    </tr>\n",
       "  </tbody>\n",
       "</table>\n",
       "<p>5 rows × 169503 columns</p>\n",
       "</div>"
      ],
      "text/plain": [
       "target_id  AT1G01010.1  AT1G01010.2  AT1G01010.3  AT1G01020.11  AT1G01020.13  \\\n",
       "7h_21o2_c            2           14           10            51            64   \n",
       "1h_40o2_b            0            0           14            72            13   \n",
       "1h_40o2_d            6            0            9             0            64   \n",
       "7h_2o2_b             0            0           17            51            69   \n",
       "7h_2o2_a             0           33            0            31           101   \n",
       "\n",
       "target_id  AT1G01020.14  AT1G01020.15  AT1G01020.16  AT1G01020.17  \\\n",
       "7h_21o2_c             0             0            21             0   \n",
       "1h_40o2_b            23             9            16             0   \n",
       "1h_40o2_d             4            10            12            13   \n",
       "7h_2o2_b              6             6             0             0   \n",
       "7h_2o2_a             23             4             0            27   \n",
       "\n",
       "target_id  AT1G01020.18  ...  ATMG09960.1  ATMG01360.1  ATMG09980.1  \\\n",
       "7h_21o2_c             0  ...            6         9217           30   \n",
       "1h_40o2_b             0  ...            1         6944            5   \n",
       "1h_40o2_d             0  ...            6         5660           12   \n",
       "7h_2o2_b              0  ...            3         7925           11   \n",
       "7h_2o2_a             13  ...            0         8622           12   \n",
       "\n",
       "target_id  ATMG01370.1  ATMG01380.1  ATMG01390.1  G38195.1  ATMG01400.1  \\\n",
       "7h_21o2_c         1459            0          970         0            4   \n",
       "1h_40o2_b         1162            0          765         0           10   \n",
       "1h_40o2_d          967            1          733         0           11   \n",
       "7h_2o2_b          1430            0          805         0           18   \n",
       "7h_2o2_a          1792            1          871         0           14   \n",
       "\n",
       "target_id  G38197.1  ATMG01410.1  \n",
       "7h_21o2_c         0           17  \n",
       "1h_40o2_b         0           10  \n",
       "1h_40o2_d         0            5  \n",
       "7h_2o2_b          0           31  \n",
       "7h_2o2_a          0           27  \n",
       "\n",
       "[5 rows x 169503 columns]"
      ]
     },
     "execution_count": 27,
     "metadata": {},
     "output_type": "execute_result"
    }
   ],
   "source": [
    "counts_df = reduce(lambda x, y: pd.merge(x, y, on='target_id'), [df[['target_id', 'est_counts']].rename(columns={'est_counts': k}) for k, df in abundance_dfs.items()]).set_index('target_id').T\n",
    "counts_df = counts_df.astype('int')\n",
    "counts_df.head()"
   ]
  },
  {
   "cell_type": "markdown",
   "id": "ba46fd81-e3ed-4783-80f0-d7ef68cb70f1",
   "metadata": {},
   "source": [
    "We need to convert the transcript ID's into gene-level ID's. We have a csv file with a mapping loaded above that we just need to make into a dictionary of the correct format:"
   ]
  },
  {
   "cell_type": "code",
   "execution_count": 36,
   "id": "626b31eb-8513-4f3b-bbec-52105294bc86",
   "metadata": {},
   "outputs": [],
   "source": [
    "tx2gene_dict = tx2gene.set_index('transcript_id').to_dict()['gene_id']\n",
    "gene2tx = defaultdict(list)\n",
    "for k, v in tx2gene_dict.items():\n",
    "    gene2tx[v].append(k)"
   ]
  },
  {
   "cell_type": "code",
   "execution_count": 37,
   "id": "41cd63e5-758a-4df5-a2df-1a886489fc77",
   "metadata": {},
   "outputs": [],
   "source": [
    "combined_counts = {}\n",
    "for k, v in gene2tx.items():\n",
    "    combined_counts[k] = counts_df.loc[:, v].sum(axis=1)"
   ]
  },
  {
   "cell_type": "code",
   "execution_count": 38,
   "id": "7a262127-fe64-4dba-aa81-c16b143f966b",
   "metadata": {},
   "outputs": [
    {
     "data": {
      "text/html": [
       "<div>\n",
       "<style scoped>\n",
       "    .dataframe tbody tr th:only-of-type {\n",
       "        vertical-align: middle;\n",
       "    }\n",
       "\n",
       "    .dataframe tbody tr th {\n",
       "        vertical-align: top;\n",
       "    }\n",
       "\n",
       "    .dataframe thead th {\n",
       "        text-align: right;\n",
       "    }\n",
       "</style>\n",
       "<table border=\"1\" class=\"dataframe\">\n",
       "  <thead>\n",
       "    <tr style=\"text-align: right;\">\n",
       "      <th></th>\n",
       "      <th>AT1G01010</th>\n",
       "      <th>AT1G01020</th>\n",
       "      <th>AT1G03987</th>\n",
       "      <th>AT1G01030</th>\n",
       "      <th>AT1G01040</th>\n",
       "      <th>AT1G01040-AT1G01046</th>\n",
       "      <th>AT1G03993</th>\n",
       "      <th>AT1G01046</th>\n",
       "      <th>AT1G01050</th>\n",
       "      <th>AT1G01050-AT1G01060</th>\n",
       "      <th>...</th>\n",
       "      <th>ATMG09960</th>\n",
       "      <th>ATMG01360</th>\n",
       "      <th>ATMG09980</th>\n",
       "      <th>ATMG01370</th>\n",
       "      <th>ATMG01380</th>\n",
       "      <th>ATMG01390</th>\n",
       "      <th>G38195</th>\n",
       "      <th>ATMG01400</th>\n",
       "      <th>G38197</th>\n",
       "      <th>ATMG01410</th>\n",
       "    </tr>\n",
       "  </thead>\n",
       "  <tbody>\n",
       "    <tr>\n",
       "      <th>7h_21o2_c</th>\n",
       "      <td>26</td>\n",
       "      <td>160</td>\n",
       "      <td>2</td>\n",
       "      <td>60</td>\n",
       "      <td>27</td>\n",
       "      <td>170</td>\n",
       "      <td>0</td>\n",
       "      <td>0</td>\n",
       "      <td>290</td>\n",
       "      <td>0</td>\n",
       "      <td>...</td>\n",
       "      <td>6</td>\n",
       "      <td>9217</td>\n",
       "      <td>30</td>\n",
       "      <td>1459</td>\n",
       "      <td>0</td>\n",
       "      <td>970</td>\n",
       "      <td>0</td>\n",
       "      <td>4</td>\n",
       "      <td>0</td>\n",
       "      <td>17</td>\n",
       "    </tr>\n",
       "    <tr>\n",
       "      <th>1h_40o2_b</th>\n",
       "      <td>14</td>\n",
       "      <td>160</td>\n",
       "      <td>0</td>\n",
       "      <td>83</td>\n",
       "      <td>90</td>\n",
       "      <td>200</td>\n",
       "      <td>0</td>\n",
       "      <td>0</td>\n",
       "      <td>399</td>\n",
       "      <td>0</td>\n",
       "      <td>...</td>\n",
       "      <td>1</td>\n",
       "      <td>6944</td>\n",
       "      <td>5</td>\n",
       "      <td>1162</td>\n",
       "      <td>0</td>\n",
       "      <td>765</td>\n",
       "      <td>0</td>\n",
       "      <td>10</td>\n",
       "      <td>0</td>\n",
       "      <td>10</td>\n",
       "    </tr>\n",
       "    <tr>\n",
       "      <th>1h_40o2_d</th>\n",
       "      <td>15</td>\n",
       "      <td>103</td>\n",
       "      <td>1</td>\n",
       "      <td>117</td>\n",
       "      <td>83</td>\n",
       "      <td>116</td>\n",
       "      <td>0</td>\n",
       "      <td>0</td>\n",
       "      <td>305</td>\n",
       "      <td>0</td>\n",
       "      <td>...</td>\n",
       "      <td>6</td>\n",
       "      <td>5660</td>\n",
       "      <td>12</td>\n",
       "      <td>967</td>\n",
       "      <td>1</td>\n",
       "      <td>733</td>\n",
       "      <td>0</td>\n",
       "      <td>11</td>\n",
       "      <td>0</td>\n",
       "      <td>5</td>\n",
       "    </tr>\n",
       "    <tr>\n",
       "      <th>7h_2o2_b</th>\n",
       "      <td>17</td>\n",
       "      <td>192</td>\n",
       "      <td>0</td>\n",
       "      <td>65</td>\n",
       "      <td>0</td>\n",
       "      <td>259</td>\n",
       "      <td>0</td>\n",
       "      <td>0</td>\n",
       "      <td>455</td>\n",
       "      <td>0</td>\n",
       "      <td>...</td>\n",
       "      <td>3</td>\n",
       "      <td>7925</td>\n",
       "      <td>11</td>\n",
       "      <td>1430</td>\n",
       "      <td>0</td>\n",
       "      <td>805</td>\n",
       "      <td>0</td>\n",
       "      <td>18</td>\n",
       "      <td>0</td>\n",
       "      <td>31</td>\n",
       "    </tr>\n",
       "    <tr>\n",
       "      <th>7h_2o2_a</th>\n",
       "      <td>33</td>\n",
       "      <td>218</td>\n",
       "      <td>3</td>\n",
       "      <td>91</td>\n",
       "      <td>92</td>\n",
       "      <td>215</td>\n",
       "      <td>0</td>\n",
       "      <td>0</td>\n",
       "      <td>466</td>\n",
       "      <td>0</td>\n",
       "      <td>...</td>\n",
       "      <td>0</td>\n",
       "      <td>8622</td>\n",
       "      <td>12</td>\n",
       "      <td>1792</td>\n",
       "      <td>1</td>\n",
       "      <td>871</td>\n",
       "      <td>0</td>\n",
       "      <td>14</td>\n",
       "      <td>0</td>\n",
       "      <td>27</td>\n",
       "    </tr>\n",
       "  </tbody>\n",
       "</table>\n",
       "<p>5 rows × 40932 columns</p>\n",
       "</div>"
      ],
      "text/plain": [
       "           AT1G01010  AT1G01020  AT1G03987  AT1G01030  AT1G01040  \\\n",
       "7h_21o2_c         26        160          2         60         27   \n",
       "1h_40o2_b         14        160          0         83         90   \n",
       "1h_40o2_d         15        103          1        117         83   \n",
       "7h_2o2_b          17        192          0         65          0   \n",
       "7h_2o2_a          33        218          3         91         92   \n",
       "\n",
       "           AT1G01040-AT1G01046  AT1G03993  AT1G01046  AT1G01050  \\\n",
       "7h_21o2_c                  170          0          0        290   \n",
       "1h_40o2_b                  200          0          0        399   \n",
       "1h_40o2_d                  116          0          0        305   \n",
       "7h_2o2_b                   259          0          0        455   \n",
       "7h_2o2_a                   215          0          0        466   \n",
       "\n",
       "           AT1G01050-AT1G01060  ...  ATMG09960  ATMG01360  ATMG09980  \\\n",
       "7h_21o2_c                    0  ...          6       9217         30   \n",
       "1h_40o2_b                    0  ...          1       6944          5   \n",
       "1h_40o2_d                    0  ...          6       5660         12   \n",
       "7h_2o2_b                     0  ...          3       7925         11   \n",
       "7h_2o2_a                     0  ...          0       8622         12   \n",
       "\n",
       "           ATMG01370  ATMG01380  ATMG01390  G38195  ATMG01400  G38197  \\\n",
       "7h_21o2_c       1459          0        970       0          4       0   \n",
       "1h_40o2_b       1162          0        765       0         10       0   \n",
       "1h_40o2_d        967          1        733       0         11       0   \n",
       "7h_2o2_b        1430          0        805       0         18       0   \n",
       "7h_2o2_a        1792          1        871       0         14       0   \n",
       "\n",
       "           ATMG01410  \n",
       "7h_21o2_c         17  \n",
       "1h_40o2_b         10  \n",
       "1h_40o2_d          5  \n",
       "7h_2o2_b          31  \n",
       "7h_2o2_a          27  \n",
       "\n",
       "[5 rows x 40932 columns]"
      ]
     },
     "execution_count": 38,
     "metadata": {},
     "output_type": "execute_result"
    }
   ],
   "source": [
    "counts_df = pd.DataFrame(combined_counts, index=counts_df.index)\n",
    "counts_df.head()"
   ]
  },
  {
   "cell_type": "markdown",
   "id": "edf25668-625f-434b-ad19-67e75f2c0743",
   "metadata": {},
   "source": [
    "In order to use DESeq2, we need to create a metadata dataframe to accompany our counts matrix:"
   ]
  },
  {
   "cell_type": "code",
   "execution_count": 39,
   "id": "7d45bfe2-6575-4a77-b6a7-fc2efddccfb4",
   "metadata": {},
   "outputs": [
    {
     "data": {
      "text/html": [
       "<div>\n",
       "<style scoped>\n",
       "    .dataframe tbody tr th:only-of-type {\n",
       "        vertical-align: middle;\n",
       "    }\n",
       "\n",
       "    .dataframe tbody tr th {\n",
       "        vertical-align: top;\n",
       "    }\n",
       "\n",
       "    .dataframe thead th {\n",
       "        text-align: right;\n",
       "    }\n",
       "</style>\n",
       "<table border=\"1\" class=\"dataframe\">\n",
       "  <thead>\n",
       "    <tr style=\"text-align: right;\">\n",
       "      <th></th>\n",
       "      <th>o2</th>\n",
       "      <th>hour</th>\n",
       "    </tr>\n",
       "  </thead>\n",
       "  <tbody>\n",
       "    <tr>\n",
       "      <th>7h_21o2_c</th>\n",
       "      <td>21o2</td>\n",
       "      <td>7h</td>\n",
       "    </tr>\n",
       "    <tr>\n",
       "      <th>1h_40o2_b</th>\n",
       "      <td>40o2</td>\n",
       "      <td>1h</td>\n",
       "    </tr>\n",
       "    <tr>\n",
       "      <th>1h_40o2_d</th>\n",
       "      <td>40o2</td>\n",
       "      <td>1h</td>\n",
       "    </tr>\n",
       "    <tr>\n",
       "      <th>7h_2o2_b</th>\n",
       "      <td>2o2</td>\n",
       "      <td>7h</td>\n",
       "    </tr>\n",
       "    <tr>\n",
       "      <th>7h_2o2_a</th>\n",
       "      <td>2o2</td>\n",
       "      <td>7h</td>\n",
       "    </tr>\n",
       "  </tbody>\n",
       "</table>\n",
       "</div>"
      ],
      "text/plain": [
       "             o2 hour\n",
       "7h_21o2_c  21o2   7h\n",
       "1h_40o2_b  40o2   1h\n",
       "1h_40o2_d  40o2   1h\n",
       "7h_2o2_b    2o2   7h\n",
       "7h_2o2_a    2o2   7h"
      ]
     },
     "execution_count": 39,
     "metadata": {},
     "output_type": "execute_result"
    }
   ],
   "source": [
    "metadata = pd.DataFrame({'o2': counts_df.index.str.split('_').str[1], 'hour':counts_df.index.str.split('_').str[0]}, index=counts_df.index)\n",
    "metadata.head()"
   ]
  },
  {
   "cell_type": "markdown",
   "id": "80d715cd-c78c-4ad6-8160-7fa170772fe7",
   "metadata": {},
   "source": [
    "## Modeling"
   ]
  },
  {
   "cell_type": "code",
   "execution_count": 40,
   "id": "c820b1a4-96fc-4b18-9df4-bdfe27a7b1cf",
   "metadata": {},
   "outputs": [],
   "source": [
    "inference = DefaultInference(n_cpus=8)\n",
    "dds = DeseqDataSet(\n",
    "    counts=counts_df,\n",
    "    metadata=metadata,\n",
    "    design='~hour+o2+hour:o2',\n",
    "    inference=inference,\n",
    ")"
   ]
  },
  {
   "cell_type": "code",
   "execution_count": 41,
   "id": "2d460ab0-c388-4832-9913-ad82473ed1a8",
   "metadata": {},
   "outputs": [
    {
     "name": "stdout",
     "output_type": "stream",
     "text": [
      "Using None as control genes, passed at DeseqDataSet initialization\n"
     ]
    },
    {
     "name": "stderr",
     "output_type": "stream",
     "text": [
      "Fitting size factors...\n",
      "... done in 0.03 seconds.\n",
      "\n",
      "Fitting dispersions...\n",
      "... done in 33.93 seconds.\n",
      "\n",
      "Fitting dispersion trend curve...\n",
      "... done in 0.82 seconds.\n",
      "\n",
      "Fitting MAP dispersions...\n",
      "... done in 35.44 seconds.\n",
      "\n",
      "Fitting LFCs...\n",
      "... done in 31.69 seconds.\n",
      "\n",
      "Calculating cook's distance...\n",
      "... done in 0.05 seconds.\n",
      "\n",
      "Replacing 0 outlier genes.\n",
      "\n"
     ]
    }
   ],
   "source": [
    "dds.deseq2()"
   ]
  },
  {
   "attachments": {
    "46ce9c01-4055-4974-88a7-fa73cf1765ec.png": {
     "image/png": "[encoded data removed]"
    }
   },
   "cell_type": "markdown",
   "id": "41cd6427-1dcc-4923-8b75-6d5a45a8b4f1",
   "metadata": {},
   "source": [
    "## PCA\n",
    "\n",
    "Reproducing the following plot:\n",
    "\n",
    "<img src=\"attachment:46ce9c01-4055-4974-88a7-fa73cf1765ec.png\" alt=\"drawing\" width=\"300\"/>\n",
    "\n",
    "We'll use a variance stablizing transformation before we run the PCA, because that's what it looks like Larry did."
   ]
  },
  {
   "cell_type": "code",
   "execution_count": 42,
   "id": "360bc24b-8817-4fd4-b0b1-072be13eef8d",
   "metadata": {},
   "outputs": [
    {
     "name": "stdout",
     "output_type": "stream",
     "text": [
      "Fit type used for VST : parametric\n"
     ]
    },
    {
     "name": "stderr",
     "output_type": "stream",
     "text": [
      "Fitting dispersions...\n",
      "... done in 35.19 seconds.\n",
      "\n"
     ]
    }
   ],
   "source": [
    "dds.vst()"
   ]
  },
  {
   "cell_type": "code",
   "execution_count": 43,
   "id": "7b4f31aa-f348-4f4f-88e3-7b130f10beb3",
   "metadata": {},
   "outputs": [
    {
     "data": {
      "text/plain": [
       "(24, 40932)"
      ]
     },
     "execution_count": 43,
     "metadata": {},
     "output_type": "execute_result"
    }
   ],
   "source": [
    "dds.layers[\"vst_counts\"].shape"
   ]
  },
  {
   "cell_type": "code",
   "execution_count": 44,
   "id": "429352e9-bdf0-49d9-870f-a91ec5eacc15",
   "metadata": {},
   "outputs": [],
   "source": [
    "X = dds.layers[\"vst_counts\"]\n",
    "y = counts_df.index.str.split('_').str[:2].str.join('_')\n",
    "\n",
    "pca = PCA(n_components=2)\n",
    "X_r = pca.fit(X).transform(X)"
   ]
  },
  {
   "cell_type": "code",
   "execution_count": 45,
   "id": "872c4380-aa42-4db3-8e25-fc71c6a1fcee",
   "metadata": {},
   "outputs": [
    {
     "name": "stdout",
     "output_type": "stream",
     "text": [
      "{'1h_2o2': array([0.12156863, 0.46666667, 0.70588235, 1.        ]), '7h_40o2': array([0.17254902, 0.62745098, 0.17254902, 1.        ]), '1h_21o2': array([0.58039216, 0.40392157, 0.74117647, 1.        ]), '7h_2o2': array([0.89019608, 0.46666667, 0.76078431, 1.        ]), '7h_21o2': array([0.7372549 , 0.74117647, 0.13333333, 1.        ]), '1h_40o2': array([0.61960784, 0.85490196, 0.89803922, 1.        ])}\n"
     ]
    },
    {
     "data": {
      "text/plain": [
       "<Figure size 640x480 with 0 Axes>"
      ]
     },
     "metadata": {},
     "output_type": "display_data"
    },
    {
     "data": {
      "image/png": "[encoded data removed]",
      "text/plain": [
       "<Figure size 640x480 with 1 Axes>"
      ]
     },
     "metadata": {},
     "output_type": "display_data"
    }
   ],
   "source": [
    "plt.figure()\n",
    "colors = {i: c for i, c in zip(set(y), plt.cm.tab20(np.linspace(0, 1, len(set(y)))))}\n",
    "print(colors)\n",
    "pc1_ex_var, pc2_ex_var = pca.explained_variance_ratio_\n",
    "lw = 2\n",
    "\n",
    "fig, ax = plt.subplots(1)\n",
    "for i in y:\n",
    "    ax.scatter(\n",
    "        X_r[y == i, 0], X_r[y == i, 1], color=colors[i], alpha=0.8, lw=lw, label=i\n",
    "    )\n",
    "ax.set_xlabel(f'PC1 ({pc1_ex_var*100:.2f}%)')\n",
    "ax.set_ylabel(f'PC2 ({pc2_ex_var*100:.2f}%)')\n",
    "\n",
    "def legend_without_duplicate_labels(ax):\n",
    "    handles, labels = ax.get_legend_handles_labels()\n",
    "    unique = [(h, l) for i, (h, l) in enumerate(zip(handles[::-1], labels[::-1])) if l not in labels[::-1][:i]]\n",
    "    ax.legend(*zip(*unique), loc=(1.1,0))\n",
    "legend_without_duplicate_labels(ax)"
   ]
  },
  {
   "cell_type": "markdown",
   "id": "08618c3a-7f9e-4435-a6da-d0f99ed30bac",
   "metadata": {},
   "source": [
    "The explained variance is vastly different than in the plot we're trying to reproduce, however, very encouragingly we see the similar trends in separation! At least we do in the fact that PC1 explains the variance between timepoints, and that the 1 hour samples are not very different from one another."
   ]
  },
  {
   "cell_type": "markdown",
   "id": "fb92ad22-5384-43af-b2ee-3dfb2d5cd6d9",
   "metadata": {},
   "source": [
    "## DE statistical analysis"
   ]
  },
  {
   "cell_type": "markdown",
   "id": "9900e321-e176-4fe2-b0b9-921af9573626",
   "metadata": {},
   "source": [
    "For the moment, we're going to filter out the 1h timepoints in the interest of reproducing the original analysis; we can come back and do 1h vs 7h per condition later on if we're interested in doing so. We then need to re-run the modeling component again before doing the statistical analysis:"
   ]
  },
  {
   "cell_type": "code",
   "execution_count": 46,
   "id": "71d01bb6-1ba3-422f-85ee-cdbf4c2496df",
   "metadata": {},
   "outputs": [
    {
     "name": "stdout",
     "output_type": "stream",
     "text": [
      "(12, 2) (12, 40932)\n"
     ]
    }
   ],
   "source": [
    "samples_to_keep = metadata[metadata['hour'] == '7h'].index\n",
    "metadata = metadata.loc[samples_to_keep]\n",
    "counts_df = counts_df.loc[samples_to_keep]\n",
    "print(metadata.shape, counts_df.shape)"
   ]
  },
  {
   "cell_type": "code",
   "execution_count": 47,
   "id": "83bfec16-0eb3-4beb-a4ed-6517a89d4de9",
   "metadata": {},
   "outputs": [
    {
     "name": "stderr",
     "output_type": "stream",
     "text": [
      "Fitting size factors...\n",
      "... done in 0.02 seconds.\n",
      "\n"
     ]
    },
    {
     "name": "stdout",
     "output_type": "stream",
     "text": [
      "Using None as control genes, passed at DeseqDataSet initialization\n"
     ]
    },
    {
     "name": "stderr",
     "output_type": "stream",
     "text": [
      "Fitting dispersions...\n",
      "... done in 29.12 seconds.\n",
      "\n",
      "Fitting dispersion trend curve...\n",
      "... done in 0.76 seconds.\n",
      "\n",
      "Fitting MAP dispersions...\n",
      "... done in 29.32 seconds.\n",
      "\n",
      "Fitting LFCs...\n",
      "... done in 24.24 seconds.\n",
      "\n",
      "Calculating cook's distance...\n",
      "... done in 0.02 seconds.\n",
      "\n",
      "Replacing 0 outlier genes.\n",
      "\n"
     ]
    }
   ],
   "source": [
    "inference = DefaultInference(n_cpus=8)\n",
    "dds = DeseqDataSet(\n",
    "    counts=counts_df,\n",
    "    metadata=metadata,\n",
    "    design='~hour+o2+hour:o2',\n",
    "    inference=inference,\n",
    ")\n",
    "dds.deseq2()"
   ]
  },
  {
   "cell_type": "code",
   "execution_count": 48,
   "id": "a4ccb2d5-5836-49ee-a5e0-2b3ec88cc9c5",
   "metadata": {},
   "outputs": [],
   "source": [
    "ds_2_vs_21 = DeseqStats(\n",
    "    dds,\n",
    "    contrast=['o2', '2o2', '21o2'],\n",
    "    alpha=0.05\n",
    ")"
   ]
  },
  {
   "cell_type": "code",
   "execution_count": 49,
   "id": "794e3838-a313-401c-bd5d-b4bfe73055b8",
   "metadata": {
    "scrolled": true
   },
   "outputs": [
    {
     "name": "stderr",
     "output_type": "stream",
     "text": [
      "Running Wald tests...\n"
     ]
    },
    {
     "name": "stdout",
     "output_type": "stream",
     "text": [
      "Log2 fold change & Wald test p-value: o2 2o2 vs 21o2\n",
      "             baseMean  log2FoldChange     lfcSE      stat    pvalue      padj\n",
      "AT1G01010   23.358701       -0.062209  0.554680 -0.112153  0.910702  0.963846\n",
      "AT1G01020  163.479189        0.415435  0.148858  2.790817  0.005258  0.028541\n",
      "AT1G03987    0.733937       -0.475523  2.587452 -0.183780  0.854186       NaN\n",
      "AT1G01030   71.655538        0.125704  0.248579  0.505690  0.613074  0.797677\n",
      "AT1G01040   88.012358       -0.213601  1.367626 -0.156184  0.875888  0.946671\n",
      "...               ...             ...       ...       ...       ...       ...\n",
      "ATMG01390  899.521943       -0.193056  0.131629 -1.466664  0.142468  0.329994\n",
      "G38195       0.000000             NaN       NaN       NaN       NaN       NaN\n",
      "ATMG01400   11.787260        1.038683  0.671670  1.546419  0.122003  0.298308\n",
      "G38197       4.595019       -0.453457  4.261995 -0.106395  0.915269  0.965562\n",
      "ATMG01410   22.829872        0.044851  0.405903  0.110498  0.912015  0.964667\n",
      "\n",
      "[40932 rows x 6 columns]\n"
     ]
    },
    {
     "name": "stderr",
     "output_type": "stream",
     "text": [
      "... done in 197.14 seconds.\n",
      "\n"
     ]
    }
   ],
   "source": [
    "ds_2_vs_21.summary()"
   ]
  },
  {
   "cell_type": "code",
   "execution_count": 50,
   "id": "a074c710-969b-42ad-a246-ccc8a02a394b",
   "metadata": {},
   "outputs": [
    {
     "data": {
      "text/html": [
       "<div>\n",
       "<style scoped>\n",
       "    .dataframe tbody tr th:only-of-type {\n",
       "        vertical-align: middle;\n",
       "    }\n",
       "\n",
       "    .dataframe tbody tr th {\n",
       "        vertical-align: top;\n",
       "    }\n",
       "\n",
       "    .dataframe thead th {\n",
       "        text-align: right;\n",
       "    }\n",
       "</style>\n",
       "<table border=\"1\" class=\"dataframe\">\n",
       "  <thead>\n",
       "    <tr style=\"text-align: right;\">\n",
       "      <th></th>\n",
       "      <th>baseMean</th>\n",
       "      <th>log2FoldChange</th>\n",
       "      <th>lfcSE</th>\n",
       "      <th>stat</th>\n",
       "      <th>pvalue</th>\n",
       "      <th>padj</th>\n",
       "    </tr>\n",
       "  </thead>\n",
       "  <tbody>\n",
       "    <tr>\n",
       "      <th>AT1G01010</th>\n",
       "      <td>23.358701</td>\n",
       "      <td>-0.062209</td>\n",
       "      <td>0.554680</td>\n",
       "      <td>-0.112153</td>\n",
       "      <td>0.910702</td>\n",
       "      <td>0.963846</td>\n",
       "    </tr>\n",
       "    <tr>\n",
       "      <th>AT1G01020</th>\n",
       "      <td>163.479189</td>\n",
       "      <td>0.415435</td>\n",
       "      <td>0.148858</td>\n",
       "      <td>2.790817</td>\n",
       "      <td>0.005258</td>\n",
       "      <td>0.028541</td>\n",
       "    </tr>\n",
       "    <tr>\n",
       "      <th>AT1G03987</th>\n",
       "      <td>0.733937</td>\n",
       "      <td>-0.475523</td>\n",
       "      <td>2.587452</td>\n",
       "      <td>-0.183780</td>\n",
       "      <td>0.854186</td>\n",
       "      <td>NaN</td>\n",
       "    </tr>\n",
       "    <tr>\n",
       "      <th>AT1G01030</th>\n",
       "      <td>71.655538</td>\n",
       "      <td>0.125704</td>\n",
       "      <td>0.248579</td>\n",
       "      <td>0.505690</td>\n",
       "      <td>0.613074</td>\n",
       "      <td>0.797677</td>\n",
       "    </tr>\n",
       "    <tr>\n",
       "      <th>AT1G01040</th>\n",
       "      <td>88.012358</td>\n",
       "      <td>-0.213601</td>\n",
       "      <td>1.367626</td>\n",
       "      <td>-0.156184</td>\n",
       "      <td>0.875888</td>\n",
       "      <td>0.946671</td>\n",
       "    </tr>\n",
       "  </tbody>\n",
       "</table>\n",
       "</div>"
      ],
      "text/plain": [
       "             baseMean  log2FoldChange     lfcSE      stat    pvalue      padj\n",
       "AT1G01010   23.358701       -0.062209  0.554680 -0.112153  0.910702  0.963846\n",
       "AT1G01020  163.479189        0.415435  0.148858  2.790817  0.005258  0.028541\n",
       "AT1G03987    0.733937       -0.475523  2.587452 -0.183780  0.854186       NaN\n",
       "AT1G01030   71.655538        0.125704  0.248579  0.505690  0.613074  0.797677\n",
       "AT1G01040   88.012358       -0.213601  1.367626 -0.156184  0.875888  0.946671"
      ]
     },
     "execution_count": 50,
     "metadata": {},
     "output_type": "execute_result"
    }
   ],
   "source": [
    "DE_2_vs_21 = ds_2_vs_21.results_df\n",
    "DE_2_vs_21.head()"
   ]
  },
  {
   "cell_type": "code",
   "execution_count": 51,
   "id": "161216a5-5a2c-498e-b5ef-ac8afb280d0d",
   "metadata": {},
   "outputs": [
    {
     "ename": "ValueError",
     "evalue": "You specified a variable that is not part of the model. Available variables: hour,o2",
     "output_type": "error",
     "traceback": [
      "\u001b[0;31m---------------------------------------------------------------------------\u001b[0m",
      "\u001b[0;31mValueError\u001b[0m                                Traceback (most recent call last)",
      "Cell \u001b[0;32mIn[51], line 1\u001b[0m\n\u001b[0;32m----> 1\u001b[0m ds_40_vs_21 \u001b[38;5;241m=\u001b[39m \u001b[43mDeseqStats\u001b[49m\u001b[43m(\u001b[49m\n\u001b[1;32m      2\u001b[0m \u001b[43m    \u001b[49m\u001b[43mdds\u001b[49m\u001b[43m,\u001b[49m\n\u001b[1;32m      3\u001b[0m \u001b[43m    \u001b[49m\u001b[43mcontrast\u001b[49m\u001b[38;5;241;43m=\u001b[39;49m\u001b[43m[\u001b[49m\u001b[38;5;124;43m'\u001b[39;49m\u001b[38;5;124;43mcondition\u001b[39;49m\u001b[38;5;124;43m'\u001b[39;49m\u001b[43m,\u001b[49m\u001b[43m \u001b[49m\u001b[38;5;124;43m'\u001b[39;49m\u001b[38;5;124;43m40o2\u001b[39;49m\u001b[38;5;124;43m'\u001b[39;49m\u001b[43m,\u001b[49m\u001b[43m \u001b[49m\u001b[38;5;124;43m'\u001b[39;49m\u001b[38;5;124;43m21o2\u001b[39;49m\u001b[38;5;124;43m'\u001b[39;49m\u001b[43m]\u001b[49m\u001b[43m,\u001b[49m\n\u001b[1;32m      4\u001b[0m \u001b[43m    \u001b[49m\u001b[43malpha\u001b[49m\u001b[38;5;241;43m=\u001b[39;49m\u001b[38;5;241;43m0.05\u001b[39;49m\n\u001b[1;32m      5\u001b[0m \u001b[43m)\u001b[49m\n",
      "File \u001b[0;32m~/.conda/envs/omics/lib/python3.10/site-packages/pydeseq2/ds.py:185\u001b[0m, in \u001b[0;36mDeseqStats.__init__\u001b[0;34m(self, dds, contrast, alpha, cooks_filter, independent_filter, prior_LFC_var, lfc_null, alt_hypothesis, inference, quiet)\u001b[0m\n\u001b[1;32m    183\u001b[0m \u001b[38;5;28;01melse\u001b[39;00m:\n\u001b[1;32m    184\u001b[0m     \u001b[38;5;28mself\u001b[39m\u001b[38;5;241m.\u001b[39mcontrast \u001b[38;5;241m=\u001b[39m contrast\n\u001b[0;32m--> 185\u001b[0m     \u001b[38;5;28;43mself\u001b[39;49m\u001b[38;5;241;43m.\u001b[39;49m\u001b[43m_build_contrast_vector\u001b[49m\u001b[43m(\u001b[49m\u001b[43m)\u001b[49m\n\u001b[1;32m    187\u001b[0m \u001b[38;5;66;03m# Set a flag to indicate that LFCs are unshrunk\u001b[39;00m\n\u001b[1;32m    188\u001b[0m \u001b[38;5;28mself\u001b[39m\u001b[38;5;241m.\u001b[39mshrunk_LFCs \u001b[38;5;241m=\u001b[39m \u001b[38;5;28;01mFalse\u001b[39;00m\n",
      "File \u001b[0;32m~/.conda/envs/omics/lib/python3.10/site-packages/pydeseq2/ds.py:587\u001b[0m, in \u001b[0;36mDeseqStats._build_contrast_vector\u001b[0;34m(self)\u001b[0m\n\u001b[1;32m    585\u001b[0m alternative \u001b[38;5;241m=\u001b[39m \u001b[38;5;28mself\u001b[39m\u001b[38;5;241m.\u001b[39mcontrast[\u001b[38;5;241m1\u001b[39m]\n\u001b[1;32m    586\u001b[0m ref \u001b[38;5;241m=\u001b[39m \u001b[38;5;28mself\u001b[39m\u001b[38;5;241m.\u001b[39mcontrast[\u001b[38;5;241m2\u001b[39m]\n\u001b[0;32m--> 587\u001b[0m \u001b[38;5;28mself\u001b[39m\u001b[38;5;241m.\u001b[39mcontrast_vector \u001b[38;5;241m=\u001b[39m \u001b[38;5;28;43mself\u001b[39;49m\u001b[38;5;241;43m.\u001b[39;49m\u001b[43mdds\u001b[49m\u001b[38;5;241;43m.\u001b[39;49m\u001b[43mcontrast\u001b[49m\u001b[43m(\u001b[49m\n\u001b[1;32m    588\u001b[0m \u001b[43m    \u001b[49m\u001b[43mcolumn\u001b[49m\u001b[38;5;241;43m=\u001b[39;49m\u001b[43mfactor\u001b[49m\u001b[43m,\u001b[49m\u001b[43m \u001b[49m\u001b[43mbaseline\u001b[49m\u001b[38;5;241;43m=\u001b[39;49m\u001b[43mref\u001b[49m\u001b[43m,\u001b[49m\u001b[43m \u001b[49m\u001b[43mgroup_to_compare\u001b[49m\u001b[38;5;241;43m=\u001b[39;49m\u001b[43malternative\u001b[49m\n\u001b[1;32m    589\u001b[0m \u001b[43m\u001b[49m\u001b[43m)\u001b[49m\n",
      "File \u001b[0;32m~/.conda/envs/omics/lib/python3.10/site-packages/pydeseq2/dds.py:575\u001b[0m, in \u001b[0;36mDeseqDataSet.contrast\u001b[0;34m(self, *args, **kwargs)\u001b[0m\n\u001b[1;32m    573\u001b[0m \u001b[38;5;28;01mdef\u001b[39;00m\u001b[38;5;250m \u001b[39m\u001b[38;5;21mcontrast\u001b[39m(\u001b[38;5;28mself\u001b[39m, \u001b[38;5;241m*\u001b[39margs, \u001b[38;5;241m*\u001b[39m\u001b[38;5;241m*\u001b[39mkwargs):\n\u001b[1;32m    574\u001b[0m \u001b[38;5;250m    \u001b[39m\u001b[38;5;124;03m\"\"\"Get a contrast for a simple pairwise comparison.\"\"\"\u001b[39;00m\n\u001b[0;32m--> 575\u001b[0m     \u001b[38;5;28;01mreturn\u001b[39;00m \u001b[38;5;28;43mself\u001b[39;49m\u001b[38;5;241;43m.\u001b[39;49m\u001b[43mformulaic_contrasts\u001b[49m\u001b[38;5;241;43m.\u001b[39;49m\u001b[43mcontrast\u001b[49m\u001b[43m(\u001b[49m\u001b[38;5;241;43m*\u001b[39;49m\u001b[43margs\u001b[49m\u001b[43m,\u001b[49m\u001b[43m \u001b[49m\u001b[38;5;241;43m*\u001b[39;49m\u001b[38;5;241;43m*\u001b[39;49m\u001b[43mkwargs\u001b[49m\u001b[43m)\u001b[49m\n",
      "File \u001b[0;32m~/.conda/envs/omics/lib/python3.10/site-packages/formulaic_contrasts/_contrasts.py:91\u001b[0m, in \u001b[0;36mFormulaicContrasts.contrast\u001b[0;34m(self, column, baseline, group_to_compare)\u001b[0m\n\u001b[1;32m     71\u001b[0m \u001b[38;5;28;01mdef\u001b[39;00m\u001b[38;5;250m \u001b[39m\u001b[38;5;21mcontrast\u001b[39m(\u001b[38;5;28mself\u001b[39m, column, baseline, group_to_compare):\n\u001b[1;32m     72\u001b[0m \u001b[38;5;250m    \u001b[39m\u001b[38;5;124;03m\"\"\"\u001b[39;00m\n\u001b[1;32m     73\u001b[0m \u001b[38;5;124;03m    Build a simple contrast for pairwise comparisons of a single variable.\u001b[39;00m\n\u001b[1;32m     74\u001b[0m \n\u001b[0;32m   (...)\u001b[0m\n\u001b[1;32m     89\u001b[0m \u001b[38;5;124;03m        Numeric contrast vector.\u001b[39;00m\n\u001b[1;32m     90\u001b[0m \u001b[38;5;124;03m    \"\"\"\u001b[39;00m\n\u001b[0;32m---> 91\u001b[0m     \u001b[38;5;28;01mreturn\u001b[39;00m \u001b[38;5;28;43mself\u001b[39;49m\u001b[38;5;241;43m.\u001b[39;49m\u001b[43mcond\u001b[49m\u001b[43m(\u001b[49m\u001b[38;5;241;43m*\u001b[39;49m\u001b[38;5;241;43m*\u001b[39;49m\u001b[43m{\u001b[49m\u001b[43mcolumn\u001b[49m\u001b[43m:\u001b[49m\u001b[43m \u001b[49m\u001b[43mgroup_to_compare\u001b[49m\u001b[43m}\u001b[49m\u001b[43m)\u001b[49m \u001b[38;5;241m-\u001b[39m \u001b[38;5;28mself\u001b[39m\u001b[38;5;241m.\u001b[39mcond(\u001b[38;5;241m*\u001b[39m\u001b[38;5;241m*\u001b[39m{column: baseline})\n",
      "File \u001b[0;32m~/.conda/envs/omics/lib/python3.10/site-packages/formulaic_contrasts/_contrasts.py:59\u001b[0m, in \u001b[0;36mFormulaicContrasts.cond\u001b[0;34m(self, **kwargs)\u001b[0m\n\u001b[1;32m     57\u001b[0m cond_dict \u001b[38;5;241m=\u001b[39m kwargs\n\u001b[1;32m     58\u001b[0m \u001b[38;5;28;01mif\u001b[39;00m \u001b[38;5;129;01mnot\u001b[39;00m \u001b[38;5;28mset\u001b[39m(cond_dict\u001b[38;5;241m.\u001b[39mkeys())\u001b[38;5;241m.\u001b[39missubset(\u001b[38;5;28mself\u001b[39m\u001b[38;5;241m.\u001b[39mvariables):\n\u001b[0;32m---> 59\u001b[0m     \u001b[38;5;28;01mraise\u001b[39;00m \u001b[38;5;167;01mValueError\u001b[39;00m(\n\u001b[1;32m     60\u001b[0m         \u001b[38;5;124m\"\u001b[39m\u001b[38;5;124mYou specified a variable that is not part of the model. Available variables: \u001b[39m\u001b[38;5;124m\"\u001b[39m\n\u001b[1;32m     61\u001b[0m         \u001b[38;5;241m+\u001b[39m \u001b[38;5;124m\"\u001b[39m\u001b[38;5;124m,\u001b[39m\u001b[38;5;124m\"\u001b[39m\u001b[38;5;241m.\u001b[39mjoin(\u001b[38;5;28mself\u001b[39m\u001b[38;5;241m.\u001b[39mvariables)\n\u001b[1;32m     62\u001b[0m     )\n\u001b[1;32m     63\u001b[0m \u001b[38;5;28;01mfor\u001b[39;00m var \u001b[38;5;129;01min\u001b[39;00m \u001b[38;5;28mself\u001b[39m\u001b[38;5;241m.\u001b[39mvariables:\n\u001b[1;32m     64\u001b[0m     \u001b[38;5;28;01mif\u001b[39;00m var \u001b[38;5;129;01min\u001b[39;00m cond_dict:\n",
      "\u001b[0;31mValueError\u001b[0m: You specified a variable that is not part of the model. Available variables: hour,o2"
     ]
    }
   ],
   "source": [
    "ds_40_vs_21 = DeseqStats(\n",
    "    dds,\n",
    "    contrast=['condition', '40o2', '21o2'],\n",
    "    alpha=0.05\n",
    ")"
   ]
  },
  {
   "cell_type": "code",
   "execution_count": null,
   "id": "1577693f-0f6a-49c4-90bd-f4a9c2db8b84",
   "metadata": {
    "scrolled": true
   },
   "outputs": [],
   "source": [
    "ds_40_vs_21.summary()"
   ]
  },
  {
   "cell_type": "code",
   "execution_count": null,
   "id": "fc221c06-0251-4cea-8ca6-2f4d009f69a3",
   "metadata": {},
   "outputs": [],
   "source": [
    "DE_40_vs_21 = ds_40_vs_21.results_df\n",
    "DE_40_vs_21.head()"
   ]
  },
  {
   "attachments": {
    "575410f8-a0ab-4e39-870f-01ba586ae40f.png": {
     "image/png": "[encoded data removed]"
    }
   },
   "cell_type": "markdown",
   "id": "a949d1ca-ca1f-46da-acc3-f18e2cb99c24",
   "metadata": {},
   "source": [
    "## Number of DE genes at conditions\n",
    "\n",
    "Reproducing the following plot (all samples are from 7h):\n",
    "\n",
    "<img src=\"attachment:575410f8-a0ab-4e39-870f-01ba586ae40f.png\" alt=\"drawing\" width=\"300\"/>"
   ]
  },
  {
   "cell_type": "code",
   "execution_count": null,
   "id": "050426a3-ceb5-4d75-adef-95086ee90789",
   "metadata": {},
   "outputs": [],
   "source": [
    "two_up = DE_2_vs_21[(DE_2_vs_21[\"padj\"] < 0.05) & (DE_2_vs_21[\"log2FoldChange\"] > 0)]\n",
    "two_down = DE_2_vs_21[(DE_2_vs_21[\"padj\"] < 0.05) & (DE_2_vs_21[\"log2FoldChange\"] < 0)]\n",
    "forty_up = DE_40_vs_21[(DE_2_vs_21[\"padj\"] < 0.05) & (DE_40_vs_21[\"log2FoldChange\"] > 0)]\n",
    "forty_down = DE_40_vs_21[(DE_2_vs_21[\"padj\"] < 0.05) & (DE_40_vs_21[\"log2FoldChange\"] < 0)]"
   ]
  },
  {
   "cell_type": "code",
   "execution_count": null,
   "id": "274105ef-61bb-438b-b8c4-dfd8992bc561",
   "metadata": {},
   "outputs": [],
   "source": [
    "conditions = ('2', '40')\n",
    "values = {\n",
    "    'Up': (len(two_up), len(forty_up)),\n",
    "    'Down': (len(two_down), len(forty_down))\n",
    "}\n",
    "\n",
    "x = np.arange(len(conditions))  # the label locations\n",
    "width = 0.25  # the width of the bars\n",
    "multiplier = 0\n",
    "\n",
    "fig, ax = plt.subplots(layout='constrained')\n",
    "\n",
    "for attribute, measurement in values.items():\n",
    "    offset = width * multiplier\n",
    "    rects = ax.bar(x + offset, measurement, width, label=attribute)\n",
    "    ax.bar_label(rects, padding=3)\n",
    "    multiplier += 1\n",
    "ax.set_ylabel('Differentially expressed genes at 7h (#)')\n",
    "ax.set_xlabel('Oxygen (%)')\n",
    "ax.set_xticks(x + width, conditions)\n",
    "ax.legend(loc='upper left', ncols=3)"
   ]
  },
  {
   "cell_type": "markdown",
   "id": "da233279-5e10-4125-b2bd-9751a532abec",
   "metadata": {},
   "source": [
    "Well that is very different, but to a level that makes me think I probably did something obvious wrong, although I'm not sure what that might be."
   ]
  },
  {
   "cell_type": "code",
   "execution_count": null,
   "id": "722b08d3-9e17-406e-aa3f-203e224bba6f",
   "metadata": {},
   "outputs": [],
   "source": []
  },
  {
   "cell_type": "code",
   "execution_count": null,
   "id": "6cb77542-4573-4a72-93ab-68725f42ed4b",
   "metadata": {},
   "outputs": [],
   "source": []
  }
 ],
 "metadata": {
  "kernelspec": {
   "display_name": "omics",
   "language": "python",
   "name": "omics"
  },
  "language_info": {
   "codemirror_mode": {
    "name": "ipython",
    "version": 3
   },
   "file_extension": ".py",
   "mimetype": "text/x-python",
   "name": "python",
   "nbconvert_exporter": "python",
   "pygments_lexer": "ipython3",
   "version": "3.10.16"
  }
 },
 "nbformat": 4,
 "nbformat_minor": 5
}
