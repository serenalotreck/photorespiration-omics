{
 "cells": [
  {
   "cell_type": "markdown",
   "id": "5c2588ea-08ce-46d9-a4fc-a2ad2967fcfe",
   "metadata": {},
   "source": [
    "# Differential expression analysis\n",
    "In this notebook we'll use `PyDESeq2` to perform differential expression analysis on the RNAseq data. We're going to follow [this tutorial](https://pydeseq2.readthedocs.io/en/stable/auto_examples/plot_minimal_pydeseq2_pipeline.html)."
   ]
  },
  {
   "cell_type": "code",
   "execution_count": 1,
   "id": "e1cad104-5867-43ec-8458-725b07380175",
   "metadata": {},
   "outputs": [],
   "source": [
    "from os import listdir\n",
    "import pandas as pd\n",
    "import numpy as np\n",
    "from functools import reduce\n",
    "from pydeseq2.dds import DeseqDataSet\n",
    "from pydeseq2.default_inference import DefaultInference\n",
    "from pydeseq2.ds import DeseqStats\n",
    "from pydeseq2.utils import load_example_data\n",
    "from sklearn.decomposition import PCA\n",
    "import matplotlib.pyplot as plt"
   ]
  },
  {
   "cell_type": "markdown",
   "id": "79a9e254-f153-424c-b703-4542de7b9021",
   "metadata": {
    "jp-MarkdownHeadingCollapsed": true
   },
   "source": [
    "## Data pre-processing\n",
    "Read in counts matrices:"
   ]
  },
  {
   "cell_type": "code",
   "execution_count": 2,
   "id": "f3ce80f0-5967-4e48-bcd5-aa794157e97b",
   "metadata": {},
   "outputs": [],
   "source": [
    "kallisto_output_dir = '../data/kallisto_quant_bs'\n",
    "abundance_dfs = {}\n",
    "for d in listdir(kallisto_output_dir):\n",
    "    abundance_dfs[d] = pd.read_csv(f'{kallisto_output_dir}/{d}/abundance.tsv', sep='\\t')"
   ]
  },
  {
   "cell_type": "markdown",
   "id": "ddc9a1c8-3cef-47a1-925d-5eea35cb15c5",
   "metadata": {},
   "source": [
    "Merge counts matrices into the format expected by DESeq2:"
   ]
  },
  {
   "cell_type": "code",
   "execution_count": 3,
   "id": "59486355-b288-4431-a3ce-eee334c09339",
   "metadata": {},
   "outputs": [
    {
     "data": {
      "text/html": [
       "<div>\n",
       "<style scoped>\n",
       "    .dataframe tbody tr th:only-of-type {\n",
       "        vertical-align: middle;\n",
       "    }\n",
       "\n",
       "    .dataframe tbody tr th {\n",
       "        vertical-align: top;\n",
       "    }\n",
       "\n",
       "    .dataframe thead th {\n",
       "        text-align: right;\n",
       "    }\n",
       "</style>\n",
       "<table border=\"1\" class=\"dataframe\">\n",
       "  <thead>\n",
       "    <tr style=\"text-align: right;\">\n",
       "      <th>target_id</th>\n",
       "      <th>ATCG00020.1</th>\n",
       "      <th>ATCG00040.1</th>\n",
       "      <th>ATCG00050.1</th>\n",
       "      <th>ATCG00065.1</th>\n",
       "      <th>ATCG00070.1</th>\n",
       "      <th>ATCG00080.1</th>\n",
       "      <th>ATCG00120.1</th>\n",
       "      <th>ATCG00130.1</th>\n",
       "      <th>ATCG00140.1</th>\n",
       "      <th>ATCG00150.1</th>\n",
       "      <th>...</th>\n",
       "      <th>AT5G67570.1</th>\n",
       "      <th>AT5G67580.2</th>\n",
       "      <th>AT5G67580.1</th>\n",
       "      <th>AT5G67590.1</th>\n",
       "      <th>AT5G67600.1</th>\n",
       "      <th>AT5G67610.2</th>\n",
       "      <th>AT5G67610.1</th>\n",
       "      <th>AT5G67620.1</th>\n",
       "      <th>AT5G67630.1</th>\n",
       "      <th>AT5G67640.1</th>\n",
       "    </tr>\n",
       "  </thead>\n",
       "  <tbody>\n",
       "    <tr>\n",
       "      <th>7h_21o2_c</th>\n",
       "      <td>3922560</td>\n",
       "      <td>276029</td>\n",
       "      <td>3511</td>\n",
       "      <td>1579</td>\n",
       "      <td>57120</td>\n",
       "      <td>30897</td>\n",
       "      <td>199521</td>\n",
       "      <td>120238</td>\n",
       "      <td>42012</td>\n",
       "      <td>118059</td>\n",
       "      <td>...</td>\n",
       "      <td>79</td>\n",
       "      <td>0</td>\n",
       "      <td>87</td>\n",
       "      <td>397</td>\n",
       "      <td>91</td>\n",
       "      <td>96</td>\n",
       "      <td>0</td>\n",
       "      <td>0</td>\n",
       "      <td>216</td>\n",
       "      <td>39</td>\n",
       "    </tr>\n",
       "    <tr>\n",
       "      <th>1h_40o2_b</th>\n",
       "      <td>3155200</td>\n",
       "      <td>280744</td>\n",
       "      <td>3113</td>\n",
       "      <td>1056</td>\n",
       "      <td>54298</td>\n",
       "      <td>88869</td>\n",
       "      <td>231346</td>\n",
       "      <td>180709</td>\n",
       "      <td>52211</td>\n",
       "      <td>99181</td>\n",
       "      <td>...</td>\n",
       "      <td>22</td>\n",
       "      <td>51</td>\n",
       "      <td>0</td>\n",
       "      <td>259</td>\n",
       "      <td>163</td>\n",
       "      <td>45</td>\n",
       "      <td>0</td>\n",
       "      <td>0</td>\n",
       "      <td>133</td>\n",
       "      <td>77</td>\n",
       "    </tr>\n",
       "    <tr>\n",
       "      <th>1h_40o2_d</th>\n",
       "      <td>2216700</td>\n",
       "      <td>203774</td>\n",
       "      <td>1776</td>\n",
       "      <td>519</td>\n",
       "      <td>37009</td>\n",
       "      <td>60297</td>\n",
       "      <td>179582</td>\n",
       "      <td>133117</td>\n",
       "      <td>46929</td>\n",
       "      <td>70819</td>\n",
       "      <td>...</td>\n",
       "      <td>11</td>\n",
       "      <td>0</td>\n",
       "      <td>46</td>\n",
       "      <td>197</td>\n",
       "      <td>100</td>\n",
       "      <td>21</td>\n",
       "      <td>0</td>\n",
       "      <td>0</td>\n",
       "      <td>102</td>\n",
       "      <td>43</td>\n",
       "    </tr>\n",
       "    <tr>\n",
       "      <th>7h_2o2_b</th>\n",
       "      <td>2838350</td>\n",
       "      <td>220852</td>\n",
       "      <td>3799</td>\n",
       "      <td>1058</td>\n",
       "      <td>41754</td>\n",
       "      <td>57818</td>\n",
       "      <td>175781</td>\n",
       "      <td>118734</td>\n",
       "      <td>56243</td>\n",
       "      <td>82193</td>\n",
       "      <td>...</td>\n",
       "      <td>57</td>\n",
       "      <td>0</td>\n",
       "      <td>79</td>\n",
       "      <td>370</td>\n",
       "      <td>106</td>\n",
       "      <td>68</td>\n",
       "      <td>0</td>\n",
       "      <td>3</td>\n",
       "      <td>267</td>\n",
       "      <td>37</td>\n",
       "    </tr>\n",
       "    <tr>\n",
       "      <th>7h_2o2_a</th>\n",
       "      <td>3185190</td>\n",
       "      <td>208893</td>\n",
       "      <td>4244</td>\n",
       "      <td>979</td>\n",
       "      <td>48506</td>\n",
       "      <td>73996</td>\n",
       "      <td>162560</td>\n",
       "      <td>124174</td>\n",
       "      <td>67164</td>\n",
       "      <td>84278</td>\n",
       "      <td>...</td>\n",
       "      <td>75</td>\n",
       "      <td>88</td>\n",
       "      <td>0</td>\n",
       "      <td>442</td>\n",
       "      <td>182</td>\n",
       "      <td>116</td>\n",
       "      <td>0</td>\n",
       "      <td>0</td>\n",
       "      <td>270</td>\n",
       "      <td>27</td>\n",
       "    </tr>\n",
       "  </tbody>\n",
       "</table>\n",
       "<p>5 rows × 48456 columns</p>\n",
       "</div>"
      ],
      "text/plain": [
       "target_id  ATCG00020.1  ATCG00040.1  ATCG00050.1  ATCG00065.1  ATCG00070.1  \\\n",
       "7h_21o2_c      3922560       276029         3511         1579        57120   \n",
       "1h_40o2_b      3155200       280744         3113         1056        54298   \n",
       "1h_40o2_d      2216700       203774         1776          519        37009   \n",
       "7h_2o2_b       2838350       220852         3799         1058        41754   \n",
       "7h_2o2_a       3185190       208893         4244          979        48506   \n",
       "\n",
       "target_id  ATCG00080.1  ATCG00120.1  ATCG00130.1  ATCG00140.1  ATCG00150.1  \\\n",
       "7h_21o2_c        30897       199521       120238        42012       118059   \n",
       "1h_40o2_b        88869       231346       180709        52211        99181   \n",
       "1h_40o2_d        60297       179582       133117        46929        70819   \n",
       "7h_2o2_b         57818       175781       118734        56243        82193   \n",
       "7h_2o2_a         73996       162560       124174        67164        84278   \n",
       "\n",
       "target_id  ...  AT5G67570.1  AT5G67580.2  AT5G67580.1  AT5G67590.1  \\\n",
       "7h_21o2_c  ...           79            0           87          397   \n",
       "1h_40o2_b  ...           22           51            0          259   \n",
       "1h_40o2_d  ...           11            0           46          197   \n",
       "7h_2o2_b   ...           57            0           79          370   \n",
       "7h_2o2_a   ...           75           88            0          442   \n",
       "\n",
       "target_id  AT5G67600.1  AT5G67610.2  AT5G67610.1  AT5G67620.1  AT5G67630.1  \\\n",
       "7h_21o2_c           91           96            0            0          216   \n",
       "1h_40o2_b          163           45            0            0          133   \n",
       "1h_40o2_d          100           21            0            0          102   \n",
       "7h_2o2_b           106           68            0            3          267   \n",
       "7h_2o2_a           182          116            0            0          270   \n",
       "\n",
       "target_id  AT5G67640.1  \n",
       "7h_21o2_c           39  \n",
       "1h_40o2_b           77  \n",
       "1h_40o2_d           43  \n",
       "7h_2o2_b            37  \n",
       "7h_2o2_a            27  \n",
       "\n",
       "[5 rows x 48456 columns]"
      ]
     },
     "execution_count": 3,
     "metadata": {},
     "output_type": "execute_result"
    }
   ],
   "source": [
    "counts_df = reduce(lambda x, y: pd.merge(x, y, on='target_id'), [df[['target_id', 'est_counts']].rename(columns={'est_counts': k}) for k, df in abundance_dfs.items()]).set_index('target_id').T\n",
    "counts_df = counts_df.astype('int')\n",
    "counts_df.head()"
   ]
  },
  {
   "cell_type": "markdown",
   "id": "edf25668-625f-434b-ad19-67e75f2c0743",
   "metadata": {},
   "source": [
    "In order to use DESeq2, we need to create a metadata dataframe to accompany our counts matrix:"
   ]
  },
  {
   "cell_type": "code",
   "execution_count": 4,
   "id": "7d45bfe2-6575-4a77-b6a7-fc2efddccfb4",
   "metadata": {},
   "outputs": [
    {
     "data": {
      "text/html": [
       "<div>\n",
       "<style scoped>\n",
       "    .dataframe tbody tr th:only-of-type {\n",
       "        vertical-align: middle;\n",
       "    }\n",
       "\n",
       "    .dataframe tbody tr th {\n",
       "        vertical-align: top;\n",
       "    }\n",
       "\n",
       "    .dataframe thead th {\n",
       "        text-align: right;\n",
       "    }\n",
       "</style>\n",
       "<table border=\"1\" class=\"dataframe\">\n",
       "  <thead>\n",
       "    <tr style=\"text-align: right;\">\n",
       "      <th></th>\n",
       "      <th>condition</th>\n",
       "      <th>group</th>\n",
       "    </tr>\n",
       "  </thead>\n",
       "  <tbody>\n",
       "    <tr>\n",
       "      <th>7h_21o2_c</th>\n",
       "      <td>21o2</td>\n",
       "      <td>7h</td>\n",
       "    </tr>\n",
       "    <tr>\n",
       "      <th>1h_40o2_b</th>\n",
       "      <td>40o2</td>\n",
       "      <td>1h</td>\n",
       "    </tr>\n",
       "    <tr>\n",
       "      <th>1h_40o2_d</th>\n",
       "      <td>40o2</td>\n",
       "      <td>1h</td>\n",
       "    </tr>\n",
       "    <tr>\n",
       "      <th>7h_2o2_b</th>\n",
       "      <td>2o2</td>\n",
       "      <td>7h</td>\n",
       "    </tr>\n",
       "    <tr>\n",
       "      <th>7h_2o2_a</th>\n",
       "      <td>2o2</td>\n",
       "      <td>7h</td>\n",
       "    </tr>\n",
       "  </tbody>\n",
       "</table>\n",
       "</div>"
      ],
      "text/plain": [
       "          condition group\n",
       "7h_21o2_c      21o2    7h\n",
       "1h_40o2_b      40o2    1h\n",
       "1h_40o2_d      40o2    1h\n",
       "7h_2o2_b        2o2    7h\n",
       "7h_2o2_a        2o2    7h"
      ]
     },
     "execution_count": 4,
     "metadata": {},
     "output_type": "execute_result"
    }
   ],
   "source": [
    "metadata = pd.DataFrame({'condition': counts_df.index.str.split('_').str[1], 'group':counts_df.index.str.split('_').str[0]}, index=counts_df.index)\n",
    "metadata.head()"
   ]
  },
  {
   "cell_type": "markdown",
   "id": "3403f733-3c63-447d-b084-925996b9c1be",
   "metadata": {},
   "source": [
    "Filter the data to remove missing or lowly expressed genes:"
   ]
  },
  {
   "cell_type": "code",
   "execution_count": 5,
   "id": "d8be2089-1201-4091-b14b-aa115efe334f",
   "metadata": {},
   "outputs": [],
   "source": [
    "genes_to_keep = counts_df.columns[counts_df.sum(axis=0) >= 30] # Taken from Larry's analysis\n",
    "counts_df = counts_df[genes_to_keep]"
   ]
  },
  {
   "cell_type": "code",
   "execution_count": 6,
   "id": "584a5129-093f-486c-a632-aec3edbc2466",
   "metadata": {},
   "outputs": [
    {
     "data": {
      "text/plain": [
       "(24, 35690)"
      ]
     },
     "execution_count": 6,
     "metadata": {},
     "output_type": "execute_result"
    }
   ],
   "source": [
    "counts_df.shape"
   ]
  },
  {
   "cell_type": "markdown",
   "id": "80d715cd-c78c-4ad6-8160-7fa170772fe7",
   "metadata": {
    "jp-MarkdownHeadingCollapsed": true
   },
   "source": [
    "## Modeling"
   ]
  },
  {
   "cell_type": "code",
   "execution_count": 7,
   "id": "c820b1a4-96fc-4b18-9df4-bdfe27a7b1cf",
   "metadata": {},
   "outputs": [],
   "source": [
    "inference = DefaultInference(n_cpus=8)\n",
    "dds = DeseqDataSet(\n",
    "    counts=counts_df,\n",
    "    metadata=metadata,\n",
    "    inference=inference,\n",
    ")"
   ]
  },
  {
   "cell_type": "code",
   "execution_count": 8,
   "id": "2d460ab0-c388-4832-9913-ad82473ed1a8",
   "metadata": {},
   "outputs": [
    {
     "name": "stderr",
     "output_type": "stream",
     "text": [
      "Fitting size factors...\n",
      "... done in 0.03 seconds.\n",
      "\n",
      "Fitting dispersions...\n",
      "... done in 42.10 seconds.\n",
      "\n",
      "Fitting dispersion trend curve...\n",
      "... done in 0.81 seconds.\n",
      "\n",
      "Fitting MAP dispersions...\n",
      "... done in 49.44 seconds.\n",
      "\n",
      "Fitting LFCs...\n",
      "... done in 34.01 seconds.\n",
      "\n",
      "Calculating cook's distance...\n",
      "... done in 0.05 seconds.\n",
      "\n",
      "Replacing 1890 outlier genes.\n",
      "\n",
      "Fitting dispersions...\n",
      "... done in 1.33 seconds.\n",
      "\n",
      "Fitting MAP dispersions...\n",
      "... done in 1.11 seconds.\n",
      "\n",
      "Fitting LFCs...\n",
      "... done in 2.21 seconds.\n",
      "\n"
     ]
    }
   ],
   "source": [
    "dds.deseq2()"
   ]
  },
  {
   "attachments": {
    "46ce9c01-4055-4974-88a7-fa73cf1765ec.png": {
     "image/png": "[encoded data removed]"
    }
   },
   "cell_type": "markdown",
   "id": "41cd6427-1dcc-4923-8b75-6d5a45a8b4f1",
   "metadata": {},
   "source": [
    "## PCA\n",
    "\n",
    "Reproducing the following plot:\n",
    "\n",
    "<img src=\"attachment:46ce9c01-4055-4974-88a7-fa73cf1765ec.png\" alt=\"drawing\" width=\"300\"/>\n",
    "\n",
    "We'll use a variance stablizing transformation before we run the PCA, because that's what it looks like Larry did."
   ]
  },
  {
   "cell_type": "code",
   "execution_count": 9,
   "id": "360bc24b-8817-4fd4-b0b1-072be13eef8d",
   "metadata": {},
   "outputs": [
    {
     "name": "stdout",
     "output_type": "stream",
     "text": [
      "Fit type used for VST : parametric\n"
     ]
    },
    {
     "name": "stderr",
     "output_type": "stream",
     "text": [
      "Fitting dispersions...\n",
      "... done in 41.09 seconds.\n",
      "\n",
      "/mnt/home/lotrecks/.conda/envs/omics/lib/python3.9/site-packages/anndata/_core/views.py:145: RuntimeWarning: divide by zero encountered in divide\n",
      "  results = super().__array_ufunc__(\n"
     ]
    }
   ],
   "source": [
    "dds.vst()"
   ]
  },
  {
   "cell_type": "code",
   "execution_count": 10,
   "id": "7b4f31aa-f348-4f4f-88e3-7b130f10beb3",
   "metadata": {},
   "outputs": [
    {
     "data": {
      "text/plain": [
       "(24, 35690)"
      ]
     },
     "execution_count": 10,
     "metadata": {},
     "output_type": "execute_result"
    }
   ],
   "source": [
    "dds.layers[\"vst_counts\"].shape"
   ]
  },
  {
   "cell_type": "code",
   "execution_count": 11,
   "id": "429352e9-bdf0-49d9-870f-a91ec5eacc15",
   "metadata": {},
   "outputs": [],
   "source": [
    "X = dds.layers[\"vst_counts\"]\n",
    "y = counts_df.index.str.split('_').str[:2].str.join('_')\n",
    "\n",
    "pca = PCA(n_components=2)\n",
    "X_r = pca.fit(X).transform(X)"
   ]
  },
  {
   "cell_type": "code",
   "execution_count": 12,
   "id": "872c4380-aa42-4db3-8e25-fc71c6a1fcee",
   "metadata": {},
   "outputs": [
    {
     "name": "stdout",
     "output_type": "stream",
     "text": [
      "{'7h_21o2': array([0.12156863, 0.46666667, 0.70588235, 1.        ]), '7h_40o2': array([0.17254902, 0.62745098, 0.17254902, 1.        ]), '1h_40o2': array([0.58039216, 0.40392157, 0.74117647, 1.        ]), '1h_2o2': array([0.89019608, 0.46666667, 0.76078431, 1.        ]), '1h_21o2': array([0.7372549 , 0.74117647, 0.13333333, 1.        ]), '7h_2o2': array([0.61960784, 0.85490196, 0.89803922, 1.        ])}\n"
     ]
    },
    {
     "data": {
      "text/plain": [
       "<Figure size 640x480 with 0 Axes>"
      ]
     },
     "metadata": {},
     "output_type": "display_data"
    },
    {
     "data": {
      "image/png": "[encoded data removed]",
      "text/plain": [
       "<Figure size 640x480 with 1 Axes>"
      ]
     },
     "metadata": {},
     "output_type": "display_data"
    }
   ],
   "source": [
    "plt.figure()\n",
    "colors = {i: c for i, c in zip(set(y), plt.cm.tab20(np.linspace(0, 1, len(set(y)))))}\n",
    "print(colors)\n",
    "pc1_ex_var, pc2_ex_var = pca.explained_variance_ratio_\n",
    "lw = 2\n",
    "\n",
    "fig, ax = plt.subplots(1)\n",
    "for i in y:\n",
    "    ax.scatter(\n",
    "        X_r[y == i, 0], X_r[y == i, 1], color=colors[i], alpha=0.8, lw=lw, label=i\n",
    "    )\n",
    "ax.set_xlabel(f'PC1 ({pc1_ex_var*100:.2f}%)')\n",
    "ax.set_ylabel(f'PC2 ({pc2_ex_var*100:.2f}%)')\n",
    "\n",
    "def legend_without_duplicate_labels(ax):\n",
    "    handles, labels = ax.get_legend_handles_labels()\n",
    "    unique = [(h, l) for i, (h, l) in enumerate(zip(handles[::-1], labels[::-1])) if l not in labels[::-1][:i]]\n",
    "    ax.legend(*zip(*unique), loc=(1.1,0))\n",
    "legend_without_duplicate_labels(ax)"
   ]
  },
  {
   "cell_type": "markdown",
   "id": "08618c3a-7f9e-4435-a6da-d0f99ed30bac",
   "metadata": {},
   "source": [
    "The explained variance is vastly different than in the plot we're trying to reproduce, however, very encouragingly we see the similar trends in separation! At least we do in the fact that PC1 explains the variance between timepoints, and that the 1 hour samples are not very different from one another."
   ]
  },
  {
   "cell_type": "markdown",
   "id": "fb92ad22-5384-43af-b2ee-3dfb2d5cd6d9",
   "metadata": {},
   "source": [
    "## DE statistical analysis"
   ]
  },
  {
   "cell_type": "markdown",
   "id": "9900e321-e176-4fe2-b0b9-921af9573626",
   "metadata": {},
   "source": [
    "For the moment, we're going to filter out the 1h timepoints in the interest of reproducing Kaila's original analysis; we can come back and do 1h vs 7h per condition later on if we're interested in doing so. We then need to re-run the modeling component again before doing the statistical analysis:"
   ]
  },
  {
   "cell_type": "code",
   "execution_count": 13,
   "id": "71d01bb6-1ba3-422f-85ee-cdbf4c2496df",
   "metadata": {},
   "outputs": [
    {
     "name": "stdout",
     "output_type": "stream",
     "text": [
      "(12, 2) (12, 35690)\n"
     ]
    }
   ],
   "source": [
    "samples_to_keep = metadata[metadata['group'] == '7h'].index\n",
    "metadata = metadata.loc[samples_to_keep]\n",
    "counts_df = counts_df.loc[samples_to_keep]\n",
    "print(metadata.shape, counts_df.shape)"
   ]
  },
  {
   "cell_type": "code",
   "execution_count": 14,
   "id": "83bfec16-0eb3-4beb-a4ed-6517a89d4de9",
   "metadata": {},
   "outputs": [
    {
     "name": "stderr",
     "output_type": "stream",
     "text": [
      "Fitting size factors...\n",
      "... done in 0.02 seconds.\n",
      "\n",
      "Fitting dispersions...\n",
      "... done in 37.50 seconds.\n",
      "\n",
      "Fitting dispersion trend curve...\n",
      "... done in 0.84 seconds.\n",
      "\n",
      "Fitting MAP dispersions...\n",
      "... done in 43.04 seconds.\n",
      "\n",
      "Fitting LFCs...\n",
      "... done in 31.47 seconds.\n",
      "\n",
      "Calculating cook's distance...\n",
      "... done in 0.02 seconds.\n",
      "\n",
      "Replacing 0 outlier genes.\n",
      "\n"
     ]
    }
   ],
   "source": [
    "inference = DefaultInference(n_cpus=8)\n",
    "dds = DeseqDataSet(\n",
    "    counts=counts_df,\n",
    "    metadata=metadata,\n",
    "    inference=inference,\n",
    ")\n",
    "dds.deseq2()"
   ]
  },
  {
   "cell_type": "code",
   "execution_count": 15,
   "id": "a4ccb2d5-5836-49ee-a5e0-2b3ec88cc9c5",
   "metadata": {},
   "outputs": [],
   "source": [
    "ds_2_vs_21 = DeseqStats(\n",
    "    dds,\n",
    "    contrast=['condition', '2o2', '21o2'],\n",
    "    alpha=0.05\n",
    ")"
   ]
  },
  {
   "cell_type": "code",
   "execution_count": 16,
   "id": "794e3838-a313-401c-bd5d-b4bfe73055b8",
   "metadata": {
    "scrolled": true
   },
   "outputs": [
    {
     "name": "stderr",
     "output_type": "stream",
     "text": [
      "Running Wald tests...\n"
     ]
    },
    {
     "name": "stdout",
     "output_type": "stream",
     "text": [
      "Log2 fold change & Wald test p-value: condition 2o2 vs 21o2\n",
      "                 baseMean  log2FoldChange     lfcSE      stat    pvalue  \\\n",
      "target_id                                                                 \n",
      "ATCG00020.1  3.501801e+06       -0.295507  0.077927 -3.792088  0.000149   \n",
      "ATCG00040.1  2.633802e+05       -0.503968  0.117509 -4.288746  0.000018   \n",
      "ATCG00050.1  3.837515e+03        0.105851  0.129142  0.819648  0.412417   \n",
      "ATCG00065.1  1.433805e+03       -0.257827  0.182547 -1.412389  0.157836   \n",
      "ATCG00070.1  5.179731e+04       -0.151372  0.127535 -1.186905  0.235265   \n",
      "...                   ...             ...       ...       ...       ...   \n",
      "AT5G67600.1  1.098525e+02        0.425098  0.223944  1.898233  0.057665   \n",
      "AT5G67610.2  7.521073e+01        0.346299  0.754286  0.459108  0.646156   \n",
      "AT5G67610.1  1.551466e+01       -6.818066  3.919580 -1.739489  0.081949   \n",
      "AT5G67630.1  1.934955e+02        0.064850  0.156580  0.414162  0.678756   \n",
      "AT5G67640.1  4.177491e+01       -0.226831  0.250450 -0.905694  0.365098   \n",
      "\n",
      "                 padj  \n",
      "target_id              \n",
      "ATCG00020.1  0.002128  \n",
      "ATCG00040.1  0.000338  \n",
      "ATCG00050.1  0.758740  \n",
      "ATCG00065.1  0.448369  \n",
      "ATCG00070.1  0.567768  \n",
      "...               ...  \n",
      "AT5G67600.1  0.235118  \n",
      "AT5G67610.2  0.898475  \n",
      "AT5G67610.1  0.295775  \n",
      "AT5G67630.1  0.910517  \n",
      "AT5G67640.1  0.716252  \n",
      "\n",
      "[35690 rows x 6 columns]\n"
     ]
    },
    {
     "name": "stderr",
     "output_type": "stream",
     "text": [
      "... done in 181.52 seconds.\n",
      "\n"
     ]
    }
   ],
   "source": [
    "ds_2_vs_21.summary()"
   ]
  },
  {
   "cell_type": "code",
   "execution_count": 17,
   "id": "a074c710-969b-42ad-a246-ccc8a02a394b",
   "metadata": {},
   "outputs": [
    {
     "data": {
      "text/html": [
       "<div>\n",
       "<style scoped>\n",
       "    .dataframe tbody tr th:only-of-type {\n",
       "        vertical-align: middle;\n",
       "    }\n",
       "\n",
       "    .dataframe tbody tr th {\n",
       "        vertical-align: top;\n",
       "    }\n",
       "\n",
       "    .dataframe thead th {\n",
       "        text-align: right;\n",
       "    }\n",
       "</style>\n",
       "<table border=\"1\" class=\"dataframe\">\n",
       "  <thead>\n",
       "    <tr style=\"text-align: right;\">\n",
       "      <th></th>\n",
       "      <th>baseMean</th>\n",
       "      <th>log2FoldChange</th>\n",
       "      <th>lfcSE</th>\n",
       "      <th>stat</th>\n",
       "      <th>pvalue</th>\n",
       "      <th>padj</th>\n",
       "    </tr>\n",
       "    <tr>\n",
       "      <th>target_id</th>\n",
       "      <th></th>\n",
       "      <th></th>\n",
       "      <th></th>\n",
       "      <th></th>\n",
       "      <th></th>\n",
       "      <th></th>\n",
       "    </tr>\n",
       "  </thead>\n",
       "  <tbody>\n",
       "    <tr>\n",
       "      <th>ATCG00020.1</th>\n",
       "      <td>3.501801e+06</td>\n",
       "      <td>-0.295507</td>\n",
       "      <td>0.077927</td>\n",
       "      <td>-3.792088</td>\n",
       "      <td>0.000149</td>\n",
       "      <td>0.002128</td>\n",
       "    </tr>\n",
       "    <tr>\n",
       "      <th>ATCG00040.1</th>\n",
       "      <td>2.633802e+05</td>\n",
       "      <td>-0.503968</td>\n",
       "      <td>0.117509</td>\n",
       "      <td>-4.288746</td>\n",
       "      <td>0.000018</td>\n",
       "      <td>0.000338</td>\n",
       "    </tr>\n",
       "    <tr>\n",
       "      <th>ATCG00050.1</th>\n",
       "      <td>3.837515e+03</td>\n",
       "      <td>0.105851</td>\n",
       "      <td>0.129142</td>\n",
       "      <td>0.819648</td>\n",
       "      <td>0.412417</td>\n",
       "      <td>0.758740</td>\n",
       "    </tr>\n",
       "    <tr>\n",
       "      <th>ATCG00065.1</th>\n",
       "      <td>1.433805e+03</td>\n",
       "      <td>-0.257827</td>\n",
       "      <td>0.182547</td>\n",
       "      <td>-1.412389</td>\n",
       "      <td>0.157836</td>\n",
       "      <td>0.448369</td>\n",
       "    </tr>\n",
       "    <tr>\n",
       "      <th>ATCG00070.1</th>\n",
       "      <td>5.179731e+04</td>\n",
       "      <td>-0.151372</td>\n",
       "      <td>0.127535</td>\n",
       "      <td>-1.186905</td>\n",
       "      <td>0.235265</td>\n",
       "      <td>0.567768</td>\n",
       "    </tr>\n",
       "  </tbody>\n",
       "</table>\n",
       "</div>"
      ],
      "text/plain": [
       "                 baseMean  log2FoldChange     lfcSE      stat    pvalue  \\\n",
       "target_id                                                                 \n",
       "ATCG00020.1  3.501801e+06       -0.295507  0.077927 -3.792088  0.000149   \n",
       "ATCG00040.1  2.633802e+05       -0.503968  0.117509 -4.288746  0.000018   \n",
       "ATCG00050.1  3.837515e+03        0.105851  0.129142  0.819648  0.412417   \n",
       "ATCG00065.1  1.433805e+03       -0.257827  0.182547 -1.412389  0.157836   \n",
       "ATCG00070.1  5.179731e+04       -0.151372  0.127535 -1.186905  0.235265   \n",
       "\n",
       "                 padj  \n",
       "target_id              \n",
       "ATCG00020.1  0.002128  \n",
       "ATCG00040.1  0.000338  \n",
       "ATCG00050.1  0.758740  \n",
       "ATCG00065.1  0.448369  \n",
       "ATCG00070.1  0.567768  "
      ]
     },
     "execution_count": 17,
     "metadata": {},
     "output_type": "execute_result"
    }
   ],
   "source": [
    "DE_2_vs_21 = ds_2_vs_21.results_df\n",
    "DE_2_vs_21.head()"
   ]
  },
  {
   "cell_type": "code",
   "execution_count": 18,
   "id": "161216a5-5a2c-498e-b5ef-ac8afb280d0d",
   "metadata": {},
   "outputs": [],
   "source": [
    "ds_40_vs_21 = DeseqStats(\n",
    "    dds,\n",
    "    contrast=['condition', '40o2', '21o2'],\n",
    "    alpha=0.05\n",
    ")"
   ]
  },
  {
   "cell_type": "code",
   "execution_count": 19,
   "id": "1577693f-0f6a-49c4-90bd-f4a9c2db8b84",
   "metadata": {
    "scrolled": true
   },
   "outputs": [
    {
     "name": "stderr",
     "output_type": "stream",
     "text": [
      "Running Wald tests...\n"
     ]
    },
    {
     "name": "stdout",
     "output_type": "stream",
     "text": [
      "Log2 fold change & Wald test p-value: condition 40o2 vs 21o2\n",
      "                 baseMean  log2FoldChange     lfcSE      stat    pvalue  \\\n",
      "target_id                                                                 \n",
      "ATCG00020.1  3.501801e+06       -0.049070  0.077927 -0.629688  0.528899   \n",
      "ATCG00040.1  2.633802e+05       -0.160453  0.117508 -1.365455  0.172110   \n",
      "ATCG00050.1  3.837515e+03       -0.020258  0.129238 -0.156749  0.875442   \n",
      "ATCG00065.1  1.433805e+03        0.241795  0.182337  1.326091  0.184810   \n",
      "ATCG00070.1  5.179731e+04        0.030226  0.127535  0.237002  0.812655   \n",
      "...                   ...             ...       ...       ...       ...   \n",
      "AT5G67600.1  1.098525e+02        0.191430  0.226443  0.845380  0.397899   \n",
      "AT5G67610.2  7.521073e+01       -0.066512  0.755923 -0.087988  0.929886   \n",
      "AT5G67610.1  1.551466e+01        0.723894  3.541092  0.204427  0.838020   \n",
      "AT5G67630.1  1.934955e+02       -0.365108  0.159939 -2.282797  0.022442   \n",
      "AT5G67640.1  4.177491e+01        0.459005  0.242454  1.893168  0.058336   \n",
      "\n",
      "                 padj  \n",
      "target_id              \n",
      "ATCG00020.1  0.919549  \n",
      "ATCG00040.1  0.647614  \n",
      "ATCG00050.1  0.989188  \n",
      "ATCG00065.1  0.665537  \n",
      "ATCG00070.1  0.981206  \n",
      "...               ...  \n",
      "AT5G67600.1  0.859170  \n",
      "AT5G67610.2  0.992635  \n",
      "AT5G67610.1       NaN  \n",
      "AT5G67630.1  0.215993  \n",
      "AT5G67640.1  0.377536  \n",
      "\n",
      "[35690 rows x 6 columns]\n"
     ]
    },
    {
     "name": "stderr",
     "output_type": "stream",
     "text": [
      "... done in 7.55 seconds.\n",
      "\n"
     ]
    }
   ],
   "source": [
    "ds_40_vs_21.summary()"
   ]
  },
  {
   "cell_type": "code",
   "execution_count": 20,
   "id": "fc221c06-0251-4cea-8ca6-2f4d009f69a3",
   "metadata": {},
   "outputs": [
    {
     "data": {
      "text/html": [
       "<div>\n",
       "<style scoped>\n",
       "    .dataframe tbody tr th:only-of-type {\n",
       "        vertical-align: middle;\n",
       "    }\n",
       "\n",
       "    .dataframe tbody tr th {\n",
       "        vertical-align: top;\n",
       "    }\n",
       "\n",
       "    .dataframe thead th {\n",
       "        text-align: right;\n",
       "    }\n",
       "</style>\n",
       "<table border=\"1\" class=\"dataframe\">\n",
       "  <thead>\n",
       "    <tr style=\"text-align: right;\">\n",
       "      <th></th>\n",
       "      <th>baseMean</th>\n",
       "      <th>log2FoldChange</th>\n",
       "      <th>lfcSE</th>\n",
       "      <th>stat</th>\n",
       "      <th>pvalue</th>\n",
       "      <th>padj</th>\n",
       "    </tr>\n",
       "    <tr>\n",
       "      <th>target_id</th>\n",
       "      <th></th>\n",
       "      <th></th>\n",
       "      <th></th>\n",
       "      <th></th>\n",
       "      <th></th>\n",
       "      <th></th>\n",
       "    </tr>\n",
       "  </thead>\n",
       "  <tbody>\n",
       "    <tr>\n",
       "      <th>ATCG00020.1</th>\n",
       "      <td>3.501801e+06</td>\n",
       "      <td>-0.049070</td>\n",
       "      <td>0.077927</td>\n",
       "      <td>-0.629688</td>\n",
       "      <td>0.528899</td>\n",
       "      <td>0.919549</td>\n",
       "    </tr>\n",
       "    <tr>\n",
       "      <th>ATCG00040.1</th>\n",
       "      <td>2.633802e+05</td>\n",
       "      <td>-0.160453</td>\n",
       "      <td>0.117508</td>\n",
       "      <td>-1.365455</td>\n",
       "      <td>0.172110</td>\n",
       "      <td>0.647614</td>\n",
       "    </tr>\n",
       "    <tr>\n",
       "      <th>ATCG00050.1</th>\n",
       "      <td>3.837515e+03</td>\n",
       "      <td>-0.020258</td>\n",
       "      <td>0.129238</td>\n",
       "      <td>-0.156749</td>\n",
       "      <td>0.875442</td>\n",
       "      <td>0.989188</td>\n",
       "    </tr>\n",
       "    <tr>\n",
       "      <th>ATCG00065.1</th>\n",
       "      <td>1.433805e+03</td>\n",
       "      <td>0.241795</td>\n",
       "      <td>0.182337</td>\n",
       "      <td>1.326091</td>\n",
       "      <td>0.184810</td>\n",
       "      <td>0.665537</td>\n",
       "    </tr>\n",
       "    <tr>\n",
       "      <th>ATCG00070.1</th>\n",
       "      <td>5.179731e+04</td>\n",
       "      <td>0.030226</td>\n",
       "      <td>0.127535</td>\n",
       "      <td>0.237002</td>\n",
       "      <td>0.812655</td>\n",
       "      <td>0.981206</td>\n",
       "    </tr>\n",
       "  </tbody>\n",
       "</table>\n",
       "</div>"
      ],
      "text/plain": [
       "                 baseMean  log2FoldChange     lfcSE      stat    pvalue  \\\n",
       "target_id                                                                 \n",
       "ATCG00020.1  3.501801e+06       -0.049070  0.077927 -0.629688  0.528899   \n",
       "ATCG00040.1  2.633802e+05       -0.160453  0.117508 -1.365455  0.172110   \n",
       "ATCG00050.1  3.837515e+03       -0.020258  0.129238 -0.156749  0.875442   \n",
       "ATCG00065.1  1.433805e+03        0.241795  0.182337  1.326091  0.184810   \n",
       "ATCG00070.1  5.179731e+04        0.030226  0.127535  0.237002  0.812655   \n",
       "\n",
       "                 padj  \n",
       "target_id              \n",
       "ATCG00020.1  0.919549  \n",
       "ATCG00040.1  0.647614  \n",
       "ATCG00050.1  0.989188  \n",
       "ATCG00065.1  0.665537  \n",
       "ATCG00070.1  0.981206  "
      ]
     },
     "execution_count": 20,
     "metadata": {},
     "output_type": "execute_result"
    }
   ],
   "source": [
    "DE_40_vs_21 = ds_40_vs_21.results_df\n",
    "DE_40_vs_21.head()"
   ]
  },
  {
   "attachments": {
    "575410f8-a0ab-4e39-870f-01ba586ae40f.png": {
     "image/png": "[encoded data removed]"
    }
   },
   "cell_type": "markdown",
   "id": "a949d1ca-ca1f-46da-acc3-f18e2cb99c24",
   "metadata": {},
   "source": [
    "## Number of DE genes at conditions\n",
    "\n",
    "Reproducing the following plot (all samples are from 7h):\n",
    "\n",
    "<img src=\"attachment:575410f8-a0ab-4e39-870f-01ba586ae40f.png\" alt=\"drawing\" width=\"300\"/>"
   ]
  },
  {
   "cell_type": "code",
   "execution_count": 21,
   "id": "050426a3-ceb5-4d75-adef-95086ee90789",
   "metadata": {},
   "outputs": [],
   "source": [
    "two_up = DE_2_vs_21[(DE_2_vs_21[\"padj\"] < 0.05) & (DE_2_vs_21[\"log2FoldChange\"] > 0)]\n",
    "two_down = DE_2_vs_21[(DE_2_vs_21[\"padj\"] < 0.05) & (DE_2_vs_21[\"log2FoldChange\"] < 0)]\n",
    "forty_up = DE_40_vs_21[(DE_2_vs_21[\"padj\"] < 0.05) & (DE_40_vs_21[\"log2FoldChange\"] > 0)]\n",
    "forty_down = DE_40_vs_21[(DE_2_vs_21[\"padj\"] < 0.05) & (DE_40_vs_21[\"log2FoldChange\"] < 0)]"
   ]
  },
  {
   "cell_type": "code",
   "execution_count": 22,
   "id": "274105ef-61bb-438b-b8c4-dfd8992bc561",
   "metadata": {},
   "outputs": [
    {
     "data": {
      "text/plain": [
       "<matplotlib.legend.Legend at 0x15015e3d6e50>"
      ]
     },
     "execution_count": 22,
     "metadata": {},
     "output_type": "execute_result"
    },
    {
     "data": {
      "image/png": "[encoded data removed]",
      "text/plain": [
       "<Figure size 640x480 with 1 Axes>"
      ]
     },
     "metadata": {},
     "output_type": "display_data"
    }
   ],
   "source": [
    "conditions = ('2', '40')\n",
    "values = {\n",
    "    'Up': (len(two_up), len(forty_up)),\n",
    "    'Down': (len(two_down), len(forty_down))\n",
    "}\n",
    "\n",
    "x = np.arange(len(conditions))  # the label locations\n",
    "width = 0.25  # the width of the bars\n",
    "multiplier = 0\n",
    "\n",
    "fig, ax = plt.subplots(layout='constrained')\n",
    "\n",
    "for attribute, measurement in values.items():\n",
    "    offset = width * multiplier\n",
    "    rects = ax.bar(x + offset, measurement, width, label=attribute)\n",
    "    ax.bar_label(rects, padding=3)\n",
    "    multiplier += 1\n",
    "ax.set_ylabel('Differentially expressed genes at 7h (#)')\n",
    "ax.set_xlabel('Oxygen (%)')\n",
    "ax.set_xticks(x + width, conditions)\n",
    "ax.legend(loc='upper left', ncols=3)"
   ]
  },
  {
   "cell_type": "markdown",
   "id": "da233279-5e10-4125-b2bd-9751a532abec",
   "metadata": {},
   "source": [
    "Well that is very different, but to a level that makes me think I probably did something obvious wrong, although I'm not sure what that might be."
   ]
  },
  {
   "cell_type": "code",
   "execution_count": null,
   "id": "31b95f63-f175-47eb-9bb4-30efd854ad17",
   "metadata": {},
   "outputs": [],
   "source": []
  }
 ],
 "metadata": {
  "kernelspec": {
   "display_name": "omics",
   "language": "python",
   "name": "omics"
  },
  "language_info": {
   "codemirror_mode": {
    "name": "ipython",
    "version": 3
   },
   "file_extension": ".py",
   "mimetype": "text/x-python",
   "name": "python",
   "nbconvert_exporter": "python",
   "pygments_lexer": "ipython3",
   "version": "3.9.19"
  }
 },
 "nbformat": 4,
 "nbformat_minor": 5
}
