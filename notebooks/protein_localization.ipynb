{
 "cells": [
  {
   "cell_type": "markdown",
   "id": "a0a7ffde-1089-43f4-b99f-8d734cb11631",
   "metadata": {},
   "source": [
    "# Protein localization\n",
    "In this notebook, we'll examine the relationship between proteins that are downregulated at their organellar localization. This tests the hypothesis that \"downregulation\" is actually autophagy; the signature of autophagy will be if the proteins beloning to a given compartment all go down together."
   ]
  },
  {
   "cell_type": "code",
   "execution_count": 2,
   "id": "21eafcc9-43db-41b7-9d7f-b3c614e8c55f",
   "metadata": {},
   "outputs": [],
   "source": [
    "import pandas as pd\n",
    "import numpy as np\n",
    "import matplotlib.pyplot as plt"
   ]
  },
  {
   "cell_type": "markdown",
   "id": "06943911-1074-46ee-8b4f-d5df47158da4",
   "metadata": {},
   "source": [
    "## Import data\n",
    "We used [SUBA5](https://suba.live/) to get protein localization for the chloroplast, mitochondria, and peroxisome. We also have a high-quality peroxisomal protein dataset from [Reumann et al 2009](https://academic.oup.com/plphys/article/150/1/125/6107795) that we'll use to cross-check the SUBA5 results and validate our data filtering approach."
   ]
  },
  {
   "cell_type": "code",
   "execution_count": 3,
   "id": "0251ad6d-9a86-48f9-bcde-ba0d44534302",
   "metadata": {},
   "outputs": [
    {
     "data": {
      "text/html": [
       "<div>\n",
       "<style scoped>\n",
       "    .dataframe tbody tr th:only-of-type {\n",
       "        vertical-align: middle;\n",
       "    }\n",
       "\n",
       "    .dataframe tbody tr th {\n",
       "        vertical-align: top;\n",
       "    }\n",
       "\n",
       "    .dataframe thead th {\n",
       "        text-align: right;\n",
       "    }\n",
       "</style>\n",
       "<table border=\"1\" class=\"dataframe\">\n",
       "  <thead>\n",
       "    <tr style=\"text-align: right;\">\n",
       "      <th></th>\n",
       "      <th>locus</th>\n",
       "      <th>chr</th>\n",
       "      <th>description</th>\n",
       "      <th>ests</th>\n",
       "      <th>flcdnas</th>\n",
       "      <th>residues</th>\n",
       "      <th>mwt</th>\n",
       "      <th>pi</th>\n",
       "      <th>gravy</th>\n",
       "      <th>gfp_image</th>\n",
       "      <th>...</th>\n",
       "      <th>location_wolfpsort</th>\n",
       "      <th>location_yloc</th>\n",
       "      <th>location_amigo</th>\n",
       "      <th>location_tair</th>\n",
       "      <th>location_swissprot</th>\n",
       "      <th>spid</th>\n",
       "      <th>location_ms</th>\n",
       "      <th>location_gfp</th>\n",
       "      <th>location_consensus</th>\n",
       "      <th>location_gs</th>\n",
       "    </tr>\n",
       "  </thead>\n",
       "  <tbody>\n",
       "    <tr>\n",
       "      <th>0</th>\n",
       "      <td>AT1G01080.1</td>\n",
       "      <td>1</td>\n",
       "      <td>RNA-binding (RRM/RBD/RNP motifs) family protein;</td>\n",
       "      <td>56</td>\n",
       "      <td>3</td>\n",
       "      <td>293</td>\n",
       "      <td>32577.5</td>\n",
       "      <td>9.23574</td>\n",
       "      <td>-0.46041</td>\n",
       "      <td>0</td>\n",
       "      <td>...</td>\n",
       "      <td>plastid</td>\n",
       "      <td>plastid</td>\n",
       "      <td>nucleus:14617066;plastid:12938931;plastid:1502...</td>\n",
       "      <td>nucleus:14617066;plastid:18633119;plastid:1843...</td>\n",
       "      <td>NaN</td>\n",
       "      <td>Q8W592</td>\n",
       "      <td>golgi:25900983;nucleus:14617066;nucleus:233965...</td>\n",
       "      <td>NaN</td>\n",
       "      <td>plastid</td>\n",
       "      <td>NaN</td>\n",
       "    </tr>\n",
       "  </tbody>\n",
       "</table>\n",
       "<p>1 rows × 41 columns</p>\n",
       "</div>"
      ],
      "text/plain": [
       "         locus chr                                       description  ests  \\\n",
       "0  AT1G01080.1   1  RNA-binding (RRM/RBD/RNP motifs) family protein;    56   \n",
       "\n",
       "   flcdnas  residues      mwt       pi    gravy  gfp_image  ...  \\\n",
       "0        3       293  32577.5  9.23574 -0.46041          0  ...   \n",
       "\n",
       "  location_wolfpsort location_yloc  \\\n",
       "0            plastid       plastid   \n",
       "\n",
       "                                      location_amigo  \\\n",
       "0  nucleus:14617066;plastid:12938931;plastid:1502...   \n",
       "\n",
       "                                       location_tair location_swissprot  \\\n",
       "0  nucleus:14617066;plastid:18633119;plastid:1843...                NaN   \n",
       "\n",
       "     spid                                        location_ms location_gfp  \\\n",
       "0  Q8W592  golgi:25900983;nucleus:14617066;nucleus:233965...          NaN   \n",
       "\n",
       "  location_consensus location_gs  \n",
       "0            plastid         NaN  \n",
       "\n",
       "[1 rows x 41 columns]"
      ]
     },
     "execution_count": 3,
     "metadata": {},
     "output_type": "execute_result"
    }
   ],
   "source": [
    "mito = pd.read_csv('../data/localization/Suba2022-2025-4-24_18-2_MITOCHONDRIA.csv')\n",
    "mito.head(1)"
   ]
  },
  {
   "cell_type": "code",
   "execution_count": 4,
   "id": "f6ee55ba-a67f-4ec8-a2c2-8d6ad4881166",
   "metadata": {},
   "outputs": [
    {
     "data": {
      "text/html": [
       "<div>\n",
       "<style scoped>\n",
       "    .dataframe tbody tr th:only-of-type {\n",
       "        vertical-align: middle;\n",
       "    }\n",
       "\n",
       "    .dataframe tbody tr th {\n",
       "        vertical-align: top;\n",
       "    }\n",
       "\n",
       "    .dataframe thead th {\n",
       "        text-align: right;\n",
       "    }\n",
       "</style>\n",
       "<table border=\"1\" class=\"dataframe\">\n",
       "  <thead>\n",
       "    <tr style=\"text-align: right;\">\n",
       "      <th></th>\n",
       "      <th>locus</th>\n",
       "      <th>chr</th>\n",
       "      <th>description</th>\n",
       "      <th>ests</th>\n",
       "      <th>flcdnas</th>\n",
       "      <th>residues</th>\n",
       "      <th>mwt</th>\n",
       "      <th>pi</th>\n",
       "      <th>gravy</th>\n",
       "      <th>gfp_image</th>\n",
       "      <th>...</th>\n",
       "      <th>location_wolfpsort</th>\n",
       "      <th>location_yloc</th>\n",
       "      <th>location_amigo</th>\n",
       "      <th>location_tair</th>\n",
       "      <th>location_swissprot</th>\n",
       "      <th>spid</th>\n",
       "      <th>location_ms</th>\n",
       "      <th>location_gfp</th>\n",
       "      <th>location_consensus</th>\n",
       "      <th>location_gs</th>\n",
       "    </tr>\n",
       "  </thead>\n",
       "  <tbody>\n",
       "    <tr>\n",
       "      <th>0</th>\n",
       "      <td>AT1G01080.1</td>\n",
       "      <td>1</td>\n",
       "      <td>RNA-binding (RRM/RBD/RNP motifs) family protein;</td>\n",
       "      <td>56</td>\n",
       "      <td>3</td>\n",
       "      <td>293</td>\n",
       "      <td>32577.5</td>\n",
       "      <td>9.23574</td>\n",
       "      <td>-0.46041</td>\n",
       "      <td>0</td>\n",
       "      <td>...</td>\n",
       "      <td>plastid</td>\n",
       "      <td>plastid</td>\n",
       "      <td>nucleus:14617066;plastid:12938931;plastid:1502...</td>\n",
       "      <td>nucleus:14617066;plastid:18633119;plastid:1843...</td>\n",
       "      <td>NaN</td>\n",
       "      <td>Q8W592</td>\n",
       "      <td>golgi:25900983;nucleus:14617066;nucleus:233965...</td>\n",
       "      <td>NaN</td>\n",
       "      <td>plastid</td>\n",
       "      <td>NaN</td>\n",
       "    </tr>\n",
       "  </tbody>\n",
       "</table>\n",
       "<p>1 rows × 41 columns</p>\n",
       "</div>"
      ],
      "text/plain": [
       "         locus chr                                       description  ests  \\\n",
       "0  AT1G01080.1   1  RNA-binding (RRM/RBD/RNP motifs) family protein;    56   \n",
       "\n",
       "   flcdnas  residues      mwt       pi    gravy  gfp_image  ...  \\\n",
       "0        3       293  32577.5  9.23574 -0.46041          0  ...   \n",
       "\n",
       "  location_wolfpsort location_yloc  \\\n",
       "0            plastid       plastid   \n",
       "\n",
       "                                      location_amigo  \\\n",
       "0  nucleus:14617066;plastid:12938931;plastid:1502...   \n",
       "\n",
       "                                       location_tair location_swissprot  \\\n",
       "0  nucleus:14617066;plastid:18633119;plastid:1843...                NaN   \n",
       "\n",
       "     spid                                        location_ms location_gfp  \\\n",
       "0  Q8W592  golgi:25900983;nucleus:14617066;nucleus:233965...          NaN   \n",
       "\n",
       "  location_consensus location_gs  \n",
       "0            plastid         NaN  \n",
       "\n",
       "[1 rows x 41 columns]"
      ]
     },
     "execution_count": 4,
     "metadata": {},
     "output_type": "execute_result"
    }
   ],
   "source": [
    "chloro = pd.read_csv('../data/localization/Suba2022-2025-4-24_18-0_PLASTID.csv')\n",
    "chloro.head(1)"
   ]
  },
  {
   "cell_type": "code",
   "execution_count": 5,
   "id": "0e5a2013-7d06-4bf1-bafd-9e3d0cb97ec9",
   "metadata": {},
   "outputs": [
    {
     "data": {
      "text/html": [
       "<div>\n",
       "<style scoped>\n",
       "    .dataframe tbody tr th:only-of-type {\n",
       "        vertical-align: middle;\n",
       "    }\n",
       "\n",
       "    .dataframe tbody tr th {\n",
       "        vertical-align: top;\n",
       "    }\n",
       "\n",
       "    .dataframe thead th {\n",
       "        text-align: right;\n",
       "    }\n",
       "</style>\n",
       "<table border=\"1\" class=\"dataframe\">\n",
       "  <thead>\n",
       "    <tr style=\"text-align: right;\">\n",
       "      <th></th>\n",
       "      <th>locus</th>\n",
       "      <th>chr</th>\n",
       "      <th>description</th>\n",
       "      <th>ests</th>\n",
       "      <th>flcdnas</th>\n",
       "      <th>residues</th>\n",
       "      <th>mwt</th>\n",
       "      <th>pi</th>\n",
       "      <th>gravy</th>\n",
       "      <th>gfp_image</th>\n",
       "      <th>...</th>\n",
       "      <th>location_wolfpsort</th>\n",
       "      <th>location_yloc</th>\n",
       "      <th>location_amigo</th>\n",
       "      <th>location_tair</th>\n",
       "      <th>location_swissprot</th>\n",
       "      <th>spid</th>\n",
       "      <th>location_ms</th>\n",
       "      <th>location_gfp</th>\n",
       "      <th>location_consensus</th>\n",
       "      <th>location_gs</th>\n",
       "    </tr>\n",
       "  </thead>\n",
       "  <tbody>\n",
       "    <tr>\n",
       "      <th>0</th>\n",
       "      <td>AT1G01710.1</td>\n",
       "      <td>1</td>\n",
       "      <td>Acyl-CoA thioesterase family protein;</td>\n",
       "      <td>32</td>\n",
       "      <td>5</td>\n",
       "      <td>427</td>\n",
       "      <td>48157.8</td>\n",
       "      <td>7.61286</td>\n",
       "      <td>-0.22459</td>\n",
       "      <td>0</td>\n",
       "      <td>...</td>\n",
       "      <td>cytosol</td>\n",
       "      <td>peroxisome</td>\n",
       "      <td>peroxisome:17951448</td>\n",
       "      <td>peroxisome:17951448</td>\n",
       "      <td>NaN</td>\n",
       "      <td>Q8GYW7</td>\n",
       "      <td>mitochondrion:27943495;peroxisome:17951448;per...</td>\n",
       "      <td>NaN</td>\n",
       "      <td>peroxisome</td>\n",
       "      <td>NaN</td>\n",
       "    </tr>\n",
       "  </tbody>\n",
       "</table>\n",
       "<p>1 rows × 41 columns</p>\n",
       "</div>"
      ],
      "text/plain": [
       "         locus  chr                            description  ests  flcdnas  \\\n",
       "0  AT1G01710.1    1  Acyl-CoA thioesterase family protein;    32        5   \n",
       "\n",
       "   residues      mwt       pi    gravy  gfp_image  ... location_wolfpsort  \\\n",
       "0       427  48157.8  7.61286 -0.22459          0  ...            cytosol   \n",
       "\n",
       "  location_yloc       location_amigo        location_tair location_swissprot  \\\n",
       "0    peroxisome  peroxisome:17951448  peroxisome:17951448                NaN   \n",
       "\n",
       "     spid                                        location_ms location_gfp  \\\n",
       "0  Q8GYW7  mitochondrion:27943495;peroxisome:17951448;per...          NaN   \n",
       "\n",
       "  location_consensus location_gs  \n",
       "0         peroxisome         NaN  \n",
       "\n",
       "[1 rows x 41 columns]"
      ]
     },
     "execution_count": 5,
     "metadata": {},
     "output_type": "execute_result"
    }
   ],
   "source": [
    "perox = pd.read_csv('../data/localization/Suba2022-2025-4-24_18-0_PEROXISOME.csv')\n",
    "perox.head(1)"
   ]
  },
  {
   "cell_type": "code",
   "execution_count": 6,
   "id": "24c5b5f7-717c-486e-b68a-28f10b89d16e",
   "metadata": {},
   "outputs": [
    {
     "data": {
      "text/html": [
       "<div>\n",
       "<style scoped>\n",
       "    .dataframe tbody tr th:only-of-type {\n",
       "        vertical-align: middle;\n",
       "    }\n",
       "\n",
       "    .dataframe tbody tr th {\n",
       "        vertical-align: top;\n",
       "    }\n",
       "\n",
       "    .dataframe thead th {\n",
       "        text-align: right;\n",
       "    }\n",
       "</style>\n",
       "<table border=\"1\" class=\"dataframe\">\n",
       "  <thead>\n",
       "    <tr style=\"text-align: right;\">\n",
       "      <th></th>\n",
       "      <th>Gene locus</th>\n",
       "      <th>Acronym</th>\n",
       "      <th>Annotation</th>\n",
       "      <th>MM (kDa) / pI / aa</th>\n",
       "      <th>Number of unique peptides detected</th>\n",
       "      <th>Spectral number of unique peptides</th>\n",
       "      <th>Variant information and locus identification specificity</th>\n",
       "    </tr>\n",
       "  </thead>\n",
       "  <tbody>\n",
       "    <tr>\n",
       "      <th>0</th>\n",
       "      <td>At1g02920.1</td>\n",
       "      <td>GSTF7</td>\n",
       "      <td>Glutathione transferase</td>\n",
       "      <td>23.6 / 6.6 / 209</td>\n",
       "      <td>2</td>\n",
       "      <td>3</td>\n",
       "      <td>alternative locus: At1g02930.1</td>\n",
       "    </tr>\n",
       "    <tr>\n",
       "      <th>1</th>\n",
       "      <td>At1g04290.1</td>\n",
       "      <td>sT4</td>\n",
       "      <td>Small thioesterase isoform 4</td>\n",
       "      <td>16.9 / 8.5 / 155</td>\n",
       "      <td>5</td>\n",
       "      <td>6</td>\n",
       "      <td>NaN</td>\n",
       "    </tr>\n",
       "    <tr>\n",
       "      <th>2</th>\n",
       "      <td>At1g11840.1</td>\n",
       "      <td>GLX1</td>\n",
       "      <td>Glyoxalase I homolog</td>\n",
       "      <td>31.9 / 4.9 / 283</td>\n",
       "      <td>2</td>\n",
       "      <td>2</td>\n",
       "      <td>alternative loci: At1g11840.2/3/4/5; the 5th T...</td>\n",
       "    </tr>\n",
       "    <tr>\n",
       "      <th>3</th>\n",
       "      <td>At1g16730.1</td>\n",
       "      <td>UP6</td>\n",
       "      <td>Unknown protein</td>\n",
       "      <td>21.7 / 4.8 / 202</td>\n",
       "      <td>3</td>\n",
       "      <td>3</td>\n",
       "      <td>NaN</td>\n",
       "    </tr>\n",
       "    <tr>\n",
       "      <th>4</th>\n",
       "      <td>At1g19570.1</td>\n",
       "      <td>DHAR1</td>\n",
       "      <td>Dehydroascorbate reductase</td>\n",
       "      <td>23.6 / 5.8 / 213</td>\n",
       "      <td>3</td>\n",
       "      <td>3</td>\n",
       "      <td>alternative locus: At1g19570.2</td>\n",
       "    </tr>\n",
       "  </tbody>\n",
       "</table>\n",
       "</div>"
      ],
      "text/plain": [
       "    Gene locus Acronym                    Annotation MM (kDa) / pI / aa  \\\n",
       "0  At1g02920.1   GSTF7       Glutathione transferase   23.6 / 6.6 / 209   \n",
       "1  At1g04290.1     sT4  Small thioesterase isoform 4   16.9 / 8.5 / 155   \n",
       "2  At1g11840.1    GLX1          Glyoxalase I homolog   31.9 / 4.9 / 283   \n",
       "3  At1g16730.1     UP6               Unknown protein   21.7 / 4.8 / 202   \n",
       "4  At1g19570.1   DHAR1    Dehydroascorbate reductase   23.6 / 5.8 / 213   \n",
       "\n",
       "   Number of unique peptides detected  Spectral number of unique peptides  \\\n",
       "0                                   2                                   3   \n",
       "1                                   5                                   6   \n",
       "2                                   2                                   2   \n",
       "3                                   3                                   3   \n",
       "4                                   3                                   3   \n",
       "\n",
       "  Variant information and locus identification specificity  \n",
       "0                     alternative locus: At1g02930.1        \n",
       "1                                                NaN        \n",
       "2  alternative loci: At1g11840.2/3/4/5; the 5th T...        \n",
       "3                                                NaN        \n",
       "4                     alternative locus: At1g19570.2        "
      ]
     },
     "execution_count": 6,
     "metadata": {},
     "output_type": "execute_result"
    }
   ],
   "source": [
    "perox_validated = pd.read_csv('../data/localization/137703Supplemental_Datarev_Reumann_etal_2009_Supp_table_3.csv')\n",
    "perox_validated = perox_validated[[c for c in perox_validated.columns if 'Unnamed' not in c]]\n",
    "perox_validated.head()"
   ]
  },
  {
   "cell_type": "code",
   "execution_count": 7,
   "id": "a0dcd689-8590-46ea-8519-c590922d73c9",
   "metadata": {},
   "outputs": [],
   "source": [
    "suba = {\n",
    "    'plastid': chloro,\n",
    "    'mitochondrion': mito,\n",
    "    'peroxisome': perox\n",
    "}"
   ]
  },
  {
   "cell_type": "markdown",
   "id": "efccf851-d5ab-49e6-8e0b-eefe7200fe70",
   "metadata": {},
   "source": [
    "## Clean data\n",
    "SUBA5's search results provide several ways to decide on the location of each protein. We are particularly interested in those proteins validated by MS/MS experiments following an oganellar prep. However, some of the genes have multiple locations suggested by MS/MS. We will test a few filtering strategies, and check them against the Reumann et al data to see which corresponds best to that dataset."
   ]
  },
  {
   "cell_type": "markdown",
   "id": "40f08165-7bbb-4797-8939-60feb0965676",
   "metadata": {},
   "source": [
    "Now, I would like to cross-reference the cleaned peroxisome data with the proteins from Reumann et al Sup.. Table 3 to see how well this filtering worked."
   ]
  },
  {
   "cell_type": "code",
   "execution_count": 8,
   "id": "fe01e53d-90ff-4d7d-9dab-6413d827b03d",
   "metadata": {},
   "outputs": [
    {
     "data": {
      "text/plain": [
       "['AT1G02920.1', 'AT1G04290.1', 'AT1G11840.1', 'AT1G16730.1', 'AT1G19570.1']"
      ]
     },
     "execution_count": 8,
     "metadata": {},
     "output_type": "execute_result"
    }
   ],
   "source": [
    "perox_val_list = perox_validated['Gene locus'].str.upper().tolist()\n",
    "perox_val_list[:5]"
   ]
  },
  {
   "cell_type": "code",
   "execution_count": 9,
   "id": "96a0157b-4e72-4428-80ea-82d3c014349e",
   "metadata": {},
   "outputs": [],
   "source": [
    "cleaned_perox = {\n",
    "    'perox_only_one_ms': perox[(perox['location_ms'].str.split(';').str.len() == 1) & (perox['location_ms'].str.split(':').str[0] == 'peroxisome')],\n",
    "    'perox_any_perox_ms': perox[perox['location_ms'].str.contains('peroxisome')],\n",
    "    'perox_consensus': perox[perox['location_consensus'] == 'peroxisome']\n",
    "}"
   ]
  },
  {
   "cell_type": "code",
   "execution_count": 10,
   "id": "d38f8ff9-8de3-4c97-abac-bc47e0baf169",
   "metadata": {},
   "outputs": [
    {
     "name": "stdout",
     "output_type": "stream",
     "text": [
      "There are 38 peroxisomal proteins when SUBA dataset is cleaned by method perox_only_one_ms.\n",
      "There are 85 proxisomal proteins in the validated proteomics dataset from Reumann et al.\n",
      "The intersection of these two datasets is 7.\n",
      "-----------------------------------------------------------------------------------------------------------------------------------\n",
      "There are 212 peroxisomal proteins when SUBA dataset is cleaned by method perox_any_perox_ms.\n",
      "There are 85 proxisomal proteins in the validated proteomics dataset from Reumann et al.\n",
      "The intersection of these two datasets is 83.\n",
      "-----------------------------------------------------------------------------------------------------------------------------------\n",
      "There are 139 peroxisomal proteins when SUBA dataset is cleaned by method perox_consensus.\n",
      "There are 85 proxisomal proteins in the validated proteomics dataset from Reumann et al.\n",
      "The intersection of these two datasets is 38.\n",
      "-----------------------------------------------------------------------------------------------------------------------------------\n"
     ]
    }
   ],
   "source": [
    "for strat, p_clean in cleaned_perox.items():\n",
    "    print(f'There are {len(cleaned_perox[strat])} peroxisomal proteins when SUBA dataset is cleaned by method {strat}.')\n",
    "    print(f'There are {len(perox_val_list)} proxisomal proteins in the validated proteomics dataset from Reumann et al.')\n",
    "    print(f'The intersection of these two datasets is {len(set(cleaned_perox[strat].locus.tolist()).intersection(set(perox_val_list)))}.')\n",
    "    print('-----------------------------------------------------------------------------------------------------------------------------------')"
   ]
  },
  {
   "cell_type": "markdown",
   "id": "29643bb2-972e-4c74-9def-1d84cf9990b4",
   "metadata": {},
   "source": [
    "Unfortunately, to get high coverage of the validation set, we include a lot of false positive hits. For the moment, I am going to move ahead with the \"compromise\" method of using the `location_consensus` value, as it balances fewer false positives than using any peroxisomal ID in the MS data with more overlap than only allowing uniquely-peroxisomal MS proteins. I'll use the same filtering option for the other two compartment types as well."
   ]
  },
  {
   "cell_type": "code",
   "execution_count": 11,
   "id": "94c05075-ba92-4c13-ace9-8b21a778b292",
   "metadata": {},
   "outputs": [],
   "source": [
    "cleaned_suba = {}\n",
    "for organelle, results in suba.items():\n",
    "    keep = results[results['location_consensus'] == organelle]\n",
    "    cleaned_suba[organelle] = keep"
   ]
  },
  {
   "cell_type": "code",
   "execution_count": 12,
   "id": "4ed85591-0ddb-4e50-89f7-c627c5dc2969",
   "metadata": {},
   "outputs": [
    {
     "name": "stdout",
     "output_type": "stream",
     "text": [
      "1953 proteins were found for compartment plastid.\n",
      "1693 proteins were found for compartment mitochondrion.\n",
      "139 proteins were found for compartment peroxisome.\n"
     ]
    }
   ],
   "source": [
    "for organelle, cleaned in cleaned_suba.items():\n",
    "    print(f'{len(cleaned)} proteins were found for compartment {organelle}.')"
   ]
  },
  {
   "cell_type": "markdown",
   "id": "792ada42-41bb-4648-84b2-ca34832d0454",
   "metadata": {},
   "source": [
    "## Plotting differential abundance of proteins by compartment\n",
    "First, read in and perform standard cleaning on our proteomics data:"
   ]
  },
  {
   "cell_type": "code",
   "execution_count": 13,
   "id": "c2d11628-e588-4268-bf2b-5fcdfce45bd0",
   "metadata": {},
   "outputs": [],
   "source": [
    "two_vs_21 = pd.read_csv('../data/proteomics/2_vs_21_diff_abund_permutation_test_TAIR10_14Apr2025.csv', header=67)\n",
    "forty_vs_21 = pd.read_csv('../data/proteomics/40_vs_21_diff_abund_permutation_test_TAIR10_14Apr2025.csv', header=67)"
   ]
  },
  {
   "cell_type": "code",
   "execution_count": 14,
   "id": "6c53be02-f8fc-4433-9b10-63cddf627f2e",
   "metadata": {},
   "outputs": [],
   "source": [
    "two_lfc_name = 'Log? Fold Change by Category (Set2 / Set 21)'\n",
    "forty_lfc_name = 'Log? Fold Change by Category (Set 40 / Set 21)'\n",
    "two_pval_col_name = \"Permutation Test (p-value) Benjamini-Hochberg (p < 0.00290)\"\n",
    "forty_pval_col_name = \"Permutation Test (p-value) Benjamini-Hochberg (p < 0.00456)\"\n",
    "two_pval_cutoff = 0.00290\n",
    "forty_pval_cutoff = 0.00456"
   ]
  },
  {
   "cell_type": "code",
   "execution_count": 15,
   "id": "4fddfcf2-d7b7-4119-8fa0-a9ad5466c580",
   "metadata": {},
   "outputs": [],
   "source": [
    "two_vs_21[two_pval_col_name] = two_vs_21[two_pval_col_name].replace('< 0.0001', '0.00009')\n",
    "forty_vs_21[forty_pval_col_name] = forty_vs_21[forty_pval_col_name].replace('< 0.0001', '0.00009')\n",
    "\n",
    "two_vs_21[two_pval_col_name] = two_vs_21[two_pval_col_name].replace('--', np.nan)\n",
    "forty_vs_21[forty_pval_col_name] = forty_vs_21[forty_pval_col_name].replace('--', np.nan)\n",
    "\n",
    "two_vs_21[two_pval_col_name] = two_vs_21[two_pval_col_name].astype('float64')\n",
    "forty_vs_21[forty_pval_col_name] = forty_vs_21[forty_pval_col_name].astype('float64')"
   ]
  },
  {
   "cell_type": "markdown",
   "id": "f36128e5-abb7-4b38-b63e-894b1f598000",
   "metadata": {},
   "source": [
    "Now, we need to separate these results by compartment:"
   ]
  },
  {
   "cell_type": "code",
   "execution_count": 16,
   "id": "8292404e-c60d-4df2-9e4f-576780ec9393",
   "metadata": {},
   "outputs": [
    {
     "name": "stdout",
     "output_type": "stream",
     "text": [
      "986 of 1953 proteins were in our dataset for compartment plastid.\n",
      "312 of 1693 proteins were in our dataset for compartment mitochondrion.\n",
      "56 of 139 proteins were in our dataset for compartment peroxisome.\n"
     ]
    }
   ],
   "source": [
    "two_compartments = {}\n",
    "forty_compartments = {}\n",
    "for compartment, members in cleaned_suba.items():\n",
    "    two_compartments[compartment] = two_vs_21[two_vs_21['Accession Number'].isin(members.locus.tolist())][two_lfc_name].tolist()\n",
    "    forty_compartments[compartment] = forty_vs_21[forty_vs_21['Accession Number'].isin(members.locus.tolist())][forty_lfc_name].tolist()\n",
    "    print(f'{len(two_compartments[compartment])} of {len(members)} proteins were in our dataset for compartment {compartment}.')"
   ]
  },
  {
   "cell_type": "markdown",
   "id": "d81fb333-3d3f-44f8-bcca-6c381c64ba64",
   "metadata": {},
   "source": [
    "We now want to make a boxplot where we plot the log2FC of the proteins in each category, separated by oxygen concentration:"
   ]
  },
  {
   "cell_type": "code",
   "execution_count": 19,
   "id": "29175a6a-ce6f-4abf-be61-3c2e9decc285",
   "metadata": {},
   "outputs": [
    {
     "data": {
      "text/plain": [
       "Text(0.5, 1.0, 'Boxplots with Two Boxes per X-tick')"
      ]
     },
     "execution_count": 19,
     "metadata": {},
     "output_type": "execute_result"
    },
    {
     "data": {
      "image/png": "[encoded data removed]",
      "text/plain": [
       "<Figure size 640x480 with 1 Axes>"
      ]
     },
     "metadata": {},
     "output_type": "display_data"
    }
   ],
   "source": [
    "# Sample data\n",
    "data_A = [1, 2, 3, 4, 5]\n",
    "data_B = [2, 3, 4, 5, 6]\n",
    "data_C = [3, 4, 5, 6, 7]\n",
    "data_D = [4, 5, 6, 7, 8]\n",
    "\n",
    "data = [data_A, data_B, data_C, data_D]\n",
    "\n",
    "# X positions for the ticks\n",
    "x_ticks = np.arange(2)\n",
    "\n",
    "# Plotting the boxplots\n",
    "fig, ax = plt.subplots()\n",
    "\n",
    "positions_A = x_ticks - 0.2\n",
    "positions_B = x_ticks + 0.2\n",
    "widths = 0.2\n",
    "\n",
    "ax.boxplot([data[0], data[2]], positions=positions_A, widths=widths)\n",
    "ax.boxplot([data[1], data[3]], positions=positions_B, widths=widths)# Set x-axis ticks and labels\n",
    "ax.set_xticks(x_ticks)\n",
    "ax.set_xticklabels(['Group 1', 'Group 2'])\n",
    "\n",
    "# Add labels and title\n",
    "ax.set_xlabel('Groups')\n",
    "ax.set_ylabel('Values')\n",
    "ax.set_title('Boxplots with Two Boxes per X-tick')\n",
    "\n",
    "# Set x-axis ticks and labels\n",
    "ax.set_xticks(x_ticks)\n",
    "ax.set_xticklabels(['Group 1', 'Group 2'])\n",
    "\n",
    "# Add labels and title\n",
    "ax.set_xlabel('Groups')\n",
    "ax.set_ylabel('Values')\n",
    "ax.set_title('Boxplots with Two Boxes per X-tick')"
   ]
  },
  {
   "cell_type": "code",
   "execution_count": 28,
   "id": "b7805515-6a9c-42a3-9a6e-b61132664b9f",
   "metadata": {},
   "outputs": [
    {
     "data": {
      "text/plain": [
       "<matplotlib.legend.Legend at 0x7f192bcbedd0>"
      ]
     },
     "execution_count": 28,
     "metadata": {},
     "output_type": "execute_result"
    },
    {
     "data": {
      "image/png": "[encoded data removed]",
      "text/plain": [
       "<Figure size 640x480 with 1 Axes>"
      ]
     },
     "metadata": {},
     "output_type": "display_data"
    }
   ],
   "source": [
    "# X positions for the ticks\n",
    "x_ticks = np.arange(3)\n",
    "\n",
    "# Plotting the boxplots\n",
    "fig, ax = plt.subplots()\n",
    "\n",
    "positions_2 = x_ticks - 0.2\n",
    "positions_40 = x_ticks + 0.2\n",
    "widths = 0.2\n",
    "\n",
    "ax.boxplot(list(two_compartments.values()), positions=positions_2, widths=widths, label='2% oxygen', medianprops=dict(color='blue'))\n",
    "ax.boxplot(list(forty_compartments.values()), positions=positions_40, widths=widths, label='40% oxygen', medianprops=dict(color='green'))# Set x-axis ticks and labels\n",
    "ax.set_xticks(x_ticks)\n",
    "ax.set_xticklabels(list(two_compartments.keys()))\n",
    "\n",
    "# Add labels and title\n",
    "ax.set_xlabel('Organelle')\n",
    "ax.set_ylabel('Log2 Fold Change')\n",
    "\n",
    "plt.legend()"
   ]
  }
 ],
 "metadata": {
  "kernelspec": {
   "display_name": "omics",
   "language": "python",
   "name": "omics"
  },
  "language_info": {
   "codemirror_mode": {
    "name": "ipython",
    "version": 3
   },
   "file_extension": ".py",
   "mimetype": "text/x-python",
   "name": "python",
   "nbconvert_exporter": "python",
   "pygments_lexer": "ipython3",
   "version": "3.10.16"
  }
 },
 "nbformat": 4,
 "nbformat_minor": 5
}
