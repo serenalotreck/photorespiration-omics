{
 "cells": [
  {
   "cell_type": "markdown",
   "id": "a6db9a89-87d0-499a-a01f-940709a66c56",
   "metadata": {},
   "source": [
    "# RNAseq data quality control\n",
    "Notebook to examine the output of FastQC reports. Specifically, to check the species identity of overrepresented sequences in each sample."
   ]
  },
  {
   "cell_type": "code",
   "execution_count": 1,
   "id": "de084569-956f-4075-91b5-726a092fa211",
   "metadata": {},
   "outputs": [],
   "source": [
    "from os import listdir\n",
    "from os.path import splitext\n",
    "from bs4 import BeautifulSoup\n",
    "from io import StringIO\n",
    "import pandas as pd\n",
    "from Bio import Blast\n",
    "from tqdm import tqdm\n",
    "from collections import defaultdict"
   ]
  },
  {
   "cell_type": "markdown",
   "id": "1d0ceffc-8f06-41f6-809c-cc313d47c9da",
   "metadata": {},
   "source": [
    "## Read in the overrepresented sequence tables\n",
    "Each sample has a table of sequences in HTML format, so we can read them in to programmatically BLAST them later on. First, get all the files as `BeautifulSoup` objects:"
   ]
  },
  {
   "cell_type": "code",
   "execution_count": 2,
   "id": "0240435e-f92d-479f-b034-4f81a3604dfe",
   "metadata": {},
   "outputs": [],
   "source": [
    "qc_dir = '../data/20230131_mRNASeq_PE150/FastQC/'\n",
    "qc_soups = {}\n",
    "for f in listdir(qc_dir):\n",
    "    if splitext(f)[1] == '.html':\n",
    "        with open(qc_dir + f) as fp:\n",
    "            soup = BeautifulSoup(fp, 'html.parser')\n",
    "            qc_soups[splitext(f)[0]] = soup"
   ]
  },
  {
   "cell_type": "markdown",
   "id": "8d5e8a91-db98-400e-aa4c-3b745972788e",
   "metadata": {},
   "source": [
    "Then, parse out the data we want:"
   ]
  },
  {
   "cell_type": "code",
   "execution_count": 3,
   "id": "c1933f57-3cc6-4609-93d8-c0485e6feaf0",
   "metadata": {},
   "outputs": [],
   "source": [
    "def get_seq_table(soup):\n",
    "    \"\"\"\n",
    "    Get the overrepresented sequences table from a FastQC html object.\n",
    "    \"\"\"\n",
    "    overrep_table = soup.findAll('table')[1] # Gets the second table, assumes the presence of the first table with basic stats\n",
    "    overrep_df = pd.read_html(StringIO(str(overrep_table)))[0]\n",
    "    return overrep_df"
   ]
  },
  {
   "cell_type": "code",
   "execution_count": 4,
   "id": "557ab77e-881e-4d16-aa96-61ed05e66515",
   "metadata": {},
   "outputs": [
    {
     "name": "stdout",
     "output_type": "stream",
     "text": [
      "Content of failed parse HTML 11_S10_L002_R2_001_fastqc:\n",
      "\n",
      "Content of failed parse HTML 10_S9_L002_R2_001_fastqc:\n",
      "\n",
      "Content of failed parse HTML 24_S23_L002_R1_001_fastqc:\n",
      "\n",
      "Content of failed parse HTML 6_S5_L002_R1_001_fastqc:\n",
      "\n",
      "Content of failed parse HTML 17_S16_L002_R1_001_fastqc:\n",
      "\n",
      "Content of failed parse HTML 6_S5_L002_R2_001_fastqc:\n",
      "\n",
      "Content of failed parse HTML 23_S22_L002_R2_001_fastqc:\n",
      "\n",
      "Content of failed parse HTML 8_S7_L002_R2_001_fastqc:\n",
      "\n",
      "Content of failed parse HTML 4_S3_L002_R1_001_fastqc:\n",
      "\n",
      "Content of failed parse HTML 5_S4_L002_R1_001_fastqc:\n",
      "\n",
      "Content of failed parse HTML 20_S19_L002_R1_001_fastqc:\n",
      "\n",
      "Content of failed parse HTML 2_S1_L002_R1_001_fastqc:\n",
      "\n"
     ]
    }
   ],
   "source": [
    "qc_overrep_tables = {}\n",
    "for samp, soup in qc_soups.items():\n",
    "    try:\n",
    "        qc_overrep_tables[samp] = get_seq_table(soup)\n",
    "    except IndexError:\n",
    "        print(f'Content of failed parse HTML {samp}:')\n",
    "        print(soup)"
   ]
  },
  {
   "cell_type": "markdown",
   "id": "4884ba28-9623-4b23-9396-33607b33bb10",
   "metadata": {},
   "source": [
    "For some reason, some of these FastQC files don't have any contents; I think these correspond to the documents I couldn't open previously, not sure what's happening there. For now going to carry on, but come back to this."
   ]
  },
  {
   "cell_type": "markdown",
   "id": "add94df9-34c4-4c52-b65b-1e8e58e6bed5",
   "metadata": {},
   "source": [
    "Snapshot of a table:"
   ]
  },
  {
   "cell_type": "code",
   "execution_count": 5,
   "id": "d9678ac2-e7df-42ee-86c8-fe2ad9a64856",
   "metadata": {},
   "outputs": [
    {
     "data": {
      "text/html": [
       "<div>\n",
       "<style scoped>\n",
       "    .dataframe tbody tr th:only-of-type {\n",
       "        vertical-align: middle;\n",
       "    }\n",
       "\n",
       "    .dataframe tbody tr th {\n",
       "        vertical-align: top;\n",
       "    }\n",
       "\n",
       "    .dataframe thead th {\n",
       "        text-align: right;\n",
       "    }\n",
       "</style>\n",
       "<table border=\"1\" class=\"dataframe\">\n",
       "  <thead>\n",
       "    <tr style=\"text-align: right;\">\n",
       "      <th></th>\n",
       "      <th>Sequence</th>\n",
       "      <th>Count</th>\n",
       "      <th>Percentage</th>\n",
       "      <th>Possible Source</th>\n",
       "    </tr>\n",
       "  </thead>\n",
       "  <tbody>\n",
       "    <tr>\n",
       "      <th>0</th>\n",
       "      <td>GGTCAATAAGGTAGGGATCATCAAAACACCAAACCATCCAATGTAA...</td>\n",
       "      <td>489823</td>\n",
       "      <td>2.824467</td>\n",
       "      <td>No Hit</td>\n",
       "    </tr>\n",
       "    <tr>\n",
       "      <th>1</th>\n",
       "      <td>GCGGTCAATAAGGTAGGGATCATCAAAACACCAAACCATCCAATGT...</td>\n",
       "      <td>477232</td>\n",
       "      <td>2.751864</td>\n",
       "      <td>No Hit</td>\n",
       "    </tr>\n",
       "    <tr>\n",
       "      <th>2</th>\n",
       "      <td>GTCAATAAGGTAGGGATCATCAAAACACCAAACCATCCAATGTAAA...</td>\n",
       "      <td>250043</td>\n",
       "      <td>1.441823</td>\n",
       "      <td>No Hit</td>\n",
       "    </tr>\n",
       "    <tr>\n",
       "      <th>3</th>\n",
       "      <td>GGTTAATAATATCAGCCCAAGTATTAATAACACGTCCTTGACTATC...</td>\n",
       "      <td>175930</td>\n",
       "      <td>1.014465</td>\n",
       "      <td>No Hit</td>\n",
       "    </tr>\n",
       "    <tr>\n",
       "      <th>4</th>\n",
       "      <td>GTTAATAATATCAGCCCAAGTATTAATAACACGTCCTTGACTATCA...</td>\n",
       "      <td>169422</td>\n",
       "      <td>0.976938</td>\n",
       "      <td>No Hit</td>\n",
       "    </tr>\n",
       "  </tbody>\n",
       "</table>\n",
       "</div>"
      ],
      "text/plain": [
       "                                            Sequence   Count  Percentage  \\\n",
       "0  GGTCAATAAGGTAGGGATCATCAAAACACCAAACCATCCAATGTAA...  489823    2.824467   \n",
       "1  GCGGTCAATAAGGTAGGGATCATCAAAACACCAAACCATCCAATGT...  477232    2.751864   \n",
       "2  GTCAATAAGGTAGGGATCATCAAAACACCAAACCATCCAATGTAAA...  250043    1.441823   \n",
       "3  GGTTAATAATATCAGCCCAAGTATTAATAACACGTCCTTGACTATC...  175930    1.014465   \n",
       "4  GTTAATAATATCAGCCCAAGTATTAATAACACGTCCTTGACTATCA...  169422    0.976938   \n",
       "\n",
       "  Possible Source  \n",
       "0          No Hit  \n",
       "1          No Hit  \n",
       "2          No Hit  \n",
       "3          No Hit  \n",
       "4          No Hit  "
      ]
     },
     "execution_count": 5,
     "metadata": {},
     "output_type": "execute_result"
    }
   ],
   "source": [
    "list(qc_overrep_tables.values())[0].head()"
   ]
  },
  {
   "cell_type": "markdown",
   "id": "56bbb3bc-0ecf-48bb-9b26-123ffda87740",
   "metadata": {},
   "source": [
    "## BLAST the sequences\n",
    "We want to know if these overrepresented sequences come from Arabidopsis, and if so, what they are. We can do this by programmatically BLASTing all the sequences. First, lets put the sequences from each sample into a FASTA format to be able to BLAST them all at once:"
   ]
  },
  {
   "cell_type": "code",
   "execution_count": 7,
   "id": "43b9c2c7-5654-4fd3-ab00-69e33df5eebb",
   "metadata": {},
   "outputs": [],
   "source": [
    "def get_fasta(df):\n",
    "    \"\"\"\n",
    "    Take the sequences from an overrepresented sequences table and put them in FASTA format to BLAST.\n",
    "    \"\"\"\n",
    "    fasta_str = ''\n",
    "    for i, row in df.iterrows():\n",
    "        seq_name = f'>{i}\\n'\n",
    "        seq = row.Sequence\n",
    "        if i < len(df) - 1:\n",
    "            fasta_str += seq_name + seq + '\\n'\n",
    "        else:\n",
    "            fasta_str += seq_name + seq\n",
    "    return fasta_str"
   ]
  },
  {
   "cell_type": "code",
   "execution_count": 8,
   "id": "7a8350d3-0241-4763-bbcf-7e8a9c66169e",
   "metadata": {},
   "outputs": [],
   "source": [
    "fastas = {k: get_fasta(v) for k, v in qc_overrep_tables.items()}"
   ]
  },
  {
   "cell_type": "markdown",
   "id": "fe3dfbcf-1a8b-4f90-b5e5-681f22c8e9b1",
   "metadata": {},
   "source": [
    "Now we BLAST and parse the results."
   ]
  },
  {
   "cell_type": "code",
   "execution_count": 19,
   "id": "61835d91-df0d-462e-81fa-67b9b0377e5e",
   "metadata": {},
   "outputs": [
    {
     "name": "stderr",
     "output_type": "stream",
     "text": [
      "100%|██████████| 35/35 [21:22<00:00, 36.64s/it]\n"
     ]
    }
   ],
   "source": [
    "blast_results = {}\n",
    "for samp, fasta in tqdm(fastas.items()):\n",
    "    # Make a dict to be able to match sequence IDs to sequence, since biopython doesn't save the sequences\n",
    "    fasta_list = fasta.split('\\n')\n",
    "    fasta_id_dict = {}\n",
    "    for i, elt in enumerate(fasta_list): # Feels hacky but here we are\n",
    "        if i % 2 == 0 and elt[0] == '>':\n",
    "            fasta_id_dict[elt[1:]] = fasta_list[i+1]\n",
    "    # Make an object to store the results in a way we can turn into the pandas df we want\n",
    "    sample_results = defaultdict(list)\n",
    "    # Perform the BLAST\n",
    "    result_stream = Blast.qblast('blastn', 'nt', fasta)\n",
    "    # Parse the output\n",
    "    records = Blast.parse(result_stream)\n",
    "    for record in records:\n",
    "        seq_id = record.query.description\n",
    "        sample_results['overrep_seq'].append(fasta_id_dict[seq_id])\n",
    "        has_non_chloroplast = False\n",
    "        all_hit_names = []\n",
    "        all_hit_evals = []\n",
    "        for hit in record:\n",
    "            if 'chloroplast' not in hit.target.description.lower():\n",
    "                has_non_chloroplast = True\n",
    "            all_hit_names.append(hit.target.description)\n",
    "            all_hit_evals.append(format(hit[0].annotations[\"evalue\"], \".2g\"))\n",
    "        if 'arabidopsis thaliana' not in ' '.join(all_hit_names).lower():\n",
    "            no_arabidopsis = True\n",
    "        else:\n",
    "            no_arabidopsis = False\n",
    "        sample_results['has_non_chloroplast'].append(has_non_chloroplast)\n",
    "        sample_results['no_arabidopsis'].append(no_arabidopsis)\n",
    "        sample_results['all_hits'].append(' | '.join(all_hit_names))\n",
    "        sample_results['all_hit_evals'].append(' | '.join(all_hit_evals))\n",
    "    # Save the results to the overall results\n",
    "    blast_results[samp] = sample_results"
   ]
  },
  {
   "cell_type": "code",
   "execution_count": 25,
   "id": "71eb7494-5bfb-4a8f-a0e4-8bbfb66911b5",
   "metadata": {},
   "outputs": [],
   "source": [
    "all_blast_results = defaultdict(list)\n",
    "for samp, blast_res in blast_results.items():\n",
    "    blast_res['sample'] = [samp.split('_')[0]] * len(blast_res['overrep_seq'])\n",
    "    blast_res['strand'] = [samp.split('_')[3]] * len(blast_res['overrep_seq'])\n",
    "    for k, v in blast_res.items():\n",
    "        all_blast_results[k].extend(v)"
   ]
  },
  {
   "cell_type": "code",
   "execution_count": 26,
   "id": "5213ac91-b772-43ec-bd04-51f24e3fe935",
   "metadata": {},
   "outputs": [
    {
     "data": {
      "text/html": [
       "<div>\n",
       "<style scoped>\n",
       "    .dataframe tbody tr th:only-of-type {\n",
       "        vertical-align: middle;\n",
       "    }\n",
       "\n",
       "    .dataframe tbody tr th {\n",
       "        vertical-align: top;\n",
       "    }\n",
       "\n",
       "    .dataframe thead th {\n",
       "        text-align: right;\n",
       "    }\n",
       "</style>\n",
       "<table border=\"1\" class=\"dataframe\">\n",
       "  <thead>\n",
       "    <tr style=\"text-align: right;\">\n",
       "      <th></th>\n",
       "      <th></th>\n",
       "      <th>overrep_seq</th>\n",
       "      <th>has_non_chloroplast</th>\n",
       "      <th>no_arabidopsis</th>\n",
       "      <th>all_hits</th>\n",
       "      <th>all_hit_evals</th>\n",
       "    </tr>\n",
       "    <tr>\n",
       "      <th>sample</th>\n",
       "      <th>strand</th>\n",
       "      <th></th>\n",
       "      <th></th>\n",
       "      <th></th>\n",
       "      <th></th>\n",
       "      <th></th>\n",
       "    </tr>\n",
       "  </thead>\n",
       "  <tbody>\n",
       "    <tr>\n",
       "      <th rowspan=\"5\" valign=\"top\">23</th>\n",
       "      <th>R1</th>\n",
       "      <td>GGTCAATAAGGTAGGGATCATCAAAACACCAAACCATCCAATGTAA...</td>\n",
       "      <td>True</td>\n",
       "      <td>True</td>\n",
       "      <td>Hydrangea petiolaris voucher YNUHHYD015 chloro...</td>\n",
       "      <td>3.5e-15 | 3.5e-15 | 3.5e-15 | 3.5e-15 | 3.5e-1...</td>\n",
       "    </tr>\n",
       "    <tr>\n",
       "      <th>R1</th>\n",
       "      <td>GCGGTCAATAAGGTAGGGATCATCAAAACACCAAACCATCCAATGT...</td>\n",
       "      <td>True</td>\n",
       "      <td>True</td>\n",
       "      <td>Hydrangea petiolaris voucher YNUHHYD015 chloro...</td>\n",
       "      <td>3.5e-15 | 3.5e-15 | 3.5e-15 | 3.5e-15 | 3.5e-1...</td>\n",
       "    </tr>\n",
       "    <tr>\n",
       "      <th>R1</th>\n",
       "      <td>GTCAATAAGGTAGGGATCATCAAAACACCAAACCATCCAATGTAAA...</td>\n",
       "      <td>True</td>\n",
       "      <td>True</td>\n",
       "      <td>Hydrangea petiolaris voucher YNUHHYD015 chloro...</td>\n",
       "      <td>3.5e-15 | 3.5e-15 | 3.5e-15 | 3.5e-15 | 3.5e-1...</td>\n",
       "    </tr>\n",
       "    <tr>\n",
       "      <th>R1</th>\n",
       "      <td>GGTTAATAATATCAGCCCAAGTATTAATAACACGTCCTTGACTATC...</td>\n",
       "      <td>True</td>\n",
       "      <td>False</td>\n",
       "      <td>Cardamine bulbifera chloroplast, complete geno...</td>\n",
       "      <td>3.5e-15 | 3.5e-15 | 3.5e-15 | 3.5e-15 | 3.5e-1...</td>\n",
       "    </tr>\n",
       "    <tr>\n",
       "      <th>R1</th>\n",
       "      <td>GTTAATAATATCAGCCCAAGTATTAATAACACGTCCTTGACTATCA...</td>\n",
       "      <td>True</td>\n",
       "      <td>False</td>\n",
       "      <td>Cardamine bulbifera chloroplast, complete geno...</td>\n",
       "      <td>3.5e-15 | 3.5e-15 | 3.5e-15 | 3.5e-15 | 3.5e-1...</td>\n",
       "    </tr>\n",
       "  </tbody>\n",
       "</table>\n",
       "</div>"
      ],
      "text/plain": [
       "                                                     overrep_seq  \\\n",
       "sample strand                                                      \n",
       "23     R1      GGTCAATAAGGTAGGGATCATCAAAACACCAAACCATCCAATGTAA...   \n",
       "       R1      GCGGTCAATAAGGTAGGGATCATCAAAACACCAAACCATCCAATGT...   \n",
       "       R1      GTCAATAAGGTAGGGATCATCAAAACACCAAACCATCCAATGTAAA...   \n",
       "       R1      GGTTAATAATATCAGCCCAAGTATTAATAACACGTCCTTGACTATC...   \n",
       "       R1      GTTAATAATATCAGCCCAAGTATTAATAACACGTCCTTGACTATCA...   \n",
       "\n",
       "               has_non_chloroplast  no_arabidopsis  \\\n",
       "sample strand                                        \n",
       "23     R1                     True            True   \n",
       "       R1                     True            True   \n",
       "       R1                     True            True   \n",
       "       R1                     True           False   \n",
       "       R1                     True           False   \n",
       "\n",
       "                                                        all_hits  \\\n",
       "sample strand                                                      \n",
       "23     R1      Hydrangea petiolaris voucher YNUHHYD015 chloro...   \n",
       "       R1      Hydrangea petiolaris voucher YNUHHYD015 chloro...   \n",
       "       R1      Hydrangea petiolaris voucher YNUHHYD015 chloro...   \n",
       "       R1      Cardamine bulbifera chloroplast, complete geno...   \n",
       "       R1      Cardamine bulbifera chloroplast, complete geno...   \n",
       "\n",
       "                                                   all_hit_evals  \n",
       "sample strand                                                     \n",
       "23     R1      3.5e-15 | 3.5e-15 | 3.5e-15 | 3.5e-15 | 3.5e-1...  \n",
       "       R1      3.5e-15 | 3.5e-15 | 3.5e-15 | 3.5e-15 | 3.5e-1...  \n",
       "       R1      3.5e-15 | 3.5e-15 | 3.5e-15 | 3.5e-15 | 3.5e-1...  \n",
       "       R1      3.5e-15 | 3.5e-15 | 3.5e-15 | 3.5e-15 | 3.5e-1...  \n",
       "       R1      3.5e-15 | 3.5e-15 | 3.5e-15 | 3.5e-15 | 3.5e-1...  "
      ]
     },
     "execution_count": 26,
     "metadata": {},
     "output_type": "execute_result"
    }
   ],
   "source": [
    "all_blast_res_df = pd.DataFrame.from_dict(all_blast_results).set_index(['sample', 'strand'])\n",
    "all_blast_res_df.head()"
   ]
  },
  {
   "cell_type": "code",
   "execution_count": 27,
   "id": "08d7f57b-afaa-4b2d-904a-d9cbcfde5a31",
   "metadata": {},
   "outputs": [],
   "source": [
    "all_blast_res_df.to_csv('../data/20230131_mRNASeq_PE150/blast_results_overrep_sequences.csv')"
   ]
  },
  {
   "cell_type": "markdown",
   "id": "d0911105-2962-4e56-bbb1-ff3c5f7e6803",
   "metadata": {},
   "source": [
    "Read BLAST results back in to skip above code:"
   ]
  },
  {
   "cell_type": "code",
   "execution_count": 28,
   "id": "953fdbc9-2945-471d-bc55-84cd398c452f",
   "metadata": {},
   "outputs": [
    {
     "data": {
      "text/html": [
       "<div>\n",
       "<style scoped>\n",
       "    .dataframe tbody tr th:only-of-type {\n",
       "        vertical-align: middle;\n",
       "    }\n",
       "\n",
       "    .dataframe tbody tr th {\n",
       "        vertical-align: top;\n",
       "    }\n",
       "\n",
       "    .dataframe thead th {\n",
       "        text-align: right;\n",
       "    }\n",
       "</style>\n",
       "<table border=\"1\" class=\"dataframe\">\n",
       "  <thead>\n",
       "    <tr style=\"text-align: right;\">\n",
       "      <th></th>\n",
       "      <th></th>\n",
       "      <th>overrep_seq</th>\n",
       "      <th>has_non_chloroplast</th>\n",
       "      <th>no_arabidopsis</th>\n",
       "      <th>all_hits</th>\n",
       "      <th>all_hit_evals</th>\n",
       "    </tr>\n",
       "    <tr>\n",
       "      <th>sample</th>\n",
       "      <th>strand</th>\n",
       "      <th></th>\n",
       "      <th></th>\n",
       "      <th></th>\n",
       "      <th></th>\n",
       "      <th></th>\n",
       "    </tr>\n",
       "  </thead>\n",
       "  <tbody>\n",
       "    <tr>\n",
       "      <th rowspan=\"5\" valign=\"top\">2</th>\n",
       "      <th>R2</th>\n",
       "      <td>GAGAATTTGTGCGCTTGGGAGTCCCTGATTATTAAATAAACCAAGG...</td>\n",
       "      <td>True</td>\n",
       "      <td>False</td>\n",
       "      <td>Arabidopsis thaliana cultivar Tsu0 chloroplast...</td>\n",
       "      <td>3.5e-15 | 3.5e-15 | 3.5e-15 | 3.5e-15 | 3.5e-1...</td>\n",
       "    </tr>\n",
       "    <tr>\n",
       "      <th>R2</th>\n",
       "      <td>GGAATCTCTGGTACTTTCAACTTTATGATTGTATTCCAGGCTGAGC...</td>\n",
       "      <td>True</td>\n",
       "      <td>True</td>\n",
       "      <td>Oxybasis glauca isolate ADIFF_NF_020-psbA chlo...</td>\n",
       "      <td>3.5e-15 | 3.5e-15 | 3.5e-15 | 3.5e-15 | 3.5e-1...</td>\n",
       "    </tr>\n",
       "    <tr>\n",
       "      <th>R2</th>\n",
       "      <td>AGAGAATTTGTGCGCTTGGGAGTCCCTGATTATTAAATAAACCAAG...</td>\n",
       "      <td>True</td>\n",
       "      <td>False</td>\n",
       "      <td>Arabidopsis thaliana cultivar Tsu0 chloroplast...</td>\n",
       "      <td>3.5e-15 | 3.5e-15 | 3.5e-15 | 3.5e-15 | 3.5e-1...</td>\n",
       "    </tr>\n",
       "    <tr>\n",
       "      <th>R2</th>\n",
       "      <td>ATTTGGTTTACTGCTTTAGGTATTAGTACTATGGCTTTCAACCTAA...</td>\n",
       "      <td>True</td>\n",
       "      <td>False</td>\n",
       "      <td>Apinagia guyanensis voucher (R) C.P. Bove and ...</td>\n",
       "      <td>3.5e-15 | 3.5e-15 | 3.5e-15 | 3.5e-15 | 3.5e-1...</td>\n",
       "    </tr>\n",
       "    <tr>\n",
       "      <th>R2</th>\n",
       "      <td>GGTACTTTCAACTTTATGATTGTATTCCAGGCTGAGCACAACATTC...</td>\n",
       "      <td>True</td>\n",
       "      <td>False</td>\n",
       "      <td>Cardamine bulbifera chloroplast, complete geno...</td>\n",
       "      <td>3.5e-15 | 3.5e-15 | 3.5e-15 | 3.5e-15 | 3.5e-1...</td>\n",
       "    </tr>\n",
       "  </tbody>\n",
       "</table>\n",
       "</div>"
      ],
      "text/plain": [
       "                                                     overrep_seq  \\\n",
       "sample strand                                                      \n",
       "2      R2      GAGAATTTGTGCGCTTGGGAGTCCCTGATTATTAAATAAACCAAGG...   \n",
       "       R2      GGAATCTCTGGTACTTTCAACTTTATGATTGTATTCCAGGCTGAGC...   \n",
       "       R2      AGAGAATTTGTGCGCTTGGGAGTCCCTGATTATTAAATAAACCAAG...   \n",
       "       R2      ATTTGGTTTACTGCTTTAGGTATTAGTACTATGGCTTTCAACCTAA...   \n",
       "       R2      GGTACTTTCAACTTTATGATTGTATTCCAGGCTGAGCACAACATTC...   \n",
       "\n",
       "               has_non_chloroplast  no_arabidopsis  \\\n",
       "sample strand                                        \n",
       "2      R2                     True           False   \n",
       "       R2                     True            True   \n",
       "       R2                     True           False   \n",
       "       R2                     True           False   \n",
       "       R2                     True           False   \n",
       "\n",
       "                                                        all_hits  \\\n",
       "sample strand                                                      \n",
       "2      R2      Arabidopsis thaliana cultivar Tsu0 chloroplast...   \n",
       "       R2      Oxybasis glauca isolate ADIFF_NF_020-psbA chlo...   \n",
       "       R2      Arabidopsis thaliana cultivar Tsu0 chloroplast...   \n",
       "       R2      Apinagia guyanensis voucher (R) C.P. Bove and ...   \n",
       "       R2      Cardamine bulbifera chloroplast, complete geno...   \n",
       "\n",
       "                                                   all_hit_evals  \n",
       "sample strand                                                     \n",
       "2      R2      3.5e-15 | 3.5e-15 | 3.5e-15 | 3.5e-15 | 3.5e-1...  \n",
       "       R2      3.5e-15 | 3.5e-15 | 3.5e-15 | 3.5e-15 | 3.5e-1...  \n",
       "       R2      3.5e-15 | 3.5e-15 | 3.5e-15 | 3.5e-15 | 3.5e-1...  \n",
       "       R2      3.5e-15 | 3.5e-15 | 3.5e-15 | 3.5e-15 | 3.5e-1...  \n",
       "       R2      3.5e-15 | 3.5e-15 | 3.5e-15 | 3.5e-15 | 3.5e-1...  "
      ]
     },
     "execution_count": 28,
     "metadata": {},
     "output_type": "execute_result"
    }
   ],
   "source": [
    "all_blast_res_df = pd.read_csv('../data/20230131_mRNASeq_PE150/blast_results_overrep_sequences.csv').set_index(['sample', 'strand']).sort_index(level='sample')\n",
    "all_blast_res_df.head()"
   ]
  },
  {
   "cell_type": "markdown",
   "id": "8211948e-688a-468d-ae3f-e2c72c74504a",
   "metadata": {},
   "source": [
    "## Explore results\n",
    "Now that we have the top BLAST result for all of the overrepresented sequences, let's take a look at what they are. For each sample, the first sequence is the most overrepresented, so we can start by looking at those, especially since we know that for a lot of samples, the first sequences is much much more overrepresented than all the rest."
   ]
  },
  {
   "cell_type": "code",
   "execution_count": 38,
   "id": "c6bb3507-036e-48f3-8828-657ae442176e",
   "metadata": {
    "scrolled": true
   },
   "outputs": [
    {
     "data": {
      "text/plain": [
       "sample  strand\n",
       "2       R2        True\n",
       "3       R1        True\n",
       "        R2        True\n",
       "4       R2        True\n",
       "5       R2        True\n",
       "7       R1        True\n",
       "        R2        True\n",
       "8       R1        True\n",
       "9       R1        True\n",
       "        R2        True\n",
       "10      R1        True\n",
       "11      R1        True\n",
       "12      R1        True\n",
       "        R2        True\n",
       "13      R1        True\n",
       "        R2        True\n",
       "14      R1        True\n",
       "        R2        True\n",
       "15      R1        True\n",
       "        R2        True\n",
       "16      R2        True\n",
       "17      R2        True\n",
       "18      R1        True\n",
       "        R2        True\n",
       "19      R1        True\n",
       "        R2        True\n",
       "20      R2        True\n",
       "21      R1        True\n",
       "        R2        True\n",
       "22      R1        True\n",
       "        R2        True\n",
       "23      R1        True\n",
       "24      R2        True\n",
       "25      R1        True\n",
       "        R2        True\n",
       "Name: no_arabidopsis, dtype: bool"
      ]
     },
     "execution_count": 38,
     "metadata": {},
     "output_type": "execute_result"
    }
   ],
   "source": [
    "all_blast_res_df.groupby(['sample', 'strand'])['no_arabidopsis'].any()"
   ]
  },
  {
   "cell_type": "code",
   "execution_count": 39,
   "id": "db5497ed-3e67-4274-a2cb-ca7539ecaf00",
   "metadata": {
    "scrolled": true
   },
   "outputs": [
    {
     "data": {
      "text/plain": [
       "sample  strand\n",
       "2       R2        False\n",
       "3       R1        False\n",
       "        R2        False\n",
       "4       R2        False\n",
       "5       R2        False\n",
       "7       R1        False\n",
       "        R2        False\n",
       "8       R1        False\n",
       "9       R1        False\n",
       "        R2        False\n",
       "10      R1        False\n",
       "11      R1        False\n",
       "12      R1        False\n",
       "        R2        False\n",
       "13      R1        False\n",
       "        R2        False\n",
       "14      R1        False\n",
       "        R2        False\n",
       "15      R1        False\n",
       "        R2        False\n",
       "16      R2        False\n",
       "17      R2        False\n",
       "18      R1        False\n",
       "        R2        False\n",
       "19      R1        False\n",
       "        R2        False\n",
       "20      R2        False\n",
       "21      R1        False\n",
       "        R2        False\n",
       "22      R1        False\n",
       "        R2        False\n",
       "23      R1        False\n",
       "24      R2        False\n",
       "25      R1        False\n",
       "        R2        False\n",
       "Name: no_arabidopsis, dtype: bool"
      ]
     },
     "execution_count": 39,
     "metadata": {},
     "output_type": "execute_result"
    }
   ],
   "source": [
    "all_blast_res_df.groupby(['sample', 'strand'])['no_arabidopsis'].all()"
   ]
  },
  {
   "cell_type": "code",
   "execution_count": 40,
   "id": "c9615b25-5bc8-4683-8dc5-b2a26fad6189",
   "metadata": {
    "scrolled": true
   },
   "outputs": [
    {
     "data": {
      "text/plain": [
       "sample  strand\n",
       "2       R2        True\n",
       "3       R1        True\n",
       "        R2        True\n",
       "4       R2        True\n",
       "5       R2        True\n",
       "7       R1        True\n",
       "        R2        True\n",
       "8       R1        True\n",
       "9       R1        True\n",
       "        R2        True\n",
       "10      R1        True\n",
       "11      R1        True\n",
       "12      R1        True\n",
       "        R2        True\n",
       "13      R1        True\n",
       "        R2        True\n",
       "14      R1        True\n",
       "        R2        True\n",
       "15      R1        True\n",
       "        R2        True\n",
       "16      R2        True\n",
       "17      R2        True\n",
       "18      R1        True\n",
       "        R2        True\n",
       "19      R1        True\n",
       "        R2        True\n",
       "20      R2        True\n",
       "21      R1        True\n",
       "        R2        True\n",
       "22      R1        True\n",
       "        R2        True\n",
       "23      R1        True\n",
       "24      R2        True\n",
       "25      R1        True\n",
       "        R2        True\n",
       "Name: has_non_chloroplast, dtype: bool"
      ]
     },
     "execution_count": 40,
     "metadata": {},
     "output_type": "execute_result"
    }
   ],
   "source": [
    "all_blast_res_df.groupby(['sample', 'strand'])['has_non_chloroplast'].any()"
   ]
  },
  {
   "cell_type": "code",
   "execution_count": 41,
   "id": "e07920b0-b3fd-43b6-bbb1-a4452e70f0fe",
   "metadata": {
    "scrolled": true
   },
   "outputs": [
    {
     "data": {
      "text/plain": [
       "sample  strand\n",
       "2       R2        False\n",
       "3       R1        False\n",
       "        R2        False\n",
       "4       R2        False\n",
       "5       R2        False\n",
       "7       R1        False\n",
       "        R2        False\n",
       "8       R1        False\n",
       "9       R1        False\n",
       "        R2        False\n",
       "10      R1        False\n",
       "11      R1        False\n",
       "12      R1        False\n",
       "        R2        False\n",
       "13      R1        False\n",
       "        R2        False\n",
       "14      R1        False\n",
       "        R2        False\n",
       "15      R1        False\n",
       "        R2        False\n",
       "16      R2        False\n",
       "17      R2        False\n",
       "18      R1        False\n",
       "        R2        False\n",
       "19      R1        False\n",
       "        R2        False\n",
       "20      R2        False\n",
       "21      R1        False\n",
       "        R2        False\n",
       "22      R1        False\n",
       "        R2        False\n",
       "23      R1        False\n",
       "24      R2        False\n",
       "25      R1        False\n",
       "        R2        False\n",
       "Name: has_non_chloroplast, dtype: bool"
      ]
     },
     "execution_count": 41,
     "metadata": {},
     "output_type": "execute_result"
    }
   ],
   "source": [
    "all_blast_res_df.groupby(['sample', 'strand'])['has_non_chloroplast'].all()"
   ]
  },
  {
   "cell_type": "markdown",
   "id": "f32aa63c-4046-4297-8107-3d9a7e05cc83",
   "metadata": {},
   "source": [
    "My takeaway from this is:\n",
    "* There are some sequences that are not chloroplast-identified in all samples\n",
    "* There are some sequences that don't match to Arabidopsis in all samples\n",
    "* Directionality of strand doesn't matter\n",
    "\n",
    "Jenny pointed out that Chloroplast RNA only has polyA tails if it's marked for degredation, so if we used polyA enrichment, then these are only RNA marked for degredation."
   ]
  }
 ],
 "metadata": {
  "kernelspec": {
   "display_name": "Python 3 (ipykernel)",
   "language": "python",
   "name": "python3"
  },
  "language_info": {
   "codemirror_mode": {
    "name": "ipython",
    "version": 3
   },
   "file_extension": ".py",
   "mimetype": "text/x-python",
   "name": "python",
   "nbconvert_exporter": "python",
   "pygments_lexer": "ipython3",
   "version": "3.9.19"
  }
 },
 "nbformat": 4,
 "nbformat_minor": 5
}
