{
 "cells": [
  {
   "cell_type": "markdown",
   "id": "e6d4faf0-0207-4f8d-bc4a-980cfd66f7d9",
   "metadata": {},
   "source": [
    "# Differential expression exploration\n",
    "Here we'll read in the DE outputs form Larry's analysis and do some inital exploration of what we have available."
   ]
  },
  {
   "cell_type": "code",
   "execution_count": 19,
   "id": "921378a0-4404-413f-ba72-beb63e2d23b5",
   "metadata": {},
   "outputs": [],
   "source": [
    "from os import listdir\n",
    "from os.path import splitext\n",
    "import pandas as pd\n",
    "from sklearn.decomposition import PCA\n",
    "import numpy as np\n",
    "import matplotlib.pyplot as plt"
   ]
  },
  {
   "cell_type": "markdown",
   "id": "4bb27a9b-a1bb-4030-8b5f-b7c089e2787a",
   "metadata": {},
   "source": [
    "## Read in data"
   ]
  },
  {
   "cell_type": "code",
   "execution_count": 6,
   "id": "78747a0f-55f1-4714-b88e-98b903308e0d",
   "metadata": {},
   "outputs": [],
   "source": [
    "dpath = '../larry_DEG_analyses/results/'\n",
    "de_data = {}\n",
    "for f in listdir(dpath):\n",
    "    if splitext(f)[1] == '.xlsx':\n",
    "        de_data[splitext(f)[0]] = pd.read_excel(dpath + f)"
   ]
  },
  {
   "cell_type": "code",
   "execution_count": 10,
   "id": "c3c84fcc-1ce5-4d41-ba19-80bd6b281528",
   "metadata": {},
   "outputs": [
    {
     "name": "stdout",
     "output_type": "stream",
     "text": [
      "['GO_7hr_diff_O2', 'GO_1hr_diff_O2', 'New_data_1.5fold_down', 'New_data_2fold_down', 'New_data_1.5fold_up', 'TPM_values_All_Samples_New_data_Feb03_2023', 'GO_1hr_vs_7hr', 'New_data_2fold_up']\n"
     ]
    }
   ],
   "source": [
    "print(list(de_data.keys()))"
   ]
  },
  {
   "cell_type": "markdown",
   "id": "5667c53b-2ca6-4d30-8f68-ae0273f6f7b7",
   "metadata": {},
   "source": [
    "Looks like we've got a lot to work with here! Let's look at one of the `fold_down` and one of the `GO` files to see what's in them."
   ]
  },
  {
   "cell_type": "code",
   "execution_count": 18,
   "id": "adc3f5cf-ca29-4111-add8-aa39b852f8fd",
   "metadata": {},
   "outputs": [
    {
     "data": {
      "text/html": [
       "<div>\n",
       "<style scoped>\n",
       "    .dataframe tbody tr th:only-of-type {\n",
       "        vertical-align: middle;\n",
       "    }\n",
       "\n",
       "    .dataframe tbody tr th {\n",
       "        vertical-align: top;\n",
       "    }\n",
       "\n",
       "    .dataframe thead th {\n",
       "        text-align: right;\n",
       "    }\n",
       "</style>\n",
       "<table border=\"1\" class=\"dataframe\">\n",
       "  <thead>\n",
       "    <tr style=\"text-align: right;\">\n",
       "      <th></th>\n",
       "      <th>GO term</th>\n",
       "      <th>Ontology</th>\n",
       "      <th>Description</th>\n",
       "      <th>Number in input list</th>\n",
       "      <th>Number in BG/Ref</th>\n",
       "      <th>p-value</th>\n",
       "      <th>FDR</th>\n",
       "    </tr>\n",
       "  </thead>\n",
       "  <tbody>\n",
       "    <tr>\n",
       "      <th>0</th>\n",
       "      <td>GO:0009723</td>\n",
       "      <td>P</td>\n",
       "      <td>response to ethylene</td>\n",
       "      <td>10</td>\n",
       "      <td>227</td>\n",
       "      <td>1.500000e-08</td>\n",
       "      <td>0.000008</td>\n",
       "    </tr>\n",
       "    <tr>\n",
       "      <th>1</th>\n",
       "      <td>GO:0071369</td>\n",
       "      <td>P</td>\n",
       "      <td>cellular response to ethylene stimulus</td>\n",
       "      <td>8</td>\n",
       "      <td>139</td>\n",
       "      <td>4.800000e-08</td>\n",
       "      <td>0.000013</td>\n",
       "    </tr>\n",
       "    <tr>\n",
       "      <th>2</th>\n",
       "      <td>GO:0009873</td>\n",
       "      <td>P</td>\n",
       "      <td>ethylene-activated signaling pathway</td>\n",
       "      <td>7</td>\n",
       "      <td>125</td>\n",
       "      <td>3.800000e-07</td>\n",
       "      <td>0.000069</td>\n",
       "    </tr>\n",
       "    <tr>\n",
       "      <th>3</th>\n",
       "      <td>GO:0000160</td>\n",
       "      <td>P</td>\n",
       "      <td>phosphorelay signal transduction system</td>\n",
       "      <td>7</td>\n",
       "      <td>154</td>\n",
       "      <td>1.500000e-06</td>\n",
       "      <td>0.000150</td>\n",
       "    </tr>\n",
       "    <tr>\n",
       "      <th>4</th>\n",
       "      <td>GO:0032870</td>\n",
       "      <td>P</td>\n",
       "      <td>cellular response to hormone stimulus</td>\n",
       "      <td>13</td>\n",
       "      <td>658</td>\n",
       "      <td>1.400000e-06</td>\n",
       "      <td>0.000150</td>\n",
       "    </tr>\n",
       "  </tbody>\n",
       "</table>\n",
       "</div>"
      ],
      "text/plain": [
       "      GO term Ontology                              Description  \\\n",
       "0  GO:0009723        P                     response to ethylene   \n",
       "1  GO:0071369        P   cellular response to ethylene stimulus   \n",
       "2  GO:0009873        P     ethylene-activated signaling pathway   \n",
       "3  GO:0000160        P  phosphorelay signal transduction system   \n",
       "4  GO:0032870        P    cellular response to hormone stimulus   \n",
       "\n",
       "   Number in input list  Number in BG/Ref       p-value       FDR  \n",
       "0                    10               227  1.500000e-08  0.000008  \n",
       "1                     8               139  4.800000e-08  0.000013  \n",
       "2                     7               125  3.800000e-07  0.000069  \n",
       "3                     7               154  1.500000e-06  0.000150  \n",
       "4                    13               658  1.400000e-06  0.000150  "
      ]
     },
     "execution_count": 18,
     "metadata": {},
     "output_type": "execute_result"
    }
   ],
   "source": [
    "de_data['GO_7hr_diff_O2'].head()"
   ]
  },
  {
   "cell_type": "code",
   "execution_count": 12,
   "id": "8a21611c-5b10-4fda-aced-c2ccd5b2b151",
   "metadata": {},
   "outputs": [
    {
     "data": {
      "text/html": [
       "<div>\n",
       "<style scoped>\n",
       "    .dataframe tbody tr th:only-of-type {\n",
       "        vertical-align: middle;\n",
       "    }\n",
       "\n",
       "    .dataframe tbody tr th {\n",
       "        vertical-align: top;\n",
       "    }\n",
       "\n",
       "    .dataframe thead th {\n",
       "        text-align: right;\n",
       "    }\n",
       "</style>\n",
       "<table border=\"1\" class=\"dataframe\">\n",
       "  <thead>\n",
       "    <tr style=\"text-align: right;\">\n",
       "      <th></th>\n",
       "      <th>gene_id</th>\n",
       "      <th>baseMean</th>\n",
       "      <th>log2FoldChange</th>\n",
       "      <th>lfcSE</th>\n",
       "      <th>stat</th>\n",
       "      <th>pvalue</th>\n",
       "      <th>padj</th>\n",
       "      <th>symbol</th>\n",
       "      <th>full_name</th>\n",
       "      <th>gene_model_type</th>\n",
       "      <th>short_description</th>\n",
       "      <th>Curator_summary</th>\n",
       "      <th>Computational_description</th>\n",
       "    </tr>\n",
       "  </thead>\n",
       "  <tbody>\n",
       "    <tr>\n",
       "      <th>0</th>\n",
       "      <td>AT3G04840</td>\n",
       "      <td>2229.772790</td>\n",
       "      <td>0.929034</td>\n",
       "      <td>0.114890</td>\n",
       "      <td>2.994455</td>\n",
       "      <td>0.002749</td>\n",
       "      <td>0.025161</td>\n",
       "      <td>NaN</td>\n",
       "      <td>NaN</td>\n",
       "      <td>protein_coding</td>\n",
       "      <td>Ribosomal protein S3Ae</td>\n",
       "      <td>NaN</td>\n",
       "      <td>Ribosomal protein S3Ae;(source:Araport11)</td>\n",
       "    </tr>\n",
       "    <tr>\n",
       "      <th>1</th>\n",
       "      <td>AT3G60750</td>\n",
       "      <td>16908.922993</td>\n",
       "      <td>0.933207</td>\n",
       "      <td>0.093420</td>\n",
       "      <td>3.727321</td>\n",
       "      <td>0.000194</td>\n",
       "      <td>0.002390</td>\n",
       "      <td>AtTKL1</td>\n",
       "      <td>NaN</td>\n",
       "      <td>protein_coding</td>\n",
       "      <td>Transketolase</td>\n",
       "      <td>NaN</td>\n",
       "      <td>Transketolase;(source:Araport11)</td>\n",
       "    </tr>\n",
       "    <tr>\n",
       "      <th>2</th>\n",
       "      <td>AT3G04920</td>\n",
       "      <td>515.850268</td>\n",
       "      <td>0.937208</td>\n",
       "      <td>0.124674</td>\n",
       "      <td>2.825037</td>\n",
       "      <td>0.004728</td>\n",
       "      <td>0.039840</td>\n",
       "      <td>NaN</td>\n",
       "      <td>NaN</td>\n",
       "      <td>protein_coding</td>\n",
       "      <td>Ribosomal protein S24e family protein</td>\n",
       "      <td>NaN</td>\n",
       "      <td>Ribosomal protein S24e family protein;(source:...</td>\n",
       "    </tr>\n",
       "    <tr>\n",
       "      <th>3</th>\n",
       "      <td>AT4G00100</td>\n",
       "      <td>503.446385</td>\n",
       "      <td>0.945289</td>\n",
       "      <td>0.122242</td>\n",
       "      <td>2.947338</td>\n",
       "      <td>0.003205</td>\n",
       "      <td>0.028683</td>\n",
       "      <td>ATRPS13A</td>\n",
       "      <td>ribosomal protein S13A</td>\n",
       "      <td>protein_coding</td>\n",
       "      <td>ribosomal protein S13A</td>\n",
       "      <td>Encodes a cytoplasmic ribosomal protein S13 ho...</td>\n",
       "      <td>ribosomal protein S13A;(source:Araport11)</td>\n",
       "    </tr>\n",
       "    <tr>\n",
       "      <th>4</th>\n",
       "      <td>AT1G62390</td>\n",
       "      <td>685.440533</td>\n",
       "      <td>0.956702</td>\n",
       "      <td>0.131541</td>\n",
       "      <td>2.825743</td>\n",
       "      <td>0.004717</td>\n",
       "      <td>0.039784</td>\n",
       "      <td>CLMP1</td>\n",
       "      <td>CLUMPED CHLOROPLASTS 1</td>\n",
       "      <td>protein_coding</td>\n",
       "      <td>Octicosapeptide/Phox/Bem1p (PB1) domain-contai...</td>\n",
       "      <td>Encodes one of the 36 carboxylate clamp (CC)-t...</td>\n",
       "      <td>Octicosapeptide/Phox/Bem1p (PB1) domain-contai...</td>\n",
       "    </tr>\n",
       "  </tbody>\n",
       "</table>\n",
       "</div>"
      ],
      "text/plain": [
       "     gene_id      baseMean  log2FoldChange     lfcSE      stat    pvalue  \\\n",
       "0  AT3G04840   2229.772790        0.929034  0.114890  2.994455  0.002749   \n",
       "1  AT3G60750  16908.922993        0.933207  0.093420  3.727321  0.000194   \n",
       "2  AT3G04920    515.850268        0.937208  0.124674  2.825037  0.004728   \n",
       "3  AT4G00100    503.446385        0.945289  0.122242  2.947338  0.003205   \n",
       "4  AT1G62390    685.440533        0.956702  0.131541  2.825743  0.004717   \n",
       "\n",
       "       padj    symbol               full_name gene_model_type  \\\n",
       "0  0.025161       NaN                     NaN  protein_coding   \n",
       "1  0.002390    AtTKL1                     NaN  protein_coding   \n",
       "2  0.039840       NaN                     NaN  protein_coding   \n",
       "3  0.028683  ATRPS13A  ribosomal protein S13A  protein_coding   \n",
       "4  0.039784     CLMP1  CLUMPED CHLOROPLASTS 1  protein_coding   \n",
       "\n",
       "                                   short_description  \\\n",
       "0                             Ribosomal protein S3Ae   \n",
       "1                                      Transketolase   \n",
       "2              Ribosomal protein S24e family protein   \n",
       "3                             ribosomal protein S13A   \n",
       "4  Octicosapeptide/Phox/Bem1p (PB1) domain-contai...   \n",
       "\n",
       "                                     Curator_summary  \\\n",
       "0                                                NaN   \n",
       "1                                                NaN   \n",
       "2                                                NaN   \n",
       "3  Encodes a cytoplasmic ribosomal protein S13 ho...   \n",
       "4  Encodes one of the 36 carboxylate clamp (CC)-t...   \n",
       "\n",
       "                           Computational_description  \n",
       "0          Ribosomal protein S3Ae;(source:Araport11)  \n",
       "1                   Transketolase;(source:Araport11)  \n",
       "2  Ribosomal protein S24e family protein;(source:...  \n",
       "3          ribosomal protein S13A;(source:Araport11)  \n",
       "4  Octicosapeptide/Phox/Bem1p (PB1) domain-contai...  "
      ]
     },
     "execution_count": 12,
     "metadata": {},
     "output_type": "execute_result"
    }
   ],
   "source": [
    "de_data['New_data_1.5fold_up'].head()"
   ]
  },
  {
   "cell_type": "markdown",
   "id": "554150b8-58ca-4707-ad20-eeb01f2bd0f3",
   "metadata": {},
   "source": [
    "It's not clear to me how the GO enrichment was done or what the fold change was calculated as -- for example, is this time points or oxygen concentrations being compared? However, it looks like we do have the TPM values, so we can always redo the differential expression parts from scratch:"
   ]
  },
  {
   "cell_type": "code",
   "execution_count": 13,
   "id": "d3023c41-3dea-4ebd-bc4d-384a3e072f30",
   "metadata": {},
   "outputs": [
    {
     "data": {
      "text/html": [
       "<div>\n",
       "<style scoped>\n",
       "    .dataframe tbody tr th:only-of-type {\n",
       "        vertical-align: middle;\n",
       "    }\n",
       "\n",
       "    .dataframe tbody tr th {\n",
       "        vertical-align: top;\n",
       "    }\n",
       "\n",
       "    .dataframe thead th {\n",
       "        text-align: right;\n",
       "    }\n",
       "</style>\n",
       "<table border=\"1\" class=\"dataframe\">\n",
       "  <thead>\n",
       "    <tr style=\"text-align: right;\">\n",
       "      <th></th>\n",
       "      <th>gene_id</th>\n",
       "      <th>1h_2o2_e</th>\n",
       "      <th>1h_2o2_b</th>\n",
       "      <th>1h_2o2_c</th>\n",
       "      <th>1h_2o2_d</th>\n",
       "      <th>1h_21o2_a</th>\n",
       "      <th>1h_21o2_b</th>\n",
       "      <th>1h_21o2_c</th>\n",
       "      <th>1h_21o2_d</th>\n",
       "      <th>1h_40o2_a</th>\n",
       "      <th>...</th>\n",
       "      <th>7h_2o2_c</th>\n",
       "      <th>7h_2o2_d</th>\n",
       "      <th>7h_21o2_a</th>\n",
       "      <th>7h_21o2_b</th>\n",
       "      <th>7h_21o2_c</th>\n",
       "      <th>7h_21o2_d</th>\n",
       "      <th>7h_40o2_a</th>\n",
       "      <th>7h_40o2_b</th>\n",
       "      <th>7h_40o2_c</th>\n",
       "      <th>7h_40o2_d</th>\n",
       "    </tr>\n",
       "  </thead>\n",
       "  <tbody>\n",
       "    <tr>\n",
       "      <th>0</th>\n",
       "      <td>AT1G01010</td>\n",
       "      <td>0.526533</td>\n",
       "      <td>0.017122</td>\n",
       "      <td>0.170148</td>\n",
       "      <td>0.175678</td>\n",
       "      <td>0.110620</td>\n",
       "      <td>0.389363</td>\n",
       "      <td>0.278284</td>\n",
       "      <td>0.483240</td>\n",
       "      <td>0.070028</td>\n",
       "      <td>...</td>\n",
       "      <td>0.521071</td>\n",
       "      <td>0.311929</td>\n",
       "      <td>0.210737</td>\n",
       "      <td>0.107474</td>\n",
       "      <td>0.522988</td>\n",
       "      <td>0.982047</td>\n",
       "      <td>0.591505</td>\n",
       "      <td>0.401943</td>\n",
       "      <td>0.271770</td>\n",
       "      <td>0.589753</td>\n",
       "    </tr>\n",
       "    <tr>\n",
       "      <th>1</th>\n",
       "      <td>AT1G01020</td>\n",
       "      <td>3.944832</td>\n",
       "      <td>3.130740</td>\n",
       "      <td>2.445910</td>\n",
       "      <td>2.805833</td>\n",
       "      <td>3.019138</td>\n",
       "      <td>3.125869</td>\n",
       "      <td>4.402663</td>\n",
       "      <td>3.104490</td>\n",
       "      <td>3.378479</td>\n",
       "      <td>...</td>\n",
       "      <td>4.432259</td>\n",
       "      <td>4.682457</td>\n",
       "      <td>2.879975</td>\n",
       "      <td>3.246371</td>\n",
       "      <td>4.576372</td>\n",
       "      <td>3.641243</td>\n",
       "      <td>4.322213</td>\n",
       "      <td>4.522973</td>\n",
       "      <td>4.297565</td>\n",
       "      <td>4.230665</td>\n",
       "    </tr>\n",
       "    <tr>\n",
       "      <th>2</th>\n",
       "      <td>AT1G01030</td>\n",
       "      <td>1.443160</td>\n",
       "      <td>0.717511</td>\n",
       "      <td>0.684348</td>\n",
       "      <td>0.795837</td>\n",
       "      <td>0.925545</td>\n",
       "      <td>0.850774</td>\n",
       "      <td>1.269707</td>\n",
       "      <td>3.970444</td>\n",
       "      <td>2.375630</td>\n",
       "      <td>...</td>\n",
       "      <td>0.940386</td>\n",
       "      <td>1.202753</td>\n",
       "      <td>0.737332</td>\n",
       "      <td>1.096589</td>\n",
       "      <td>0.999126</td>\n",
       "      <td>1.288339</td>\n",
       "      <td>1.587556</td>\n",
       "      <td>1.039973</td>\n",
       "      <td>1.272698</td>\n",
       "      <td>1.410596</td>\n",
       "    </tr>\n",
       "    <tr>\n",
       "      <th>3</th>\n",
       "      <td>AT1G01040</td>\n",
       "      <td>1.009103</td>\n",
       "      <td>0.844558</td>\n",
       "      <td>1.165653</td>\n",
       "      <td>1.094549</td>\n",
       "      <td>0.992606</td>\n",
       "      <td>0.906846</td>\n",
       "      <td>1.142293</td>\n",
       "      <td>0.970341</td>\n",
       "      <td>1.268769</td>\n",
       "      <td>...</td>\n",
       "      <td>0.891758</td>\n",
       "      <td>0.961518</td>\n",
       "      <td>0.882134</td>\n",
       "      <td>0.767508</td>\n",
       "      <td>0.919561</td>\n",
       "      <td>0.889087</td>\n",
       "      <td>1.028282</td>\n",
       "      <td>0.959793</td>\n",
       "      <td>1.022762</td>\n",
       "      <td>0.751271</td>\n",
       "    </tr>\n",
       "    <tr>\n",
       "      <th>4</th>\n",
       "      <td>AT1G01046</td>\n",
       "      <td>0.000000</td>\n",
       "      <td>1.077077</td>\n",
       "      <td>0.000000</td>\n",
       "      <td>0.000000</td>\n",
       "      <td>0.000000</td>\n",
       "      <td>0.000000</td>\n",
       "      <td>0.000000</td>\n",
       "      <td>0.000000</td>\n",
       "      <td>0.000000</td>\n",
       "      <td>...</td>\n",
       "      <td>0.000000</td>\n",
       "      <td>0.000000</td>\n",
       "      <td>0.000000</td>\n",
       "      <td>0.000000</td>\n",
       "      <td>0.000000</td>\n",
       "      <td>0.000000</td>\n",
       "      <td>0.000000</td>\n",
       "      <td>0.000000</td>\n",
       "      <td>0.000000</td>\n",
       "      <td>0.000000</td>\n",
       "    </tr>\n",
       "  </tbody>\n",
       "</table>\n",
       "<p>5 rows × 25 columns</p>\n",
       "</div>"
      ],
      "text/plain": [
       "     gene_id  1h_2o2_e  1h_2o2_b  1h_2o2_c  1h_2o2_d  1h_21o2_a  1h_21o2_b  \\\n",
       "0  AT1G01010  0.526533  0.017122  0.170148  0.175678   0.110620   0.389363   \n",
       "1  AT1G01020  3.944832  3.130740  2.445910  2.805833   3.019138   3.125869   \n",
       "2  AT1G01030  1.443160  0.717511  0.684348  0.795837   0.925545   0.850774   \n",
       "3  AT1G01040  1.009103  0.844558  1.165653  1.094549   0.992606   0.906846   \n",
       "4  AT1G01046  0.000000  1.077077  0.000000  0.000000   0.000000   0.000000   \n",
       "\n",
       "   1h_21o2_c  1h_21o2_d  1h_40o2_a  ...  7h_2o2_c  7h_2o2_d  7h_21o2_a  \\\n",
       "0   0.278284   0.483240   0.070028  ...  0.521071  0.311929   0.210737   \n",
       "1   4.402663   3.104490   3.378479  ...  4.432259  4.682457   2.879975   \n",
       "2   1.269707   3.970444   2.375630  ...  0.940386  1.202753   0.737332   \n",
       "3   1.142293   0.970341   1.268769  ...  0.891758  0.961518   0.882134   \n",
       "4   0.000000   0.000000   0.000000  ...  0.000000  0.000000   0.000000   \n",
       "\n",
       "   7h_21o2_b  7h_21o2_c  7h_21o2_d  7h_40o2_a  7h_40o2_b  7h_40o2_c  7h_40o2_d  \n",
       "0   0.107474   0.522988   0.982047   0.591505   0.401943   0.271770   0.589753  \n",
       "1   3.246371   4.576372   3.641243   4.322213   4.522973   4.297565   4.230665  \n",
       "2   1.096589   0.999126   1.288339   1.587556   1.039973   1.272698   1.410596  \n",
       "3   0.767508   0.919561   0.889087   1.028282   0.959793   1.022762   0.751271  \n",
       "4   0.000000   0.000000   0.000000   0.000000   0.000000   0.000000   0.000000  \n",
       "\n",
       "[5 rows x 25 columns]"
      ]
     },
     "execution_count": 13,
     "metadata": {},
     "output_type": "execute_result"
    }
   ],
   "source": [
    "de_data['TPM_values_All_Samples_New_data_Feb03_2023'].head()"
   ]
  },
  {
   "cell_type": "markdown",
   "id": "ab49093c-57cb-429c-a07c-11d5a6a53c19",
   "metadata": {},
   "source": [
    "Let's make a PCA of TPM and see how it looks:"
   ]
  },
  {
   "cell_type": "code",
   "execution_count": 33,
   "id": "01ede652-14ec-4214-be1f-81cff14133de",
   "metadata": {},
   "outputs": [],
   "source": [
    "X = de_data['TPM_values_All_Samples_New_data_Feb03_2023'].drop('gene_id', axis=1).T.to_numpy()\n",
    "y = np.array(['_'.join(i.split('_')[:2]) for i in de_data['TPM_values_All_Samples_New_data_Feb03_2023'].drop('gene_id', axis=1).columns.tolist()])\n",
    "\n",
    "pca = PCA(n_components=2)\n",
    "X_r = pca.fit(X).transform(X)"
   ]
  },
  {
   "cell_type": "code",
   "execution_count": 34,
   "id": "99e2991f-85ee-4725-a3d5-bda5146bd372",
   "metadata": {},
   "outputs": [
    {
     "data": {
      "text/plain": [
       "(24, 33195)"
      ]
     },
     "execution_count": 34,
     "metadata": {},
     "output_type": "execute_result"
    }
   ],
   "source": [
    "X.shape"
   ]
  },
  {
   "cell_type": "code",
   "execution_count": 41,
   "id": "fe69984d-a9f9-4e5f-90c8-27f8c6144249",
   "metadata": {},
   "outputs": [
    {
     "data": {
      "text/plain": [
       "array(['1h_2o2', '1h_2o2', '1h_2o2', '1h_2o2', '1h_21o2', '1h_21o2',\n",
       "       '1h_21o2', '1h_21o2', '1h_40o2', '1h_40o2', '1h_40o2', '1h_40o2',\n",
       "       '7h_2o2', '7h_2o2', '7h_2o2', '7h_2o2', '7h_21o2', '7h_21o2',\n",
       "       '7h_21o2', '7h_21o2', '7h_40o2', '7h_40o2', '7h_40o2', '7h_40o2'],\n",
       "      dtype='<U7')"
      ]
     },
     "execution_count": 41,
     "metadata": {},
     "output_type": "execute_result"
    }
   ],
   "source": [
    "y"
   ]
  },
  {
   "cell_type": "code",
   "execution_count": 42,
   "id": "2d428f54-320c-4110-80d9-23cd0aea9f0b",
   "metadata": {},
   "outputs": [
    {
     "data": {
      "text/plain": [
       "{'1h_2o2': array([0.89019608, 0.46666667, 0.76078431, 1.        ]),\n",
       " '1h_21o2': array([0.61960784, 0.85490196, 0.89803922, 1.        ])}"
      ]
     },
     "execution_count": 42,
     "metadata": {},
     "output_type": "execute_result"
    }
   ],
   "source": [
    "colors"
   ]
  },
  {
   "cell_type": "code",
   "execution_count": 47,
   "id": "0130162e-0815-4c89-bd82-aec554c4cb37",
   "metadata": {},
   "outputs": [
    {
     "name": "stdout",
     "output_type": "stream",
     "text": [
      "{'7h_2o2': array([0.12156863, 0.46666667, 0.70588235, 1.        ]), '7h_21o2': array([0.17254902, 0.62745098, 0.17254902, 1.        ]), '1h_40o2': array([0.58039216, 0.40392157, 0.74117647, 1.        ]), '7h_40o2': array([0.89019608, 0.46666667, 0.76078431, 1.        ]), '1h_2o2': array([0.7372549 , 0.74117647, 0.13333333, 1.        ]), '1h_21o2': array([0.61960784, 0.85490196, 0.89803922, 1.        ])}\n"
     ]
    },
    {
     "data": {
      "text/plain": [
       "<Figure size 640x480 with 0 Axes>"
      ]
     },
     "metadata": {},
     "output_type": "display_data"
    },
    {
     "data": {
      "image/png": "[encoded data removed]",
      "text/plain": [
       "<Figure size 640x480 with 1 Axes>"
      ]
     },
     "metadata": {},
     "output_type": "display_data"
    }
   ],
   "source": [
    "plt.figure()\n",
    "colors = {i: c for i, c in zip(set(y), plt.cm.tab20(np.linspace(0, 1, len(set(y)))))}\n",
    "print(colors)\n",
    "pc1_ex_var, pc2_ex_var = pca.explained_variance_ratio_\n",
    "lw = 2\n",
    "\n",
    "fig, ax = plt.subplots(1)\n",
    "for i in y:\n",
    "    ax.scatter(\n",
    "        X_r[y == i, 0], X_r[y == i, 1], color=colors[i], alpha=0.8, lw=lw, label=i\n",
    "    )\n",
    "ax.set_xlabel(f'PC1 ({pc1_ex_var*100:.2f}%)')\n",
    "ax.set_ylabel(f'PC2 ({pc2_ex_var*100:.2f}%)')\n",
    "\n",
    "def legend_without_duplicate_labels(ax):\n",
    "    handles, labels = ax.get_legend_handles_labels()\n",
    "    unique = [(h, l) for i, (h, l) in enumerate(zip(handles[::-1], labels[::-1])) if l not in labels[::-1][:i]]\n",
    "    ax.legend(*zip(*unique), loc=(1.1,0))\n",
    "legend_without_duplicate_labels(ax)"
   ]
  }
 ],
 "metadata": {
  "kernelspec": {
   "display_name": "omics",
   "language": "python",
   "name": "omics"
  },
  "language_info": {
   "codemirror_mode": {
    "name": "ipython",
    "version": 3
   },
   "file_extension": ".py",
   "mimetype": "text/x-python",
   "name": "python",
   "nbconvert_exporter": "python",
   "pygments_lexer": "ipython3",
   "version": "3.9.19"
  }
 },
 "nbformat": 4,
 "nbformat_minor": 5
}
