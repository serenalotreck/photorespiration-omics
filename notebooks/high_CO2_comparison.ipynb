{
 "cells": [
  {
   "cell_type": "markdown",
   "id": "2df144b1-d24c-4909-a41a-51e4e66caf73",
   "metadata": {},
   "source": [
    "# High CO2 comparison\n",
    "In this notebook, we'll compare the results presented in [Eisenhut M et al. 2017](https://www.cell.com/molecular-plant/pdf/S1674-2052(16)30219-2.pdf) for the transition from high to ambient CO2 with our transition from ambient oxygen to high oxygen. These conditions are comaprable because they both involve increasing photorespuratory flux by increasing the ratio of oxygen:CO2 available to rubisco."
   ]
  },
  {
   "cell_type": "code",
   "execution_count": null,
   "id": "376acc37-5437-45e2-9b13-3e96d56339bb",
   "metadata": {},
   "outputs": [],
   "source": []
  }
 ],
 "metadata": {
  "kernelspec": {
   "display_name": "omics",
   "language": "python",
   "name": "omics"
  },
  "language_info": {
   "codemirror_mode": {
    "name": "ipython",
    "version": 3
   },
   "file_extension": ".py",
   "mimetype": "text/x-python",
   "name": "python",
   "nbconvert_exporter": "python",
   "pygments_lexer": "ipython3",
   "version": "3.10.16"
  }
 },
 "nbformat": 4,
 "nbformat_minor": 5
}
